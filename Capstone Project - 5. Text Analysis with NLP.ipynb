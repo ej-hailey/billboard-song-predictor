{
 "cells": [
  {
   "cell_type": "markdown",
   "id": "675dd35d",
   "metadata": {},
   "source": [
    "<h1> BrainStation Capstone Project</h1>\n",
    "\n",
    "<b>Is the song \"hot enough\" for Billboard Hot100 🔥</b>\n",
    "<br> Predicting the probability of a song reaching the Billboard Hot100 chart.</br>"
   ]
  },
  {
   "cell_type": "markdown",
   "id": "e9da32a0",
   "metadata": {},
   "source": [
    "Author: Hailey Lee\n",
    "<br>Contact: ejlee.hailey@gmail.com\n",
    "<br>Date: July 5, 2022\n",
    "\n",
    "---"
   ]
  },
  {
   "cell_type": "markdown",
   "id": "49dd0d41",
   "metadata": {},
   "source": [
    "# Natural Language Processing (NLP)"
   ]
  },
  {
   "cell_type": "markdown",
   "id": "2b3165e0",
   "metadata": {},
   "source": [
    "This workbook will focus solely on text analysis for our song lyrics. The workbook will take us step by step in pre-processing the data, vectorizing the data, and interpreting the data from various models. We will use TF-IDF (\"term frequency-inverse document frequency\") to score our tokens (or words) with a built-in feature from sklearn. The last section for topic modeling will use different packages called spaCy and Gensim which also perform similar processes as sklearn's vectorizer."
   ]
  },
  {
   "cell_type": "markdown",
   "id": "364bba5a",
   "metadata": {},
   "source": [
    "---\n",
    "#### Table of Contents:\n",
    "* [Score Summary](#scores)\n",
    "* [EDA and Data Cleaning](#edaclean)\n",
    "* [Data Preprocessing](#preprocess)\n",
    "* [Text Vectorization](#vect)\n",
    "* Text Modeling\n",
    "    * [Logistic Regression](#logreg1)\n",
    "    * [Dimensionality Reduction with PCA](#dimension)\n",
    "    * [Logistic Regression with PCA Transformation](#logreg2)\n",
    "    * [Logistic Regression with GridSearch](#logreg3)\n",
    "    * [Support Vector Machines](#svm1)\n",
    "* [Topic Modeling](#lda1)\n",
    "---"
   ]
  },
  {
   "cell_type": "markdown",
   "id": "734669ad",
   "metadata": {},
   "source": [
    "### Score Summary<a class=\"anchor\" id=\"scores\"></a>"
   ]
  },
  {
   "cell_type": "markdown",
   "id": "f3bf0603",
   "metadata": {},
   "source": [
    "|Model | Parameters / Changes | Train Set Score | Test Set Score |\n",
    "|:-----|:---------------------|:---------------:|:--------------:|\n",
    "|Logistic Regression | Default | 73.8% | 64.1% |\n",
    "| Logistic Regression with PCA Transformation | Default | 71.9 % | 64.0% |\n",
    "| SVM: Linear Support Vector Classifer | Default | 71.3% | 63.2% |\n",
    "| SVM: Radial Basis Function (RBF) Kernel | Default | 91.9% | 63.8% |\n",
    "| SVM: Polynomial (poly) Kernel | Default | 98.9% | 59.9% |\n",
    "| SVM: Sigmoid Kernel | Default | 62.8% | 62.5% |\n",
    "\n",
    "<br>\n",
    "<br>\n",
    "\n",
    "<center>Top 10 keywords predictive of Billboard/Non-Billboard Songs</center>\n",
    "\n",
    "|   | Positive Coefficients | Negative Coefficients |\n",
    "|:-:|:----------------------|:----------------------|\n",
    "|1. | Christmas | Weed |\n",
    "|2. | Drink | Flow | \n",
    "|3. | Truck | Rap | \n",
    "|4. | Whiskey | Imma | \n",
    "|5. | \"Mm\" | M************ | \n",
    "|6. | Dawg | Disappear |\n",
    "|7. | Ain't | Grave |\n",
    "|8. | Beer | Inside | \n",
    "|9. | Gang | Homie |\n",
    "|10.| Opps | Round |"
   ]
  },
  {
   "cell_type": "markdown",
   "id": "5b1ea75f",
   "metadata": {},
   "source": [
    "---\n",
    "### EDA and Data Cleaning<a class=\"anchor\" id=\"edaclean\"></a>"
   ]
  },
  {
   "cell_type": "code",
   "execution_count": 2,
   "id": "6a49da17",
   "metadata": {},
   "outputs": [],
   "source": [
    "import pandas as pd\n",
    "import matplotlib.pyplot as plt\n",
    "import numpy as np\n",
    "import seaborn as sns\n",
    "\n",
    "# for NLP (Natural Language Processing)\n",
    "from sklearn.feature_extraction.text import TfidfVectorizer\n",
    "import nltk\n",
    "from nltk.corpus import stopwords\n",
    "import re\n",
    "import spacy\n",
    "from spacy.lang.en.stop_words import STOP_WORDS\n",
    "from gensim.models import CoherenceModel, LdaMulticore\n",
    "from gensim.corpora.dictionary import Dictionary\n",
    "import pyLDAvis.gensim_models\n",
    "pyLDAvis.enable_notebook()\n",
    "import en_core_web_sm\n",
    "\n",
    "# to run models\n",
    "from sklearn.model_selection import train_test_split, GridSearchCV\n",
    "from sklearn.linear_model import LogisticRegression\n",
    "from sklearn.svm import SVC, LinearSVC\n",
    "from sklearn.decomposition import PCA, LatentDirichletAllocation\n",
    "from sklearn.pipeline import Pipeline\n",
    "from sklearn import set_config\n",
    "from tempfile import mkdtemp\n",
    "\n",
    "# ignore warning messages\n",
    "import warnings\n",
    "warnings.filterwarnings('ignore')"
   ]
  },
  {
   "cell_type": "code",
   "execution_count": 3,
   "id": "7c0c7046",
   "metadata": {},
   "outputs": [],
   "source": [
    "# import data\n",
    "songs_df = pd.read_csv('capstone_dataset_clean.csv')\n",
    "lyrics_df = pd.read_csv('capstone_dataset_lyrics.csv', encoding='latin1')"
   ]
  },
  {
   "cell_type": "code",
   "execution_count": 4,
   "id": "95f14493",
   "metadata": {},
   "outputs": [
    {
     "name": "stdout",
     "output_type": "stream",
     "text": [
      "songs_df shape: (13807, 44)\n",
      "lyrics_df shape: (14024, 5)\n"
     ]
    }
   ],
   "source": [
    "# look at the shapes of each dataset (rows, columns)\n",
    "print(f'songs_df shape: {songs_df.shape}')\n",
    "print(f'lyrics_df shape: {lyrics_df.shape}')"
   ]
  },
  {
   "cell_type": "code",
   "execution_count": 5,
   "id": "e413d049",
   "metadata": {
    "scrolled": false
   },
   "outputs": [
    {
     "data": {
      "text/plain": [
       "['Have Yourself a Merry Little Christmas LyricsHave yourself a merry little Christmas\\nLet your heart be light\\nFrom now on your troubles will be out of sight\\nHave yourself a merry little Christmas\\nMake the Yuletide gay\\nFrom now on your troubles will be miles away\\nHere we are as in olden days\\nHappy golden days of yore\\nFaithful friends who are dear to us\\nGather near to us once more\\nThrough the years we all will be together\\nIf the fates allow\\nHang a shining star upon the highest bow\\nSo have yourself a merry little Christmas\\nHave yourself a merry little Christmas\\nSo have yourself a merry little Christmas nowEmbed']"
      ]
     },
     "execution_count": 5,
     "metadata": {},
     "output_type": "execute_result"
    }
   ],
   "source": [
    "# see a sample lyric\n",
    "[x for x in lyrics_df['lyrics'].sample()]"
   ]
  },
  {
   "cell_type": "code",
   "execution_count": 6,
   "id": "5c800953",
   "metadata": {},
   "outputs": [
    {
     "name": "stdout",
     "output_type": "stream",
     "text": [
      "Previous Size: (14024, 5)\n",
      "Current Size: (13937, 5)\n"
     ]
    }
   ],
   "source": [
    "# drop rows without lyrics\n",
    "print(f'Previous Size: {lyrics_df.shape}')\n",
    "\n",
    "lyrics_df = lyrics_df.loc[(~lyrics_df['lyrics'].isna()) & (lyrics_df['lyrics'] != '-'), :]\n",
    "\n",
    "print(f'Current Size: {lyrics_df.shape}')"
   ]
  },
  {
   "cell_type": "code",
   "execution_count": 7,
   "id": "f31c9c5d",
   "metadata": {},
   "outputs": [
    {
     "name": "stdout",
     "output_type": "stream",
     "text": [
      "songs_lyrics_df shape: (13670, 8)\n"
     ]
    }
   ],
   "source": [
    "# pull target and track uri (for merging) & filter rows without track uri\n",
    "songs_df = songs_df[['billboard','billboard_year', 'billboard_month', 'track_uri']][songs_df['track_uri'] != '-']\n",
    "\n",
    "# merge by track_uri\n",
    "songs_lyrics_df = songs_df.merge(lyrics_df, how='left', on='track_uri')\n",
    "\n",
    "# drop rows that do not have lyrics\n",
    "songs_lyrics_df.dropna(inplace=True)\n",
    "\n",
    "# final dataset size\n",
    "print(f'songs_lyrics_df shape: {songs_lyrics_df.shape}')"
   ]
  },
  {
   "cell_type": "code",
   "execution_count": 8,
   "id": "67b2d0fb",
   "metadata": {
    "scrolled": true
   },
   "outputs": [
    {
     "data": {
      "text/html": [
       "<div>\n",
       "<style scoped>\n",
       "    .dataframe tbody tr th:only-of-type {\n",
       "        vertical-align: middle;\n",
       "    }\n",
       "\n",
       "    .dataframe tbody tr th {\n",
       "        vertical-align: top;\n",
       "    }\n",
       "\n",
       "    .dataframe thead th {\n",
       "        text-align: right;\n",
       "    }\n",
       "</style>\n",
       "<table border=\"1\" class=\"dataframe\">\n",
       "  <thead>\n",
       "    <tr style=\"text-align: right;\">\n",
       "      <th></th>\n",
       "      <th>billboard</th>\n",
       "      <th>billboard_year</th>\n",
       "      <th>billboard_month</th>\n",
       "      <th>track_uri</th>\n",
       "      <th>artist</th>\n",
       "      <th>feat_artist</th>\n",
       "      <th>song</th>\n",
       "      <th>lyrics</th>\n",
       "    </tr>\n",
       "  </thead>\n",
       "  <tbody>\n",
       "    <tr>\n",
       "      <th>5930</th>\n",
       "      <td>0</td>\n",
       "      <td>0</td>\n",
       "      <td>0</td>\n",
       "      <td>5zXmmhtXrhDbYnScaYpqZg</td>\n",
       "      <td>Jessie Reyez</td>\n",
       "      <td>-</td>\n",
       "      <td>Imported (with 6LACK)</td>\n",
       "      <td>Hi, my name is, doesn't matter I like making b...</td>\n",
       "    </tr>\n",
       "    <tr>\n",
       "      <th>7806</th>\n",
       "      <td>1</td>\n",
       "      <td>2018</td>\n",
       "      <td>10</td>\n",
       "      <td>3FKj2zOWuAt8wbpv3F2h6b</td>\n",
       "      <td>Lil Wayne</td>\n",
       "      <td>Sosamann</td>\n",
       "      <td>What About Me</td>\n",
       "      <td>What About Me Lyrics\\nIf you saw me, would you...</td>\n",
       "    </tr>\n",
       "    <tr>\n",
       "      <th>6693</th>\n",
       "      <td>1</td>\n",
       "      <td>2019</td>\n",
       "      <td>2</td>\n",
       "      <td>5NfJGBAL9mgFPRQxKJmiX2</td>\n",
       "      <td>Kelsea Ballerini</td>\n",
       "      <td>-</td>\n",
       "      <td>Miss Me More</td>\n",
       "      <td>Miss Me More Lyrics\\nI retired my red lipstick...</td>\n",
       "    </tr>\n",
       "    <tr>\n",
       "      <th>12983</th>\n",
       "      <td>0</td>\n",
       "      <td>0</td>\n",
       "      <td>0</td>\n",
       "      <td>1bFlyIMhjyZavdg5PXrkLs</td>\n",
       "      <td>Tyga</td>\n",
       "      <td>Blueface</td>\n",
       "      <td>Stash</td>\n",
       "      <td>Mustard on the beat, ho Pop champagne, put the...</td>\n",
       "    </tr>\n",
       "    <tr>\n",
       "      <th>5274</th>\n",
       "      <td>1</td>\n",
       "      <td>2013</td>\n",
       "      <td>1</td>\n",
       "      <td>7EIbjRAv9K5ccoH4XivnTk</td>\n",
       "      <td>Hunter Hayes</td>\n",
       "      <td>-</td>\n",
       "      <td>Somebody's Heartbreak</td>\n",
       "      <td>Somebody's Heartbreak Lyrics\\nI'd love to know...</td>\n",
       "    </tr>\n",
       "  </tbody>\n",
       "</table>\n",
       "</div>"
      ],
      "text/plain": [
       "       billboard  billboard_year  billboard_month               track_uri  \\\n",
       "5930           0               0                0  5zXmmhtXrhDbYnScaYpqZg   \n",
       "7806           1            2018               10  3FKj2zOWuAt8wbpv3F2h6b   \n",
       "6693           1            2019                2  5NfJGBAL9mgFPRQxKJmiX2   \n",
       "12983          0               0                0  1bFlyIMhjyZavdg5PXrkLs   \n",
       "5274           1            2013                1  7EIbjRAv9K5ccoH4XivnTk   \n",
       "\n",
       "                 artist feat_artist                   song  \\\n",
       "5930       Jessie Reyez           -  Imported (with 6LACK)   \n",
       "7806          Lil Wayne    Sosamann          What About Me   \n",
       "6693   Kelsea Ballerini           -           Miss Me More   \n",
       "12983              Tyga    Blueface                  Stash   \n",
       "5274       Hunter Hayes           -  Somebody's Heartbreak   \n",
       "\n",
       "                                                  lyrics  \n",
       "5930   Hi, my name is, doesn't matter I like making b...  \n",
       "7806   What About Me Lyrics\\nIf you saw me, would you...  \n",
       "6693   Miss Me More Lyrics\\nI retired my red lipstick...  \n",
       "12983  Mustard on the beat, ho Pop champagne, put the...  \n",
       "5274   Somebody's Heartbreak Lyrics\\nI'd love to know...  "
      ]
     },
     "execution_count": 8,
     "metadata": {},
     "output_type": "execute_result"
    }
   ],
   "source": [
    "# sample rows of new dataframe\n",
    "songs_lyrics_df.sample(5)"
   ]
  },
  {
   "cell_type": "code",
   "execution_count": 9,
   "id": "6513d3e2",
   "metadata": {
    "scrolled": true
   },
   "outputs": [
    {
     "name": "stdout",
     "output_type": "stream",
     "text": [
      "There are 0 null values.\n",
      "There are 13 duplicate values.\n"
     ]
    }
   ],
   "source": [
    "# check for NaN values and duplicates\n",
    "null = songs_lyrics_df.isna().sum().sum()\n",
    "dupes = songs_lyrics_df.duplicated(subset=['track_uri']).sum()\n",
    "\n",
    "print(f'There are {null} null values.')\n",
    "print(f'There are {dupes} duplicate values.')"
   ]
  },
  {
   "cell_type": "code",
   "execution_count": 10,
   "id": "9deb685d",
   "metadata": {
    "scrolled": true
   },
   "outputs": [
    {
     "data": {
      "text/html": [
       "<div>\n",
       "<style scoped>\n",
       "    .dataframe tbody tr th:only-of-type {\n",
       "        vertical-align: middle;\n",
       "    }\n",
       "\n",
       "    .dataframe tbody tr th {\n",
       "        vertical-align: top;\n",
       "    }\n",
       "\n",
       "    .dataframe thead th {\n",
       "        text-align: right;\n",
       "    }\n",
       "</style>\n",
       "<table border=\"1\" class=\"dataframe\">\n",
       "  <thead>\n",
       "    <tr style=\"text-align: right;\">\n",
       "      <th></th>\n",
       "      <th>billboard</th>\n",
       "      <th>billboard_year</th>\n",
       "      <th>billboard_month</th>\n",
       "      <th>track_uri</th>\n",
       "      <th>artist</th>\n",
       "      <th>feat_artist</th>\n",
       "      <th>song</th>\n",
       "      <th>lyrics</th>\n",
       "    </tr>\n",
       "  </thead>\n",
       "  <tbody>\n",
       "    <tr>\n",
       "      <th>8484</th>\n",
       "      <td>1</td>\n",
       "      <td>2018</td>\n",
       "      <td>2</td>\n",
       "      <td>08bNPGLD8AhKpnnERrAc6G</td>\n",
       "      <td>Marshmello &amp; Anne-Marie</td>\n",
       "      <td>-</td>\n",
       "      <td>Friends</td>\n",
       "      <td>FRIENDS Lyrics\\nOoh-oh, ooh-woh\\nOoh-oh, ooh-w...</td>\n",
       "    </tr>\n",
       "    <tr>\n",
       "      <th>8483</th>\n",
       "      <td>1</td>\n",
       "      <td>2018</td>\n",
       "      <td>2</td>\n",
       "      <td>08bNPGLD8AhKpnnERrAc6G</td>\n",
       "      <td>Marshmello</td>\n",
       "      <td>-</td>\n",
       "      <td>FRIENDS</td>\n",
       "      <td>FRIENDS Lyrics\\nOoh-oh, ooh-woh\\nOoh-oh, ooh-w...</td>\n",
       "    </tr>\n",
       "    <tr>\n",
       "      <th>5483</th>\n",
       "      <td>1</td>\n",
       "      <td>2016</td>\n",
       "      <td>12</td>\n",
       "      <td>0HtOJj7Kl74s1Ngf3MWeif</td>\n",
       "      <td>J. Cole</td>\n",
       "      <td>-</td>\n",
       "      <td>She's Mine Pt. 1</td>\n",
       "      <td>She's Mine, Pt. 1 Lyrics[Intro]\\nI never felt ...</td>\n",
       "    </tr>\n",
       "    <tr>\n",
       "      <th>5484</th>\n",
       "      <td>1</td>\n",
       "      <td>2016</td>\n",
       "      <td>12</td>\n",
       "      <td>0HtOJj7Kl74s1Ngf3MWeif</td>\n",
       "      <td>J. Cole</td>\n",
       "      <td>-</td>\n",
       "      <td>She's Mine Pt. 2</td>\n",
       "      <td>She's Mine, Pt. 1 Lyrics[Intro]\\nI never felt ...</td>\n",
       "    </tr>\n",
       "    <tr>\n",
       "      <th>11803</th>\n",
       "      <td>1</td>\n",
       "      <td>2013</td>\n",
       "      <td>1</td>\n",
       "      <td>0L4YCNRfXAoTvdpWeH2RGj</td>\n",
       "      <td>Taylor Swift</td>\n",
       "      <td>-</td>\n",
       "      <td>Begin Again</td>\n",
       "      <td>Begin Again Lyrics[Verse 1]\\nTook a deep breat...</td>\n",
       "    </tr>\n",
       "    <tr>\n",
       "      <th>11802</th>\n",
       "      <td>1</td>\n",
       "      <td>2013</td>\n",
       "      <td>1</td>\n",
       "      <td>0L4YCNRfXAoTvdpWeH2RGj</td>\n",
       "      <td>Taylor Swift</td>\n",
       "      <td>-</td>\n",
       "      <td>Begin Again</td>\n",
       "      <td>Begin Again Lyrics[Verse 1]\\nTook a deep breat...</td>\n",
       "    </tr>\n",
       "    <tr>\n",
       "      <th>5375</th>\n",
       "      <td>1</td>\n",
       "      <td>2022</td>\n",
       "      <td>5</td>\n",
       "      <td>1r9xUipOqoNwggBpENDsvJ</td>\n",
       "      <td>Imagine Dragons</td>\n",
       "      <td>JID</td>\n",
       "      <td>Enemy</td>\n",
       "      <td>Enemy Lyrics\\nLook out for yourself\\n\\nI wake ...</td>\n",
       "    </tr>\n",
       "    <tr>\n",
       "      <th>5378</th>\n",
       "      <td>1</td>\n",
       "      <td>2022</td>\n",
       "      <td>1</td>\n",
       "      <td>1r9xUipOqoNwggBpENDsvJ</td>\n",
       "      <td>Imagine Dragons &amp; JID</td>\n",
       "      <td>-</td>\n",
       "      <td>Enemy</td>\n",
       "      <td>Enemy Lyrics\\nLook out for yourself\\n\\nI wake ...</td>\n",
       "    </tr>\n",
       "    <tr>\n",
       "      <th>5377</th>\n",
       "      <td>1</td>\n",
       "      <td>2022</td>\n",
       "      <td>1</td>\n",
       "      <td>1r9xUipOqoNwggBpENDsvJ</td>\n",
       "      <td>Imagine Dragons</td>\n",
       "      <td>JID</td>\n",
       "      <td>Enemy</td>\n",
       "      <td>Enemy Lyrics\\nLook out for yourself\\n\\nI wake ...</td>\n",
       "    </tr>\n",
       "    <tr>\n",
       "      <th>5376</th>\n",
       "      <td>1</td>\n",
       "      <td>2022</td>\n",
       "      <td>5</td>\n",
       "      <td>1r9xUipOqoNwggBpENDsvJ</td>\n",
       "      <td>Imagine Dragons &amp; JID</td>\n",
       "      <td>-</td>\n",
       "      <td>Enemy</td>\n",
       "      <td>Enemy Lyrics\\nLook out for yourself\\n\\nI wake ...</td>\n",
       "    </tr>\n",
       "    <tr>\n",
       "      <th>8485</th>\n",
       "      <td>1</td>\n",
       "      <td>2019</td>\n",
       "      <td>1</td>\n",
       "      <td>2dpaYNEQHiRxtZbfNsse99</td>\n",
       "      <td>Marshmello</td>\n",
       "      <td>-</td>\n",
       "      <td>Happier</td>\n",
       "      <td>Happier Lyrics\\nLately, I've been, I've been t...</td>\n",
       "    </tr>\n",
       "    <tr>\n",
       "      <th>8486</th>\n",
       "      <td>1</td>\n",
       "      <td>2019</td>\n",
       "      <td>1</td>\n",
       "      <td>2dpaYNEQHiRxtZbfNsse99</td>\n",
       "      <td>Marshmello &amp; Bastille</td>\n",
       "      <td>-</td>\n",
       "      <td>Happier</td>\n",
       "      <td>Happier Lyrics\\nLately, I've been, I've been t...</td>\n",
       "    </tr>\n",
       "    <tr>\n",
       "      <th>8394</th>\n",
       "      <td>1</td>\n",
       "      <td>2011</td>\n",
       "      <td>1</td>\n",
       "      <td>4eXL9ici1ddorTRr5jJQvm</td>\n",
       "      <td>Mariah Carey</td>\n",
       "      <td>Ariana Grande, Jennifer Hudson</td>\n",
       "      <td>Oh Santa!</td>\n",
       "      <td>Oh Santa! Lyrics\\nOh, Santa's gon' come and ma...</td>\n",
       "    </tr>\n",
       "    <tr>\n",
       "      <th>8395</th>\n",
       "      <td>1</td>\n",
       "      <td>2011</td>\n",
       "      <td>1</td>\n",
       "      <td>4eXL9ici1ddorTRr5jJQvm</td>\n",
       "      <td>Mariah Carey</td>\n",
       "      <td>-</td>\n",
       "      <td>Oh Santa!</td>\n",
       "      <td>Oh Santa! Lyrics\\nOh, Santa's gon' come and ma...</td>\n",
       "    </tr>\n",
       "    <tr>\n",
       "      <th>8397</th>\n",
       "      <td>1</td>\n",
       "      <td>2020</td>\n",
       "      <td>12</td>\n",
       "      <td>4eXL9ici1ddorTRr5jJQvm</td>\n",
       "      <td>Mariah Carey</td>\n",
       "      <td>-</td>\n",
       "      <td>Oh Santa!</td>\n",
       "      <td>Oh Santa! Lyrics\\nOh, Santa's gon' come and ma...</td>\n",
       "    </tr>\n",
       "    <tr>\n",
       "      <th>8396</th>\n",
       "      <td>1</td>\n",
       "      <td>2020</td>\n",
       "      <td>12</td>\n",
       "      <td>4eXL9ici1ddorTRr5jJQvm</td>\n",
       "      <td>Mariah Carey</td>\n",
       "      <td>Ariana Grande, Jennifer Hudson</td>\n",
       "      <td>Oh Santa!</td>\n",
       "      <td>Oh Santa! Lyrics\\nOh, Santa's gon' come and ma...</td>\n",
       "    </tr>\n",
       "    <tr>\n",
       "      <th>6436</th>\n",
       "      <td>1</td>\n",
       "      <td>2021</td>\n",
       "      <td>9</td>\n",
       "      <td>68RhNM8ehkarnEKnCkqlsp</td>\n",
       "      <td>Kanye West</td>\n",
       "      <td>-</td>\n",
       "      <td>24</td>\n",
       "      <td>24 Lyrics\\nDear God, make it alright\\nOnly You...</td>\n",
       "    </tr>\n",
       "    <tr>\n",
       "      <th>6435</th>\n",
       "      <td>1</td>\n",
       "      <td>2021</td>\n",
       "      <td>9</td>\n",
       "      <td>68RhNM8ehkarnEKnCkqlsp</td>\n",
       "      <td>Kanye West</td>\n",
       "      <td>-</td>\n",
       "      <td>24</td>\n",
       "      <td>24 Lyrics\\nDear God, make it alright\\nOnly You...</td>\n",
       "    </tr>\n",
       "    <tr>\n",
       "      <th>11175</th>\n",
       "      <td>1</td>\n",
       "      <td>2020</td>\n",
       "      <td>1</td>\n",
       "      <td>7HMmFQsKsljwTw8bS7lu19</td>\n",
       "      <td>Selena Gomez</td>\n",
       "      <td>-</td>\n",
       "      <td>Rare</td>\n",
       "      <td>Rare Lyrics\\nBaby\\nYou've been so distant from...</td>\n",
       "    </tr>\n",
       "    <tr>\n",
       "      <th>11176</th>\n",
       "      <td>1</td>\n",
       "      <td>2020</td>\n",
       "      <td>1</td>\n",
       "      <td>7HMmFQsKsljwTw8bS7lu19</td>\n",
       "      <td>Selena Gomez</td>\n",
       "      <td>-</td>\n",
       "      <td>Rare</td>\n",
       "      <td>Rare Lyrics\\nBaby\\nYou've been so distant from...</td>\n",
       "    </tr>\n",
       "    <tr>\n",
       "      <th>9614</th>\n",
       "      <td>1</td>\n",
       "      <td>2017</td>\n",
       "      <td>1</td>\n",
       "      <td>7LAhKXDNWwq3CmnFP3UIOP</td>\n",
       "      <td>Offset</td>\n",
       "      <td>Metro Boomin</td>\n",
       "      <td>Nightmare</td>\n",
       "      <td>No Heart Lyrics\\nSouthside, Southside on the, ...</td>\n",
       "    </tr>\n",
       "    <tr>\n",
       "      <th>9615</th>\n",
       "      <td>1</td>\n",
       "      <td>2017</td>\n",
       "      <td>1</td>\n",
       "      <td>7LAhKXDNWwq3CmnFP3UIOP</td>\n",
       "      <td>Offset</td>\n",
       "      <td>Metro Boomin</td>\n",
       "      <td>Nightmare</td>\n",
       "      <td>No Heart Lyrics\\nSouthside, Southside on the, ...</td>\n",
       "    </tr>\n",
       "  </tbody>\n",
       "</table>\n",
       "</div>"
      ],
      "text/plain": [
       "       billboard  billboard_year  billboard_month               track_uri  \\\n",
       "8484           1            2018                2  08bNPGLD8AhKpnnERrAc6G   \n",
       "8483           1            2018                2  08bNPGLD8AhKpnnERrAc6G   \n",
       "5483           1            2016               12  0HtOJj7Kl74s1Ngf3MWeif   \n",
       "5484           1            2016               12  0HtOJj7Kl74s1Ngf3MWeif   \n",
       "11803          1            2013                1  0L4YCNRfXAoTvdpWeH2RGj   \n",
       "11802          1            2013                1  0L4YCNRfXAoTvdpWeH2RGj   \n",
       "5375           1            2022                5  1r9xUipOqoNwggBpENDsvJ   \n",
       "5378           1            2022                1  1r9xUipOqoNwggBpENDsvJ   \n",
       "5377           1            2022                1  1r9xUipOqoNwggBpENDsvJ   \n",
       "5376           1            2022                5  1r9xUipOqoNwggBpENDsvJ   \n",
       "8485           1            2019                1  2dpaYNEQHiRxtZbfNsse99   \n",
       "8486           1            2019                1  2dpaYNEQHiRxtZbfNsse99   \n",
       "8394           1            2011                1  4eXL9ici1ddorTRr5jJQvm   \n",
       "8395           1            2011                1  4eXL9ici1ddorTRr5jJQvm   \n",
       "8397           1            2020               12  4eXL9ici1ddorTRr5jJQvm   \n",
       "8396           1            2020               12  4eXL9ici1ddorTRr5jJQvm   \n",
       "6436           1            2021                9  68RhNM8ehkarnEKnCkqlsp   \n",
       "6435           1            2021                9  68RhNM8ehkarnEKnCkqlsp   \n",
       "11175          1            2020                1  7HMmFQsKsljwTw8bS7lu19   \n",
       "11176          1            2020                1  7HMmFQsKsljwTw8bS7lu19   \n",
       "9614           1            2017                1  7LAhKXDNWwq3CmnFP3UIOP   \n",
       "9615           1            2017                1  7LAhKXDNWwq3CmnFP3UIOP   \n",
       "\n",
       "                        artist                     feat_artist  \\\n",
       "8484   Marshmello & Anne-Marie                               -   \n",
       "8483                Marshmello                               -   \n",
       "5483                   J. Cole                               -   \n",
       "5484                   J. Cole                               -   \n",
       "11803             Taylor Swift                               -   \n",
       "11802             Taylor Swift                               -   \n",
       "5375           Imagine Dragons                             JID   \n",
       "5378     Imagine Dragons & JID                               -   \n",
       "5377           Imagine Dragons                             JID   \n",
       "5376     Imagine Dragons & JID                               -   \n",
       "8485                Marshmello                               -   \n",
       "8486     Marshmello & Bastille                               -   \n",
       "8394              Mariah Carey  Ariana Grande, Jennifer Hudson   \n",
       "8395              Mariah Carey                               -   \n",
       "8397              Mariah Carey                               -   \n",
       "8396              Mariah Carey  Ariana Grande, Jennifer Hudson   \n",
       "6436                Kanye West                               -   \n",
       "6435                Kanye West                               -   \n",
       "11175             Selena Gomez                               -   \n",
       "11176             Selena Gomez                               -   \n",
       "9614                    Offset                    Metro Boomin   \n",
       "9615                    Offset                    Metro Boomin   \n",
       "\n",
       "                   song                                             lyrics  \n",
       "8484            Friends  FRIENDS Lyrics\\nOoh-oh, ooh-woh\\nOoh-oh, ooh-w...  \n",
       "8483            FRIENDS  FRIENDS Lyrics\\nOoh-oh, ooh-woh\\nOoh-oh, ooh-w...  \n",
       "5483   She's Mine Pt. 1  She's Mine, Pt. 1 Lyrics[Intro]\\nI never felt ...  \n",
       "5484   She's Mine Pt. 2  She's Mine, Pt. 1 Lyrics[Intro]\\nI never felt ...  \n",
       "11803       Begin Again  Begin Again Lyrics[Verse 1]\\nTook a deep breat...  \n",
       "11802       Begin Again  Begin Again Lyrics[Verse 1]\\nTook a deep breat...  \n",
       "5375              Enemy  Enemy Lyrics\\nLook out for yourself\\n\\nI wake ...  \n",
       "5378              Enemy  Enemy Lyrics\\nLook out for yourself\\n\\nI wake ...  \n",
       "5377              Enemy  Enemy Lyrics\\nLook out for yourself\\n\\nI wake ...  \n",
       "5376              Enemy  Enemy Lyrics\\nLook out for yourself\\n\\nI wake ...  \n",
       "8485            Happier  Happier Lyrics\\nLately, I've been, I've been t...  \n",
       "8486            Happier  Happier Lyrics\\nLately, I've been, I've been t...  \n",
       "8394          Oh Santa!  Oh Santa! Lyrics\\nOh, Santa's gon' come and ma...  \n",
       "8395          Oh Santa!  Oh Santa! Lyrics\\nOh, Santa's gon' come and ma...  \n",
       "8397          Oh Santa!  Oh Santa! Lyrics\\nOh, Santa's gon' come and ma...  \n",
       "8396          Oh Santa!  Oh Santa! Lyrics\\nOh, Santa's gon' come and ma...  \n",
       "6436                 24  24 Lyrics\\nDear God, make it alright\\nOnly You...  \n",
       "6435                 24  24 Lyrics\\nDear God, make it alright\\nOnly You...  \n",
       "11175              Rare  Rare Lyrics\\nBaby\\nYou've been so distant from...  \n",
       "11176              Rare  Rare Lyrics\\nBaby\\nYou've been so distant from...  \n",
       "9614          Nightmare  No Heart Lyrics\\nSouthside, Southside on the, ...  \n",
       "9615          Nightmare  No Heart Lyrics\\nSouthside, Southside on the, ...  "
      ]
     },
     "execution_count": 10,
     "metadata": {},
     "output_type": "execute_result"
    }
   ],
   "source": [
    "# pull all the duplicate rows\n",
    "songs_lyrics_df.loc[songs_lyrics_df.duplicated(subset=['track_uri'], keep=False),:].sort_values(by='track_uri')"
   ]
  },
  {
   "cell_type": "code",
   "execution_count": 11,
   "id": "929406e8",
   "metadata": {},
   "outputs": [],
   "source": [
    "# drop the duplicates\n",
    "songs_lyrics_df.drop_duplicates(subset=['track_uri'], keep='first', inplace=True, ignore_index=False)"
   ]
  },
  {
   "cell_type": "code",
   "execution_count": 12,
   "id": "c9c256a0",
   "metadata": {
    "scrolled": true
   },
   "outputs": [
    {
     "name": "stdout",
     "output_type": "stream",
     "text": [
      "<class 'pandas.core.frame.DataFrame'>\n",
      "Int64Index: 13657 entries, 0 to 13783\n",
      "Data columns (total 8 columns):\n",
      " #   Column           Non-Null Count  Dtype \n",
      "---  ------           --------------  ----- \n",
      " 0   billboard        13657 non-null  int64 \n",
      " 1   billboard_year   13657 non-null  int64 \n",
      " 2   billboard_month  13657 non-null  int64 \n",
      " 3   track_uri        13657 non-null  object\n",
      " 4   artist           13657 non-null  object\n",
      " 5   feat_artist      13657 non-null  object\n",
      " 6   song             13657 non-null  object\n",
      " 7   lyrics           13657 non-null  object\n",
      "dtypes: int64(3), object(5)\n",
      "memory usage: 960.3+ KB\n"
     ]
    }
   ],
   "source": [
    "# final check\n",
    "songs_lyrics_df.info()"
   ]
  },
  {
   "cell_type": "markdown",
   "id": "fb6daf78",
   "metadata": {},
   "source": [
    "### Data Preprocessing<a class=\"anchor\" id=\"preprocess\"></a>"
   ]
  },
  {
   "cell_type": "markdown",
   "id": "32231cdd",
   "metadata": {},
   "source": [
    "We will pre-process our lyrics before vectorization as there is a lot to clean and modify. The following code will:\n",
    "- remove song titles and artist names inside the lyrics\n",
    "- remove words related to music composition\n",
    "- remove non-ASCII characters\n",
    "- expand shortened words like *singin'* to *singing*"
   ]
  },
  {
   "cell_type": "code",
   "execution_count": 13,
   "id": "b5875aca",
   "metadata": {},
   "outputs": [],
   "source": [
    "def preprocess_text(lyrics):\n",
    "    \n",
    "    # replace new line characters with whitespace\n",
    "    lyrics = lyrics.replace('\\n', ' ')\n",
    "        \n",
    "    # remove song titles\n",
    "    for song in songs_lyrics_df['song'].unique():\n",
    "        \n",
    "        # ignore song titles with less than 3 characters\n",
    "        if len(song) < 3:\n",
    "            continue\n",
    "        else:\n",
    "            lyrics = lyrics.replace(song,'')\n",
    "        \n",
    "    # remove artist names\n",
    "    for artist in songs_lyrics_df['artist'].unique():\n",
    "        \n",
    "        # if artist is less than 3 characters, ignore\n",
    "        if len(artist) < 3:\n",
    "            continue\n",
    "        else:\n",
    "            lyrics = lyrics.replace(artist,'')\n",
    "   \n",
    "    # replace non-ascii characters with space\n",
    "    lyrics = re.sub(\"[^\\x00-\\x7F]+\",' ',lyrics)\n",
    "    \n",
    "    # lowercase\n",
    "    lyrics = lyrics.lower()\n",
    "    \n",
    "    # replace song structure words\n",
    "    for structure in ['lyrics','intro', 'verse 1', 'verse 2', 'verse 3', 'verse 4', 'verse', 'verses', 'chorus', 'pre-chorus',\n",
    "                      'prechorus', 'post-chorus', 'postchorus', 'outro', 'hook', 'bridge', 'embed', 'pre', 'post',\n",
    "                      'repeat', 'lyric', 'x2', 'x3', 'refrain']:\n",
    "        lyrics = lyrics.replace(structure,'')\n",
    "    \n",
    "    # expand words e.g. singin' to singing\n",
    "    lyrics = lyrics.replace(\"in'\", \"ing\")\n",
    "    lyrics = lyrics.replace(\"in\\'\", \"ing\")\n",
    "    # but revert \" ain't \" back to original\n",
    "    lyrics = lyrics.replace(\"aingt\", \"ain't\")\n",
    "        \n",
    "    return lyrics"
   ]
  },
  {
   "cell_type": "code",
   "execution_count": 14,
   "id": "c23e4c0a",
   "metadata": {},
   "outputs": [],
   "source": [
    "# apply function to the dataframe\n",
    "songs_lyrics_df['lyrics'] = songs_lyrics_df['lyrics'].apply(preprocess_text)"
   ]
  },
  {
   "cell_type": "markdown",
   "id": "545ae4fd",
   "metadata": {},
   "source": [
    "---\n",
    "### Text Vectorization<a class=\"anchor\" id=\"vect\"></a>\n",
    "\n",
    "We are using the TF-IDF vectorization method because the Bag-of-Words model only considers the frequency of words. This could lead to bias as songs tend to have many repetitive words. TF-IDF outputs a normalized count and calculates the relative frequency to all the documents. Technically speaking, TF-IDF measures how many times a word appears in a document and the inverse document frequency of the word across a set of documents. The higher the weight of the TF-IDF score, the rarer the term is in a given document and vice versa."
   ]
  },
  {
   "cell_type": "markdown",
   "id": "59b0a2a6",
   "metadata": {},
   "source": [
    "#### Train/Test Split"
   ]
  },
  {
   "cell_type": "code",
   "execution_count": 15,
   "id": "8b58b2fb",
   "metadata": {},
   "outputs": [],
   "source": [
    "# assign target variable and features\n",
    "y = songs_lyrics_df['billboard']\n",
    "X = songs_lyrics_df.drop(columns='billboard')\n",
    "\n",
    "# 75/25 split\n",
    "X_train, X_test, y_train, y_test = train_test_split(X, y, \n",
    "                                                    test_size = 0.25,\n",
    "                                                    random_state = 15)"
   ]
  },
  {
   "cell_type": "code",
   "execution_count": 16,
   "id": "89ee06a6",
   "metadata": {},
   "outputs": [
    {
     "name": "stdout",
     "output_type": "stream",
     "text": [
      "X_train has 10242 rows and 7 columns.\n",
      "y_train has 10242 rows and 1 column.\n",
      "X_test has 3415 rows and 7 columns\n",
      "y_test has 3415 rows and 1 column.\n"
     ]
    }
   ],
   "source": [
    "print(f'X_train has {X_train.shape[0]} rows and {X_train.shape[1]} columns.')\n",
    "print(f'y_train has {y_train.shape[0]} rows and 1 column.')\n",
    "print(f'X_test has {X_test.shape[0]} rows and {X_test.shape[1]} columns')\n",
    "print(f'y_test has {y_test.shape[0]} rows and 1 column.')"
   ]
  },
  {
   "cell_type": "code",
   "execution_count": 17,
   "id": "03b6290e",
   "metadata": {},
   "outputs": [
    {
     "data": {
      "text/plain": [
       "Index(['billboard_year', 'billboard_month', 'track_uri', 'artist',\n",
       "       'feat_artist', 'song', 'lyrics'],\n",
       "      dtype='object')"
      ]
     },
     "execution_count": 17,
     "metadata": {},
     "output_type": "execute_result"
    }
   ],
   "source": [
    "# check our features - we'll only need the lyrics column\n",
    "X_train.columns"
   ]
  },
  {
   "cell_type": "markdown",
   "id": "bdbac18b",
   "metadata": {},
   "source": [
    "#### Text Vectorization"
   ]
  },
  {
   "cell_type": "code",
   "execution_count": 18,
   "id": "d19ab342",
   "metadata": {},
   "outputs": [],
   "source": [
    "# tokenize the lyrics\n",
    "X_train['lyrics'].str.split(' ')\n",
    "\n",
    "# 1. instantiate \n",
    "vectorizer = TfidfVectorizer()\n",
    "\n",
    "# 2. fit \n",
    "vectorizer.fit(X_train['lyrics'])\n",
    "\n",
    "# 3. transform\n",
    "train_lyrics_transformed = vectorizer.transform(X_train['lyrics'])"
   ]
  },
  {
   "cell_type": "markdown",
   "id": "0f381e9b",
   "metadata": {},
   "source": [
    "X_train has been transformed to a sparse matrix:"
   ]
  },
  {
   "cell_type": "code",
   "execution_count": 19,
   "id": "4296cf9a",
   "metadata": {
    "scrolled": true
   },
   "outputs": [
    {
     "data": {
      "text/plain": [
       "<10242x44147 sparse matrix of type '<class 'numpy.float64'>'\n",
       "\twith 1275087 stored elements in Compressed Sparse Row format>"
      ]
     },
     "execution_count": 19,
     "metadata": {},
     "output_type": "execute_result"
    }
   ],
   "source": [
    "train_lyrics_transformed"
   ]
  },
  {
   "cell_type": "markdown",
   "id": "1f842cda",
   "metadata": {},
   "source": [
    "But we can always convert it back to a dataframe by transforming it to an array and then attaching the feature names."
   ]
  },
  {
   "cell_type": "code",
   "execution_count": 20,
   "id": "afbfb148",
   "metadata": {
    "scrolled": false
   },
   "outputs": [
    {
     "data": {
      "text/html": [
       "<div>\n",
       "<style scoped>\n",
       "    .dataframe tbody tr th:only-of-type {\n",
       "        vertical-align: middle;\n",
       "    }\n",
       "\n",
       "    .dataframe tbody tr th {\n",
       "        vertical-align: top;\n",
       "    }\n",
       "\n",
       "    .dataframe thead th {\n",
       "        text-align: right;\n",
       "    }\n",
       "</style>\n",
       "<table border=\"1\" class=\"dataframe\">\n",
       "  <thead>\n",
       "    <tr style=\"text-align: right;\">\n",
       "      <th></th>\n",
       "      <th>00</th>\n",
       "      <th>000</th>\n",
       "      <th>007</th>\n",
       "      <th>01</th>\n",
       "      <th>0121</th>\n",
       "      <th>0128</th>\n",
       "      <th>013</th>\n",
       "      <th>02</th>\n",
       "      <th>03</th>\n",
       "      <th>04</th>\n",
       "      <th>...</th>\n",
       "      <th>zuu</th>\n",
       "      <th>zwei</th>\n",
       "      <th>zwischen</th>\n",
       "      <th>zy</th>\n",
       "      <th>zypitano</th>\n",
       "      <th>zz</th>\n",
       "      <th>zzies</th>\n",
       "      <th>zzy</th>\n",
       "      <th>zzz</th>\n",
       "      <th>zzzzt</th>\n",
       "    </tr>\n",
       "  </thead>\n",
       "  <tbody>\n",
       "    <tr>\n",
       "      <th>0</th>\n",
       "      <td>0.0</td>\n",
       "      <td>0.0</td>\n",
       "      <td>0.0</td>\n",
       "      <td>0.0</td>\n",
       "      <td>0.0</td>\n",
       "      <td>0.0</td>\n",
       "      <td>0.0</td>\n",
       "      <td>0.0</td>\n",
       "      <td>0.0</td>\n",
       "      <td>0.0</td>\n",
       "      <td>...</td>\n",
       "      <td>0.0</td>\n",
       "      <td>0.0</td>\n",
       "      <td>0.0</td>\n",
       "      <td>0.0</td>\n",
       "      <td>0.0</td>\n",
       "      <td>0.0</td>\n",
       "      <td>0.0</td>\n",
       "      <td>0.0</td>\n",
       "      <td>0.0</td>\n",
       "      <td>0.0</td>\n",
       "    </tr>\n",
       "    <tr>\n",
       "      <th>1</th>\n",
       "      <td>0.0</td>\n",
       "      <td>0.0</td>\n",
       "      <td>0.0</td>\n",
       "      <td>0.0</td>\n",
       "      <td>0.0</td>\n",
       "      <td>0.0</td>\n",
       "      <td>0.0</td>\n",
       "      <td>0.0</td>\n",
       "      <td>0.0</td>\n",
       "      <td>0.0</td>\n",
       "      <td>...</td>\n",
       "      <td>0.0</td>\n",
       "      <td>0.0</td>\n",
       "      <td>0.0</td>\n",
       "      <td>0.0</td>\n",
       "      <td>0.0</td>\n",
       "      <td>0.0</td>\n",
       "      <td>0.0</td>\n",
       "      <td>0.0</td>\n",
       "      <td>0.0</td>\n",
       "      <td>0.0</td>\n",
       "    </tr>\n",
       "    <tr>\n",
       "      <th>2</th>\n",
       "      <td>0.0</td>\n",
       "      <td>0.0</td>\n",
       "      <td>0.0</td>\n",
       "      <td>0.0</td>\n",
       "      <td>0.0</td>\n",
       "      <td>0.0</td>\n",
       "      <td>0.0</td>\n",
       "      <td>0.0</td>\n",
       "      <td>0.0</td>\n",
       "      <td>0.0</td>\n",
       "      <td>...</td>\n",
       "      <td>0.0</td>\n",
       "      <td>0.0</td>\n",
       "      <td>0.0</td>\n",
       "      <td>0.0</td>\n",
       "      <td>0.0</td>\n",
       "      <td>0.0</td>\n",
       "      <td>0.0</td>\n",
       "      <td>0.0</td>\n",
       "      <td>0.0</td>\n",
       "      <td>0.0</td>\n",
       "    </tr>\n",
       "    <tr>\n",
       "      <th>3</th>\n",
       "      <td>0.0</td>\n",
       "      <td>0.0</td>\n",
       "      <td>0.0</td>\n",
       "      <td>0.0</td>\n",
       "      <td>0.0</td>\n",
       "      <td>0.0</td>\n",
       "      <td>0.0</td>\n",
       "      <td>0.0</td>\n",
       "      <td>0.0</td>\n",
       "      <td>0.0</td>\n",
       "      <td>...</td>\n",
       "      <td>0.0</td>\n",
       "      <td>0.0</td>\n",
       "      <td>0.0</td>\n",
       "      <td>0.0</td>\n",
       "      <td>0.0</td>\n",
       "      <td>0.0</td>\n",
       "      <td>0.0</td>\n",
       "      <td>0.0</td>\n",
       "      <td>0.0</td>\n",
       "      <td>0.0</td>\n",
       "    </tr>\n",
       "    <tr>\n",
       "      <th>4</th>\n",
       "      <td>0.0</td>\n",
       "      <td>0.0</td>\n",
       "      <td>0.0</td>\n",
       "      <td>0.0</td>\n",
       "      <td>0.0</td>\n",
       "      <td>0.0</td>\n",
       "      <td>0.0</td>\n",
       "      <td>0.0</td>\n",
       "      <td>0.0</td>\n",
       "      <td>0.0</td>\n",
       "      <td>...</td>\n",
       "      <td>0.0</td>\n",
       "      <td>0.0</td>\n",
       "      <td>0.0</td>\n",
       "      <td>0.0</td>\n",
       "      <td>0.0</td>\n",
       "      <td>0.0</td>\n",
       "      <td>0.0</td>\n",
       "      <td>0.0</td>\n",
       "      <td>0.0</td>\n",
       "      <td>0.0</td>\n",
       "    </tr>\n",
       "    <tr>\n",
       "      <th>...</th>\n",
       "      <td>...</td>\n",
       "      <td>...</td>\n",
       "      <td>...</td>\n",
       "      <td>...</td>\n",
       "      <td>...</td>\n",
       "      <td>...</td>\n",
       "      <td>...</td>\n",
       "      <td>...</td>\n",
       "      <td>...</td>\n",
       "      <td>...</td>\n",
       "      <td>...</td>\n",
       "      <td>...</td>\n",
       "      <td>...</td>\n",
       "      <td>...</td>\n",
       "      <td>...</td>\n",
       "      <td>...</td>\n",
       "      <td>...</td>\n",
       "      <td>...</td>\n",
       "      <td>...</td>\n",
       "      <td>...</td>\n",
       "      <td>...</td>\n",
       "    </tr>\n",
       "    <tr>\n",
       "      <th>10237</th>\n",
       "      <td>0.0</td>\n",
       "      <td>0.0</td>\n",
       "      <td>0.0</td>\n",
       "      <td>0.0</td>\n",
       "      <td>0.0</td>\n",
       "      <td>0.0</td>\n",
       "      <td>0.0</td>\n",
       "      <td>0.0</td>\n",
       "      <td>0.0</td>\n",
       "      <td>0.0</td>\n",
       "      <td>...</td>\n",
       "      <td>0.0</td>\n",
       "      <td>0.0</td>\n",
       "      <td>0.0</td>\n",
       "      <td>0.0</td>\n",
       "      <td>0.0</td>\n",
       "      <td>0.0</td>\n",
       "      <td>0.0</td>\n",
       "      <td>0.0</td>\n",
       "      <td>0.0</td>\n",
       "      <td>0.0</td>\n",
       "    </tr>\n",
       "    <tr>\n",
       "      <th>10238</th>\n",
       "      <td>0.0</td>\n",
       "      <td>0.0</td>\n",
       "      <td>0.0</td>\n",
       "      <td>0.0</td>\n",
       "      <td>0.0</td>\n",
       "      <td>0.0</td>\n",
       "      <td>0.0</td>\n",
       "      <td>0.0</td>\n",
       "      <td>0.0</td>\n",
       "      <td>0.0</td>\n",
       "      <td>...</td>\n",
       "      <td>0.0</td>\n",
       "      <td>0.0</td>\n",
       "      <td>0.0</td>\n",
       "      <td>0.0</td>\n",
       "      <td>0.0</td>\n",
       "      <td>0.0</td>\n",
       "      <td>0.0</td>\n",
       "      <td>0.0</td>\n",
       "      <td>0.0</td>\n",
       "      <td>0.0</td>\n",
       "    </tr>\n",
       "    <tr>\n",
       "      <th>10239</th>\n",
       "      <td>0.0</td>\n",
       "      <td>0.0</td>\n",
       "      <td>0.0</td>\n",
       "      <td>0.0</td>\n",
       "      <td>0.0</td>\n",
       "      <td>0.0</td>\n",
       "      <td>0.0</td>\n",
       "      <td>0.0</td>\n",
       "      <td>0.0</td>\n",
       "      <td>0.0</td>\n",
       "      <td>...</td>\n",
       "      <td>0.0</td>\n",
       "      <td>0.0</td>\n",
       "      <td>0.0</td>\n",
       "      <td>0.0</td>\n",
       "      <td>0.0</td>\n",
       "      <td>0.0</td>\n",
       "      <td>0.0</td>\n",
       "      <td>0.0</td>\n",
       "      <td>0.0</td>\n",
       "      <td>0.0</td>\n",
       "    </tr>\n",
       "    <tr>\n",
       "      <th>10240</th>\n",
       "      <td>0.0</td>\n",
       "      <td>0.0</td>\n",
       "      <td>0.0</td>\n",
       "      <td>0.0</td>\n",
       "      <td>0.0</td>\n",
       "      <td>0.0</td>\n",
       "      <td>0.0</td>\n",
       "      <td>0.0</td>\n",
       "      <td>0.0</td>\n",
       "      <td>0.0</td>\n",
       "      <td>...</td>\n",
       "      <td>0.0</td>\n",
       "      <td>0.0</td>\n",
       "      <td>0.0</td>\n",
       "      <td>0.0</td>\n",
       "      <td>0.0</td>\n",
       "      <td>0.0</td>\n",
       "      <td>0.0</td>\n",
       "      <td>0.0</td>\n",
       "      <td>0.0</td>\n",
       "      <td>0.0</td>\n",
       "    </tr>\n",
       "    <tr>\n",
       "      <th>10241</th>\n",
       "      <td>0.0</td>\n",
       "      <td>0.0</td>\n",
       "      <td>0.0</td>\n",
       "      <td>0.0</td>\n",
       "      <td>0.0</td>\n",
       "      <td>0.0</td>\n",
       "      <td>0.0</td>\n",
       "      <td>0.0</td>\n",
       "      <td>0.0</td>\n",
       "      <td>0.0</td>\n",
       "      <td>...</td>\n",
       "      <td>0.0</td>\n",
       "      <td>0.0</td>\n",
       "      <td>0.0</td>\n",
       "      <td>0.0</td>\n",
       "      <td>0.0</td>\n",
       "      <td>0.0</td>\n",
       "      <td>0.0</td>\n",
       "      <td>0.0</td>\n",
       "      <td>0.0</td>\n",
       "      <td>0.0</td>\n",
       "    </tr>\n",
       "  </tbody>\n",
       "</table>\n",
       "<p>10242 rows × 44147 columns</p>\n",
       "</div>"
      ],
      "text/plain": [
       "        00  000  007   01  0121  0128  013   02   03   04  ...  zuu  zwei  \\\n",
       "0      0.0  0.0  0.0  0.0   0.0   0.0  0.0  0.0  0.0  0.0  ...  0.0   0.0   \n",
       "1      0.0  0.0  0.0  0.0   0.0   0.0  0.0  0.0  0.0  0.0  ...  0.0   0.0   \n",
       "2      0.0  0.0  0.0  0.0   0.0   0.0  0.0  0.0  0.0  0.0  ...  0.0   0.0   \n",
       "3      0.0  0.0  0.0  0.0   0.0   0.0  0.0  0.0  0.0  0.0  ...  0.0   0.0   \n",
       "4      0.0  0.0  0.0  0.0   0.0   0.0  0.0  0.0  0.0  0.0  ...  0.0   0.0   \n",
       "...    ...  ...  ...  ...   ...   ...  ...  ...  ...  ...  ...  ...   ...   \n",
       "10237  0.0  0.0  0.0  0.0   0.0   0.0  0.0  0.0  0.0  0.0  ...  0.0   0.0   \n",
       "10238  0.0  0.0  0.0  0.0   0.0   0.0  0.0  0.0  0.0  0.0  ...  0.0   0.0   \n",
       "10239  0.0  0.0  0.0  0.0   0.0   0.0  0.0  0.0  0.0  0.0  ...  0.0   0.0   \n",
       "10240  0.0  0.0  0.0  0.0   0.0   0.0  0.0  0.0  0.0  0.0  ...  0.0   0.0   \n",
       "10241  0.0  0.0  0.0  0.0   0.0   0.0  0.0  0.0  0.0  0.0  ...  0.0   0.0   \n",
       "\n",
       "       zwischen   zy  zypitano   zz  zzies  zzy  zzz  zzzzt  \n",
       "0           0.0  0.0       0.0  0.0    0.0  0.0  0.0    0.0  \n",
       "1           0.0  0.0       0.0  0.0    0.0  0.0  0.0    0.0  \n",
       "2           0.0  0.0       0.0  0.0    0.0  0.0  0.0    0.0  \n",
       "3           0.0  0.0       0.0  0.0    0.0  0.0  0.0    0.0  \n",
       "4           0.0  0.0       0.0  0.0    0.0  0.0  0.0    0.0  \n",
       "...         ...  ...       ...  ...    ...  ...  ...    ...  \n",
       "10237       0.0  0.0       0.0  0.0    0.0  0.0  0.0    0.0  \n",
       "10238       0.0  0.0       0.0  0.0    0.0  0.0  0.0    0.0  \n",
       "10239       0.0  0.0       0.0  0.0    0.0  0.0  0.0    0.0  \n",
       "10240       0.0  0.0       0.0  0.0    0.0  0.0  0.0    0.0  \n",
       "10241       0.0  0.0       0.0  0.0    0.0  0.0  0.0    0.0  \n",
       "\n",
       "[10242 rows x 44147 columns]"
      ]
     },
     "execution_count": 20,
     "metadata": {},
     "output_type": "execute_result"
    }
   ],
   "source": [
    "pd.DataFrame(columns=vectorizer.get_feature_names(), data=train_lyrics_transformed.toarray())"
   ]
  },
  {
   "cell_type": "markdown",
   "id": "07656cb5",
   "metadata": {},
   "source": [
    "Yikes, we will need to adjust our vectorizer and parameters to find more meaningful keywords. We also need to reduce our dimension as well as there are too many columns vs. the number of rows which can lead to overfitting.\n",
    "\n",
    "In our custom vectorizer, we will address the following:\n",
    "- extend stop_words with vocalise (i.e. singing instrumentals like  \"ahh\" \"ooh\")\n",
    "- censor offensive keywords (for project presentation purposes)\n",
    "- use stemming over lemmatization for speed and simplcity (although this comes at a cost of interpretability)\n",
    "- replace colloquial words with more recognizable terms and help the stemming process"
   ]
  },
  {
   "cell_type": "code",
   "execution_count": 21,
   "id": "3f589793",
   "metadata": {},
   "outputs": [],
   "source": [
    "# create a dictionary of slang words\n",
    "slang_dict = {\n",
    "    \"cause'\":\"because\",\n",
    "    \"'cause\":\"because\",\n",
    "    \"cause\":\"because\",\n",
    "    \"cuz\":\"because\",\n",
    "    \"'cuz\":\"because\",\n",
    "    \"tryna\":\"trying\",\n",
    "    \"'bout\":\"about\",\n",
    "    \"bout\":\"about\",\n",
    "    \"'cross\":\"across\",\n",
    "    \"dolla\":\"doller\",\n",
    "    \"em\":\"them\",\n",
    "    \"'em\":\"them\",\n",
    "    \"'fore\":\"before\",\n",
    "    \"goin\":\"going\",\n",
    "    \"gon\":\"going\",\n",
    "    \"gon'\":\"going\",\n",
    "    \"lil\":\"little\",\n",
    "    \"lil'\":\"little\",\n",
    "    \"'nother\":\"another\",\n",
    "    \"'nough\":\"enough\",\n",
    "    \"ol'\":\"old\",\n",
    "    \"ol\":\"old\",\n",
    "    \"'spose\":\"suppose\",\n",
    "    \"'round\":\"around\",\n",
    "    \"til\":\"until\",\n",
    "    \"'til\":\"until\",\n",
    "    \"till\":\"until\",\n",
    "    \"togetha\":\"together\",\n",
    "    \"wanna\":\"want\",\n",
    "    \"wit\":\"with\",\n",
    "    \"wit'\":\"with\"\n",
    "}"
   ]
  },
  {
   "cell_type": "code",
   "execution_count": 22,
   "id": "63d31999",
   "metadata": {},
   "outputs": [],
   "source": [
    "# remove common words with built-in stopwords\n",
    "stop_words = stopwords.words('english')\n",
    "\n",
    "# instantiate PorterStemmer() to merge similar words\n",
    "stemmer = nltk.stem.PorterStemmer()\n",
    "\n",
    "# we will add song structures and vocalise into stopwords\n",
    "stop_words.extend(['ah', 'ahh', 'oh', 'ohh', 'ooh', 'oo', 'oohooh', 'ohoh', 'la', 'lalala', 'na', 'nanana', 'whoa', 'woah','uh', 'ay', 'ayy', 'woo',\n",
    "                   'huh', 'eh', 'mmm', 'hmm', 'yuh', 'uhhuh', 'huh', 'aye', 'da', 'di', 'ey', 'uhh', 'um', 'a', 'b', 'c', 'd', 'e', 'f', 'g', 'h',\n",
    "                   'i', 'j', 'k', 'l', 'm', 'n', 'o', 'p', 'q', 'r', 's', 't', 'u', 'v', 'w', 'x', 'y', 'z', 'im', 'would', 'could','should',\n",
    "                  'cant', 'dont', 'wont'])\n",
    "\n",
    "offensive = ['fuck', 'fuckin', 'fucking', 'shit', 'motherfuck', 'mothafuck', 'motherfuckin', 'mothafuckin', 'motherfucking', 'mothafucking', 'bitch',\n",
    "            'bitches', 'fucker', 'fuckers', 'motherfucker', 'mothafucker', 'motherfuckers', 'mothafuckers', 'fucks', 'shits', 'nigga', 'niggas','ass',\n",
    "            'pussy', 'bullshit', 'dick', 'bitchass', 'dumbass']\n",
    "\n",
    "def custom_tokenizer(lyrics):\n",
    "    # instantiate empty list\n",
    "    stemmed_words = [] \n",
    "    \n",
    "    # remove special characters (single quote excluded)\n",
    "    for mark in '!\"#$%&\\()*+,-./:;<=>?@[\\\\]^_`{|}~':\n",
    "        lyrics = lyrics.replace(mark,' ').lower()\n",
    "\n",
    "    # tokenize each lyric by whitespace or hyphen\n",
    "    words = re.split(' |-', lyrics)\n",
    "    \n",
    "    # replace slang based on slang_dict\n",
    "    words = [x.replace(x,slang_dict[x]) if x in slang_dict.keys() else x for x in words]\n",
    "    \n",
    "    # make lowercase\n",
    "    for word in words:\n",
    "\n",
    "        # remove the single quote\n",
    "        if \"'\" in word:\n",
    "            word = word.replace(\"'\",\"\")\n",
    "\n",
    "        # ignore if word exists in stop_word or is blank\n",
    "        if (word in stop_words) or (word ==''):\n",
    "            continue\n",
    "\n",
    "        else:\n",
    "            stemmed_word = stemmer.stem(word)\n",
    "            stemmed_words.append(stemmed_word)\n",
    "    \n",
    "    # censor offensive keywords\n",
    "    stemmed_words = [x.replace(x[2:],'x'*(len(x)-1)) if x in offensive else x for x in stemmed_words]\n",
    "\n",
    "    return stemmed_words"
   ]
  },
  {
   "cell_type": "markdown",
   "id": "e04a4e84",
   "metadata": {},
   "source": [
    "Before fitting the model, here is a quick overview of the parameters we will be passing through.\n",
    "\n",
    "[Explanation](https://scikit-learn.org/stable/modules/generated/sklearn.feature_extraction.text.TfidfVectorizer.html) of TfidVectorizer parameters:\n",
    "- `tokenizer`: we are using a custom tokenizer\n",
    "- `token_pattern`: passing through regex (regular expression); the argument indicates \"up to 3 numbers\" + \"space\" + \"any number of letters\".\n",
    "- `min_df`: can be float between 0.0 to 1.0 (for % of documents) or absolute integer (for # of documents). This parameter ignores tokens that appear in *less than* min_df documents.\n",
    "- `max_df`: can be float between 0.0 to 1.0 (for % of documents) or absolute integer (for # of documents). This parameter ignores tokens that appear in *more than* max_df documents."
   ]
  },
  {
   "cell_type": "code",
   "execution_count": 25,
   "id": "a4eb2137",
   "metadata": {},
   "outputs": [
    {
     "name": "stdout",
     "output_type": "stream",
     "text": [
      "There are 12554 unique words.\n"
     ]
    }
   ],
   "source": [
    "# instantiate with new vectorizer\n",
    "vectorizer = TfidfVectorizer(tokenizer=custom_tokenizer,\n",
    "                             token_pattern='[0-9]{0,3}.[a-zA-Z]+',\n",
    "                             min_df=15,\n",
    "                             max_df=0.95,\n",
    "                            ngram_range=(1,2))\n",
    "                             \n",
    "# fit train set\n",
    "vectorizer.fit(X_train['lyrics'])\n",
    "\n",
    "# transform train and test sets\n",
    "train_lyrics_transformed = vectorizer.transform(X_train['lyrics'])\n",
    "\n",
    "print(f'There are {train_lyrics_transformed.shape[1]} unique words.')"
   ]
  },
  {
   "cell_type": "code",
   "execution_count": 26,
   "id": "fa24fe0c",
   "metadata": {
    "scrolled": false
   },
   "outputs": [
    {
     "data": {
      "image/png": "[encoded data removed]",
      "text/plain": [
       "<Figure size 1080x360 with 1 Axes>"
      ]
     },
     "metadata": {
      "needs_background": "light"
     },
     "output_type": "display_data"
    }
   ],
   "source": [
    "# visualize top 20 tokens\n",
    "\n",
    "words = vectorizer.get_feature_names()\n",
    "score = train_lyrics_transformed.toarray().sum(axis=0)\n",
    "\n",
    "pd.DataFrame({\n",
    "    'words':words,\n",
    "    'score':score}).sort_values(by='score', ascending=False).head(20).set_index('words').plot(kind='bar',\n",
    "                                                                                              rot=45,\n",
    "                                                                                             color='skyblue',\n",
    "                                                                                             figsize=(15,5),\n",
    "                                                                                             fontsize=12)\n",
    "plt.title('Top 20 Tokens by TF-IDF Score', fontsize=14)\n",
    "plt.ylabel('TF-IDF Score', fontsize=14)\n",
    "plt.xlabel('Tokens', fontsize=14)\n",
    "plt.show()"
   ]
  },
  {
   "cell_type": "markdown",
   "id": "e584161e",
   "metadata": {},
   "source": [
    "This is a significant improvement! But we are still dealing with a significant number of features. Let's reduce this a bit with the `min_df` and `max_df` parameters."
   ]
  },
  {
   "cell_type": "code",
   "execution_count": 27,
   "id": "f01c7ced",
   "metadata": {
    "scrolled": true
   },
   "outputs": [
    {
     "name": "stdout",
     "output_type": "stream",
     "text": [
      "There are 2780 unique words.\n"
     ]
    }
   ],
   "source": [
    "# re-run the vectorizer\n",
    "vectorizer = TfidfVectorizer(tokenizer=custom_tokenizer,\n",
    "                             token_pattern='[0-9]{0,2}.[a-zA-Z]+',\n",
    "                             min_df=60,\n",
    "                             max_df=.85,\n",
    "                            ngram_range=(1,2))\n",
    "# fit and transform      \n",
    "vectorizer.fit(X_train['lyrics'])\n",
    "train_lyrics_transformed = vectorizer.transform(X_train['lyrics'])\n",
    "\n",
    "print(f'There are {train_lyrics_transformed.shape[1]} unique words.')"
   ]
  },
  {
   "cell_type": "code",
   "execution_count": 28,
   "id": "ef58dc03",
   "metadata": {
    "scrolled": false
   },
   "outputs": [
    {
     "data": {
      "image/png": "[encoded data removed]",
      "text/plain": [
       "<Figure size 1080x360 with 1 Axes>"
      ]
     },
     "metadata": {
      "needs_background": "light"
     },
     "output_type": "display_data"
    }
   ],
   "source": [
    "# visualize top 20 tokens\n",
    "\n",
    "words = vectorizer.get_feature_names()\n",
    "score = train_lyrics_transformed.toarray().sum(axis=0)\n",
    "\n",
    "pd.DataFrame({\n",
    "    'words':words,\n",
    "    'score':score}).sort_values(by='score', ascending=False).head(20).set_index('words').plot(kind='bar',\n",
    "                                                                                              rot=45,\n",
    "                                                                                             color='skyblue',\n",
    "                                                                                             figsize=(15,5),\n",
    "                                                                                             fontsize=12)\n",
    "plt.title('Top 20 Tokens by TF-IDF Score', fontsize=14)\n",
    "plt.ylabel('TF-IDF Score', fontsize=14)\n",
    "plt.xlabel('Tokens', fontsize=14)\n",
    "plt.show()"
   ]
  },
  {
   "cell_type": "markdown",
   "id": "e1ca243d",
   "metadata": {},
   "source": [
    "---\n",
    "### Modeling: Logistic Regression<a class=\"anchor\" id=\"logreg1\"></a>"
   ]
  },
  {
   "cell_type": "markdown",
   "id": "80230e3b",
   "metadata": {},
   "source": [
    "Next, we will run a Logistic Regression model with default parameters to set our baseline. However, before running that, we need to make sure our test set is also transformed by our latest vectorizer."
   ]
  },
  {
   "cell_type": "code",
   "execution_count": 29,
   "id": "d0b70dac",
   "metadata": {},
   "outputs": [],
   "source": [
    "# transform the test set\n",
    "test_lyrics_transformed = vectorizer.transform(X_test['lyrics'])"
   ]
  },
  {
   "cell_type": "code",
   "execution_count": 30,
   "id": "6022ba63",
   "metadata": {},
   "outputs": [
    {
     "name": "stdout",
     "output_type": "stream",
     "text": [
      "Train set score: 73.8%\n",
      "Test set score: 64.1%\n"
     ]
    }
   ],
   "source": [
    "# instantiate\n",
    "log_model = LogisticRegression()\n",
    "\n",
    "# fit on train set\n",
    "log_model.fit(train_lyrics_transformed, y_train)\n",
    "\n",
    "# score\n",
    "print(f'Train set score: {round(log_model.score(train_lyrics_transformed, y_train)*100,1)}%')\n",
    "print(f'Test set score: {round(log_model.score(test_lyrics_transformed, y_test)*100,1)}%')"
   ]
  },
  {
   "cell_type": "markdown",
   "id": "8d6b1a32",
   "metadata": {},
   "source": [
    "Let's run a grid search to see if we need to adjust our hyperparameters:"
   ]
  },
  {
   "cell_type": "code",
   "execution_count": 31,
   "id": "34f96e2b",
   "metadata": {},
   "outputs": [],
   "source": [
    "# improve runtime with cached memory\n",
    "cachedir = mkdtemp()\n",
    "\n",
    "# set up pieline\n",
    "pipe = Pipeline([(\n",
    "    'model', LogisticRegression())],\n",
    "    memory=cachedir)\n",
    "\n",
    "# plug in parameters for GridSearch\n",
    "param_grid = [{\n",
    "    'model__C': [0.0001, 0.001, 0.01, 0.1, 1, 10, 100, 1000],\n",
    "    'model__penalty': ['l1', 'l2'],\n",
    "    'model__solver':['lbfgs','saga']\n",
    "}]\n",
    "\n",
    "# set up gridsearch cross validation\n",
    "grid = GridSearchCV(pipe, param_grid)\n",
    "\n",
    "# fit train set\n",
    "fittedgrid = grid.fit(train_lyrics_transformed, y_train)"
   ]
  },
  {
   "cell_type": "code",
   "execution_count": 32,
   "id": "b16567e1",
   "metadata": {},
   "outputs": [
    {
     "data": {
      "text/plain": [
       "{'model__C': 1, 'model__penalty': 'l2', 'model__solver': 'lbfgs'}"
      ]
     },
     "execution_count": 32,
     "metadata": {},
     "output_type": "execute_result"
    }
   ],
   "source": [
    "fittedgrid.best_params_"
   ]
  },
  {
   "cell_type": "code",
   "execution_count": 33,
   "id": "9b12557f",
   "metadata": {},
   "outputs": [
    {
     "name": "stdout",
     "output_type": "stream",
     "text": [
      "Train set best score: 73.8%\n",
      "Test set best score: 64.1%\n"
     ]
    }
   ],
   "source": [
    "print(f'Train set best score: {round(fittedgrid.score(train_lyrics_transformed, y_train)*100,1)}%')\n",
    "print(f'Test set best score: {round(fittedgrid.score(test_lyrics_transformed, y_test)*100,1)}%')"
   ]
  },
  {
   "cell_type": "markdown",
   "id": "86c9c551",
   "metadata": {},
   "source": [
    "The best model matches our default model except the solver is set at 'saga'. The results have not changed, but we will go ahead and use 'saga' for the following models."
   ]
  },
  {
   "cell_type": "code",
   "execution_count": 34,
   "id": "2427628c",
   "metadata": {},
   "outputs": [
    {
     "data": {
      "image/png": "[encoded data removed]",
      "text/plain": [
       "<Figure size 1080x360 with 1 Axes>"
      ]
     },
     "metadata": {
      "needs_background": "light"
     },
     "output_type": "display_data"
    }
   ],
   "source": [
    "# top 10 tokens with positive coefficients\n",
    "\n",
    "pd.DataFrame({\n",
    "    'Words':vectorizer.get_feature_names(),\n",
    "    'Coefficients':log_model.coef_[0]\n",
    "}).sort_values(by='Coefficients', ascending=False).head(20).set_index('Words').plot(kind='bar',\n",
    "                                                                                    rot=45,\n",
    "                                                                                    color='skyblue',\n",
    "                                                                                    figsize=(15,5),\n",
    "                                                                                    fontsize=12)\n",
    "plt.title('Top 20 Keywords with Positive Coefficients')\n",
    "plt.ylabel('Coefficients')\n",
    "plt.show()"
   ]
  },
  {
   "cell_type": "code",
   "execution_count": 35,
   "id": "1d7e4b65",
   "metadata": {},
   "outputs": [
    {
     "data": {
      "image/png": "[encoded data removed]",
      "text/plain": [
       "<Figure size 1080x360 with 1 Axes>"
      ]
     },
     "metadata": {
      "needs_background": "light"
     },
     "output_type": "display_data"
    }
   ],
   "source": [
    "# top 10 tokens with negative coefficients\n",
    "\n",
    "pd.DataFrame({\n",
    "    'Words':vectorizer.get_feature_names(),\n",
    "    'Coefficients':log_model.coef_[0]\n",
    "}).sort_values(by='Coefficients', ascending=True).head(20).set_index('Words').plot(kind='bar',\n",
    "                                                                                    rot=45,\n",
    "                                                                                    color='lightpink',\n",
    "                                                                                    figsize=(15,5),\n",
    "                                                                                    fontsize=12)\n",
    "plt.title('Top 20 Keywords with Negative Coefficients')\n",
    "plt.ylabel('Coefficients')\n",
    "plt.show()"
   ]
  },
  {
   "cell_type": "markdown",
   "id": "09fa1eb1",
   "metadata": {},
   "source": [
    "By just looking at song lyrics, we were able to achieve a 72.9% accuracy on our train set and 63.6% on our test set. By pulling the coefficients, we can also identify which keywords were most predictive of either class in our target variable. In general we can see that keywords with positive coefficients evoke a fun-spirited/positive vibe (e.g. \"Christmas\", \"whiskey\", \"skrrt\") while the keywords with negative coefficients give off a hardcore/ominous vibe (e.g. offensive words, \"grave\", \"devil\")\n",
    "\n",
    "Note: You can see that some of the words are spelled differently here. That is the downside of `PorterStemmer` in which only the root words are kept and essentially the suffixes are removd; e.g. \"danc\" is the root for \"dance\", \"dancer\", and \"dancing\"."
   ]
  },
  {
   "cell_type": "markdown",
   "id": "f75a02e0",
   "metadata": {},
   "source": [
    "---\n",
    "### Dimensionality Reduction: PCA<a class=\"anchor\" id=\"dimension\"></a>"
   ]
  },
  {
   "cell_type": "markdown",
   "id": "a7e03fa3",
   "metadata": {},
   "source": [
    "**Principal Component Analysis** achieves two things: reducing dimensionality and removing multicollinearity. Because we have over 2,000+ tokens as features of our dataset, our data is prone to overfitting. What PCA does is it takes the linear combination of our existing features and identifies the direction of greatest variance -- we call this 1st Principal Components. The algorithm repeats the process for given `n_components`. So instead of dropping the feature entirely (and losing that data), PCA helps us keep all our features and just drop the components with least variance. However, the downside is that we lose interpretability since now each component feature is a calculation of all the original features. "
   ]
  },
  {
   "cell_type": "code",
   "execution_count": 36,
   "id": "3be2de52",
   "metadata": {},
   "outputs": [],
   "source": [
    "# convert sparse matrices to arrays\n",
    "train_lyrics_array = train_lyrics_transformed.toarray()\n",
    "test_lyrics_array = test_lyrics_transformed.toarray()"
   ]
  },
  {
   "cell_type": "code",
   "execution_count": 37,
   "id": "8d26176f",
   "metadata": {},
   "outputs": [],
   "source": [
    "# fit and transform via PCA\n",
    "\n",
    "pca = PCA(random_state=15) # default matches original number of features\n",
    "\n",
    "# fit and transform\n",
    "pca_train_lyrics = pca.fit_transform(train_lyrics_array)\n",
    "pca_test_lyrics = pca.transform(test_lyrics_array)"
   ]
  },
  {
   "cell_type": "markdown",
   "id": "3f7bab2d",
   "metadata": {},
   "source": [
    "We've just fit and transformed our data through PCA. By default, PCA produces the same number of components as there are features. So how can we choose the right amount of components? There is no right or wrong answer. We can set a threshold (let's say achieve at least 90% of variance) and plot a graph to see where the intersection is."
   ]
  },
  {
   "cell_type": "code",
   "execution_count": 44,
   "id": "f7fe924a",
   "metadata": {},
   "outputs": [
    {
     "data": {
      "image/png": "[encoded data removed]",
      "text/plain": [
       "<Figure size 1080x360 with 1 Axes>"
      ]
     },
     "metadata": {
      "needs_background": "light"
     },
     "output_type": "display_data"
    }
   ],
   "source": [
    "# explained variance ratio\n",
    "ex_var_ratio = pca.explained_variance_ratio_\n",
    "\n",
    "# calculate cumulative sum\n",
    "cumulative_sum = np.cumsum(ex_var_ratio)\n",
    "\n",
    "# visualize in a grpah\n",
    "plt.figure(figsize=(15,5))\n",
    "plt.plot(range(1,len(pca.components_)+1), cumulative_sum, color='black')\n",
    "plt.xlabel('Number of PCs')\n",
    "plt.ylabel('Cumulative Sum of Explained Variance')\n",
    "plt.title('Cumulative Sum of EVR based on Number of PC')\n",
    "plt.xticks(range(1,len(pca.components_)+1,200))\n",
    "plt.axhline(.9, linestyle='--', color='pink', label='90% cum. sum')\n",
    "plt.axvline(1550, linestyle='--', color='cornflowerblue', label=\"1550 PC's\")\n",
    "plt.legend()\n",
    "plt.show()"
   ]
  },
  {
   "cell_type": "markdown",
   "id": "7b8c168a",
   "metadata": {},
   "source": [
    "This graph is showing us that 1,550 principal components alone can explain 90% of the variance. The goal is to achieve high % variance but also reduced dimension size. This threshold can achieve both goals. We will re-run the PCA transformation on our data to reduce the number of PCA component features."
   ]
  },
  {
   "cell_type": "code",
   "execution_count": 45,
   "id": "4dc3a236",
   "metadata": {
    "scrolled": true
   },
   "outputs": [
    {
     "name": "stdout",
     "output_type": "stream",
     "text": [
      "Previous Dimension Size: 2780\n",
      "Current Dimension Size: 1550\n"
     ]
    }
   ],
   "source": [
    "print(f'Previous Dimension Size: {pca_train_lyrics.shape[1]}')\n",
    "\n",
    "pca = PCA(random_state=15,\n",
    "          n_components=1550)\n",
    "pca_train_lyrics = pca.fit_transform(train_lyrics_array)\n",
    "pca_test_lyrics = pca.transform(test_lyrics_array)\n",
    "\n",
    "print(f'Current Dimension Size: {pca_train_lyrics.shape[1]}')"
   ]
  },
  {
   "cell_type": "markdown",
   "id": "60459306",
   "metadata": {},
   "source": [
    "As mentioned previously, we lose interpretability of our data since each component is a calculation of all the features. However, we can still analyze the actual values of the components which are called *loadings*. With these values, we can see how each original features contributes to given component.\n",
    "\n",
    "Since we have 1,550 components and 2,780 different tokens, we will only look at the top 5 principal components of greatest variance and a random selection of tokens within them."
   ]
  },
  {
   "cell_type": "code",
   "execution_count": 47,
   "id": "abb6d869",
   "metadata": {
    "scrolled": false
   },
   "outputs": [
    {
     "data": {
      "image/png": "[encoded data removed]",
      "text/plain": [
       "<Figure size 1080x360 with 2 Axes>"
      ]
     },
     "metadata": {
      "needs_background": "light"
     },
     "output_type": "display_data"
    }
   ],
   "source": [
    "# choose random index range of tokens\n",
    "idx1 = 260\n",
    "idx2 = 275\n",
    "\n",
    "# visualize pca loading with a heatmap by calling .components_ attribute\n",
    "plt.figure(figsize=(15,5))\n",
    "ax = sns.heatmap([pca.components_[x][idx1:idx2] for x in range(0,5)],\n",
    "                 cmap='coolwarm',\n",
    "                 center=0,\n",
    "                 yticklabels=[\"PC\"+str(x) for x in range(1,6)],\n",
    "                 xticklabels=list(vectorizer.get_feature_names()[idx1:idx2]),\n",
    "                 linewidths = 1,\n",
    "                 annot = True,\n",
    "                 cbar_kws={\"orientation\": \"vertical\"})\n",
    "\n",
    "plt.yticks(rotation=0)\n",
    "plt.xticks(rotation=25)\n",
    "plt.title('Principal Component Loadings')\n",
    "plt.xlabel(f'Tokens in index range {idx1}:{idx2}')\n",
    "ax.set_aspect(\"equal\")"
   ]
  },
  {
   "cell_type": "markdown",
   "id": "da9bbc15",
   "metadata": {},
   "source": [
    "In this sample of loadings, we can see how each word contributes to each PC. When we look at the word \"boom\", we see that it has a positive relationship to PC1 and PC5 but a negative relationship to PC2 and PC4. And when looking at only PC1, we can say that song lyrics with the words \"boss\" and \"bought\" have higher values for PC, while song lyrics with \"born\" or \"bound\" have negative values for the same component."
   ]
  },
  {
   "cell_type": "markdown",
   "id": "bd499423",
   "metadata": {},
   "source": [
    "---\n",
    "### Modeling: Logistic Regression with PCA transformation<a class=\"anchor\" id=\"logreg2\"></a>"
   ]
  },
  {
   "cell_type": "markdown",
   "id": "f5a80e11",
   "metadata": {},
   "source": [
    "Let's try re-running our Logistic Regression with the PCA-transformed data."
   ]
  },
  {
   "cell_type": "code",
   "execution_count": 48,
   "id": "f20fc7a7",
   "metadata": {},
   "outputs": [
    {
     "name": "stdout",
     "output_type": "stream",
     "text": [
      "Train set score: 71.9%\n",
      "Test set score: 64.0%\n"
     ]
    }
   ],
   "source": [
    "# instantiate\n",
    "log_model = LogisticRegression()\n",
    "\n",
    "# fit on train set\n",
    "log_model.fit(pca_train_lyrics, y_train)\n",
    "\n",
    "# score\n",
    "print(f'Train set score: {round(log_model.score(pca_train_lyrics, y_train)*100,1)}%')\n",
    "print(f'Test set score: {round(log_model.score(pca_test_lyrics, y_test)*100,1)}%')"
   ]
  },
  {
   "cell_type": "markdown",
   "id": "bc153962",
   "metadata": {},
   "source": [
    "Our scores dropped slightly. Let's look at the coefficients of our PC's:"
   ]
  },
  {
   "cell_type": "code",
   "execution_count": 49,
   "id": "19ba7e5a",
   "metadata": {
    "scrolled": true
   },
   "outputs": [
    {
     "data": {
      "text/html": [
       "<div>\n",
       "<style scoped>\n",
       "    .dataframe tbody tr th:only-of-type {\n",
       "        vertical-align: middle;\n",
       "    }\n",
       "\n",
       "    .dataframe tbody tr th {\n",
       "        vertical-align: top;\n",
       "    }\n",
       "\n",
       "    .dataframe thead th {\n",
       "        text-align: right;\n",
       "    }\n",
       "</style>\n",
       "<table border=\"1\" class=\"dataframe\">\n",
       "  <thead>\n",
       "    <tr style=\"text-align: right;\">\n",
       "      <th></th>\n",
       "      <th>coefficients</th>\n",
       "    </tr>\n",
       "  </thead>\n",
       "  <tbody>\n",
       "    <tr>\n",
       "      <th>PC1</th>\n",
       "      <td>3.638410</td>\n",
       "    </tr>\n",
       "    <tr>\n",
       "      <th>PC2</th>\n",
       "      <td>2.265134</td>\n",
       "    </tr>\n",
       "    <tr>\n",
       "      <th>PC14</th>\n",
       "      <td>2.046635</td>\n",
       "    </tr>\n",
       "    <tr>\n",
       "      <th>PC301</th>\n",
       "      <td>2.012826</td>\n",
       "    </tr>\n",
       "    <tr>\n",
       "      <th>PC4</th>\n",
       "      <td>1.989164</td>\n",
       "    </tr>\n",
       "  </tbody>\n",
       "</table>\n",
       "</div>"
      ],
      "text/plain": [
       "       coefficients\n",
       "PC1        3.638410\n",
       "PC2        2.265134\n",
       "PC14       2.046635\n",
       "PC301      2.012826\n",
       "PC4        1.989164"
      ]
     },
     "execution_count": 49,
     "metadata": {},
     "output_type": "execute_result"
    }
   ],
   "source": [
    "# look at top ten positive coefficients\n",
    "pd.DataFrame(log_model.coef_.T,\n",
    "             index=['PC'+str(x) for x in range(1,len(log_model.coef_[0])+1)],\n",
    "             columns=['coefficients']).sort_values(by='coefficients', ascending=False).head(5)"
   ]
  },
  {
   "cell_type": "code",
   "execution_count": 50,
   "id": "2ed63be3",
   "metadata": {},
   "outputs": [
    {
     "data": {
      "text/html": [
       "<div>\n",
       "<style scoped>\n",
       "    .dataframe tbody tr th:only-of-type {\n",
       "        vertical-align: middle;\n",
       "    }\n",
       "\n",
       "    .dataframe tbody tr th {\n",
       "        vertical-align: top;\n",
       "    }\n",
       "\n",
       "    .dataframe thead th {\n",
       "        text-align: right;\n",
       "    }\n",
       "</style>\n",
       "<table border=\"1\" class=\"dataframe\">\n",
       "  <thead>\n",
       "    <tr style=\"text-align: right;\">\n",
       "      <th></th>\n",
       "      <th>coefficients</th>\n",
       "    </tr>\n",
       "  </thead>\n",
       "  <tbody>\n",
       "    <tr>\n",
       "      <th>PC7</th>\n",
       "      <td>-2.695672</td>\n",
       "    </tr>\n",
       "    <tr>\n",
       "      <th>PC9</th>\n",
       "      <td>-2.353725</td>\n",
       "    </tr>\n",
       "    <tr>\n",
       "      <th>PC44</th>\n",
       "      <td>-2.327489</td>\n",
       "    </tr>\n",
       "    <tr>\n",
       "      <th>PC224</th>\n",
       "      <td>-2.247527</td>\n",
       "    </tr>\n",
       "    <tr>\n",
       "      <th>PC13</th>\n",
       "      <td>-2.132117</td>\n",
       "    </tr>\n",
       "  </tbody>\n",
       "</table>\n",
       "</div>"
      ],
      "text/plain": [
       "       coefficients\n",
       "PC7       -2.695672\n",
       "PC9       -2.353725\n",
       "PC44      -2.327489\n",
       "PC224     -2.247527\n",
       "PC13      -2.132117"
      ]
     },
     "execution_count": 50,
     "metadata": {},
     "output_type": "execute_result"
    }
   ],
   "source": [
    "# look at top ten negative coefficients\n",
    "pd.DataFrame(log_model.coef_.T,\n",
    "             index=['PC'+str(x) for x in range(1,len(log_model.coef_[0])+1)],\n",
    "             columns=['coefficients']).sort_values(by='coefficients', ascending=True).head(5)"
   ]
  },
  {
   "cell_type": "markdown",
   "id": "363ecbdc",
   "metadata": {},
   "source": [
    "When looking at the coefficients of this Logistic Regression, we can see what kind of relationship each PC has with the model. PC1, PC2, PC14, PC301, PC4 have the highest positive coefficients, meaning their linear combinations of the features are most predictive of class 1 (Billboard). On the contrary, PC7, PC9, PC44, PC224, and PC13 predict the opposite."
   ]
  },
  {
   "cell_type": "markdown",
   "id": "a0a806b4",
   "metadata": {},
   "source": [
    "---\n",
    "### GridSearch: Optimize Logistic Regression with PCA Transformed Data<a class=\"anchor\" id=\"logreg3\"></a>"
   ]
  },
  {
   "cell_type": "code",
   "execution_count": 51,
   "id": "dd559a01",
   "metadata": {},
   "outputs": [],
   "source": [
    "# improve runtime with cached memory\n",
    "cachedir = mkdtemp()\n",
    "\n",
    "# set up pieline\n",
    "pipe = Pipeline([(\n",
    "    'model', LogisticRegression())],\n",
    "    memory=cachedir)\n",
    "\n",
    "# plug in parameters for GridSearch\n",
    "param_grid = [{\n",
    "    'model__C': [0.001, 0.01, 0.1, 1, 10, 100],\n",
    "    'model__penalty': ['l1', 'l2'],\n",
    "    'model__solver':['lbfgs','saga']\n",
    "}]\n",
    "\n",
    "# set up gridsearch cross validation\n",
    "grid = GridSearchCV(pipe, param_grid)\n",
    "\n",
    "# fit train set\n",
    "fittedgrid = grid.fit(pca_train_lyrics, y_train)"
   ]
  },
  {
   "cell_type": "code",
   "execution_count": 52,
   "id": "98cf455b",
   "metadata": {
    "scrolled": true
   },
   "outputs": [
    {
     "data": {
      "text/plain": [
       "{'model__C': 1, 'model__penalty': 'l2', 'model__solver': 'lbfgs'}"
      ]
     },
     "execution_count": 52,
     "metadata": {},
     "output_type": "execute_result"
    }
   ],
   "source": [
    "# best model\n",
    "fittedgrid.best_params_"
   ]
  },
  {
   "cell_type": "code",
   "execution_count": 53,
   "id": "236f5b05",
   "metadata": {},
   "outputs": [
    {
     "name": "stdout",
     "output_type": "stream",
     "text": [
      "Train set best score: 71.9%\n",
      "Test set best score: 64.0%\n"
     ]
    }
   ],
   "source": [
    "print(f'Train set best score: {round(fittedgrid.score(pca_train_lyrics, y_train)*100,1)}%')\n",
    "print(f'Test set best score: {round(fittedgrid.score(pca_test_lyrics, y_test)*100,1)}%')"
   ]
  },
  {
   "cell_type": "markdown",
   "id": "becea788",
   "metadata": {},
   "source": [
    "Our test score has not changed, and it looks like we already have our best model with default parameters."
   ]
  },
  {
   "cell_type": "markdown",
   "id": "a457b106",
   "metadata": {},
   "source": [
    "Side note: We can also use GridSearch to find the best parameters for our Vectorizer. Below is a code we can run to find the best balance of `min_df` and `max_df`, along with the best parameters for the Logistic Regression. This requires a bit more computational power and time, so I will leave this as a markdown for now.\n",
    "\n",
    "```python\n",
    "# improve runtime with cached memory\n",
    "cachedir = mkdtemp()\n",
    "\n",
    "# set up pieline\n",
    "pipe = Pipeline([\n",
    "    ('vect', TfidfVectorizer(tokenizer=custom_tokenizer,\n",
    "                            token_pattern='[0-9]{0,3}.[a-zA-Z]+')),\n",
    "    ('model', LogisticRegression())],\n",
    "    memory=cachedir)\n",
    "\n",
    "# plug in parameters for GridSearch\n",
    "param_grid = [{\n",
    "    'vect__min_df':[10,20,30,40,50],\n",
    "    'vect__max_df':[0.95, 0.9, 0.85, 0.8, 0.75],\n",
    "    'model__C': [0.001, 0.01, 0.1, 1, 10, 100],\n",
    "    'model__penalty': ['l1', 'l2'],\n",
    "    'model__solver':['lbfgs','saga']\n",
    "}]\n",
    "\n",
    "# set up gridsearch cross validation\n",
    "grid = GridSearchCV(pipe, param_grid, verbose=2)\n",
    "\n",
    "# fit train set\n",
    "fittedgrid = grid.fit(X_train['lyrics'], y_train)\n",
    "```"
   ]
  },
  {
   "cell_type": "markdown",
   "id": "25c7a1ef",
   "metadata": {},
   "source": [
    "---\n",
    "### Modeling: Support Vector Machines<a class=\"anchor\" id=\"svm1\"></a>"
   ]
  },
  {
   "cell_type": "markdown",
   "id": "e59f5120",
   "metadata": {},
   "source": [
    "**SVM**'s (or Support Vector Machines) are also Machine Learning classifiers that focuses on the *distance* (or margin) between the decision boundary and the data points. How strict we want this to be can be adjusted with the $C$ parameter. Like Logistic Regression, SVM has a linear kernel that separates data linearly. But again, SVM's try to maximize margin while Logistic Regression tries to maximize likelihood. What is also unique about SVM models is that there are other kernels that can classify *non-linear* data. As one can imagine, it would not be a surprise if these models output a better score than the linear models. \n",
    "\n",
    "A caveat for this blackbox model is interpretability, time to run the models, and setting the various hyperparameters we need to consider. One way around interpreting this model is through [SHAP](https://shap-lrjball.readthedocs.io/en/docs_update/api.html#core-explainers), but given the number of features we have, we will just obtain the baseline scores."
   ]
  },
  {
   "cell_type": "code",
   "execution_count": 54,
   "id": "7846b172",
   "metadata": {
    "scrolled": true
   },
   "outputs": [
    {
     "name": "stdout",
     "output_type": "stream",
     "text": [
      "Kernel = linear\n",
      "Train set accuracy: 72.4%\n",
      "Test set accuracy: 64.0%\n",
      "--------------------------------\n",
      "Kernel = poly\n",
      "Train set accuracy: 98.9%\n",
      "Test set accuracy: 60.1%\n",
      "--------------------------------\n",
      "Kernel = rbf\n",
      "Train set accuracy: 91.9%\n",
      "Test set accuracy: 64.7%\n",
      "--------------------------------\n",
      "Kernel = sigmoid\n",
      "Train set accuracy: 64.7%\n",
      "Test set accuracy: 63.4%\n",
      "--------------------------------\n"
     ]
    }
   ],
   "source": [
    "kernels = ['linear', 'poly', 'rbf', 'sigmoid']\n",
    "\n",
    "for kernel in kernels:\n",
    "    SVM_model = SVC(kernel=kernel)\n",
    "    SVM_model.fit(pca_train_lyrics, y_train)\n",
    "    print(f'Kernel = {kernel}')\n",
    "    print(f'Train set accuracy: {round(SVM_model.score(pca_train_lyrics, y_train)*100,1)}%')\n",
    "    print(f'Test set accuracy: {round(SVM_model.score(pca_test_lyrics, y_test)*100,1)}%')\n",
    "    print('--------------------------------')"
   ]
  },
  {
   "cell_type": "markdown",
   "id": "e17ad615",
   "metadata": {},
   "source": [
    "---\n",
    "### Topic Modeling<a class=\"anchor\" id=\"lda1\"></a>\n",
    "This section will cover an unsupervised process of identifying \"topics\" within our lyrics through a method called Latent Dirichlet Allocation (LDA). Scikit-learn has this included in their package, but we will be using [spaCy](https://spacy.io/) for tokenization/vectorization and [Gensim](https://pypi.org/project/gensim/) for the actual LDA model. The reasons for using these different packages are to explore the differences in use case and Gensim has an amazing topic model visualization feature which we will see at the end.\n",
    "\n",
    "Quick overview: The LDA algorithm looks at the proportion of words present in a document that are assigned to a topic amongst a pre-determined number of `n_components` topics. It also looks at the topic assignments across all documents. Then, the process is repeated a given number of time to eliminate bias and finalize a stabilized list of topics. LDA can also be used as an alternative way to *reduce dimensionality*. While PCA looks at the linear combination of all the features, LDA similarly looks at all the tokens to create a topic cluster. We can go from a dataframe of thousands of features to a dataframe of a handful of meaningful clusters.\n",
    "\n",
    "We are going to split the dataframe and **only use the Billboard song lyrics**. Though possible (and time-consuming), it is not common to take an unsupervised LDA model and turn it into a supervised Logistic Regression model. We will find what the most popular themes have been on the Billboard charts."
   ]
  },
  {
   "cell_type": "code",
   "execution_count": 55,
   "id": "a098d933",
   "metadata": {},
   "outputs": [],
   "source": [
    "# split the dataframe to billboard only\n",
    "billboard = songs_lyrics_df[songs_lyrics_df['billboard'] == 1]"
   ]
  },
  {
   "cell_type": "code",
   "execution_count": 56,
   "id": "a5bcfb1e",
   "metadata": {},
   "outputs": [],
   "source": [
    "# instantiate\n",
    "spacy_nlp = spacy.load('en_core_web_sm')"
   ]
  },
  {
   "cell_type": "markdown",
   "id": "1733e472",
   "metadata": {},
   "source": [
    "We will update spaCy's stop words (which are a little different from NLTK's). Some of spaCy's stop words are important in expressing sentiment. We will also add custom stop words as we did for the TF-IDF Vectorizer.\n",
    "\n",
    "You can look what is inside spaCy's default list of stop words by running\n",
    "```python\n",
    "from spacy.lang.en.stop_words import STOP_WORDS\n",
    "print(STOP_WORDS)\n",
    "```"
   ]
  },
  {
   "cell_type": "code",
   "execution_count": 57,
   "id": "ea55875e",
   "metadata": {},
   "outputs": [],
   "source": [
    "# customize spaCy's stopwords\n",
    "\n",
    "# remove from list\n",
    "STOP_WORDS -= {'never','show', 'us', 'least', 'most', 'noon', 'two', 'hundred', 'same', 'without', 'yours', 'together', 'become', 'top', 'down',\n",
    "               'whole','until','mine','nobody','please','more','somewhere','anywhere','last','why','bottom','who','ours','sometimes','above',\n",
    "              'her','against','everything','nothing','you','first','alone','empty','noone','enough','nowhere','no','enough','myself','our'}\n",
    "# add to list - song structure, vocalise, and single letters\n",
    "STOP_WORDS |= {'lyrics','lyric','intro','verse','verses','chorus','prechorus','postchorus','outro','hook','bridge','embed','repeat','ah','ahh','oh',\n",
    "              'ooh','ohh','oo','la','lalala','na','nanana','whoa','woah','uh','ay','woo','huh','eh','mm','mmm','hmm','uhhuh','huh','da','di','ey','um',\n",
    "              'a','b','c','d','e','f','g','h','i','j','k','l','m','n','o','p','q','r','s','t','u','v','w','x','y','z', 'refrain'}"
   ]
  },
  {
   "cell_type": "markdown",
   "id": "96339f40",
   "metadata": {},
   "source": [
    "#### spaCy.pipe is Similar to Sklearn's Vectorizer"
   ]
  },
  {
   "cell_type": "code",
   "execution_count": 58,
   "id": "1ea3162e",
   "metadata": {},
   "outputs": [],
   "source": [
    "# empty list to store tokens\n",
    "tokens = []\n",
    "\n",
    "# remove tags\n",
    "removal = ['PRON','CCONJ','PUNCT','PART','DET','ADP','SPACE', 'NUM', 'SYM']\n",
    "\n",
    "offensive = ['fuck', 'fuckin', 'fucking', 'shit', 'motherfuck', 'mothafuck', 'motherfuckin', 'mothafuckin', 'motherfucking', 'mothafucking', 'bitch',\n",
    "            'bitches', 'fucker', 'fuckers', 'motherfucker', 'mothafucker', 'motherfuckers', 'mothafuckers', 'fucks', 'shits', 'nigga', 'niggas','ass',\n",
    "            'pussy', 'bullshit', 'dick', 'hoe', 'hoes', 'bitchass', 'dumbass']\n",
    "\n",
    "# run spacy's processing pipline\n",
    "for summary in spacy_nlp.pipe(billboard['lyrics']):\n",
    "    \n",
    "    # equivalent to a vectorizer\n",
    "    token_list = [token.lemma_.lower() for token in summary \\\n",
    "                if token.pos_ not in removal \\\n",
    "                and not token.is_stop \\\n",
    "                and token.is_alpha \\\n",
    "                and token.is_ascii \\\n",
    "                and not token.is_bracket]\n",
    "    \n",
    "    # censor offensive words\n",
    "    token_list = [x.replace(x[2:],'x'*(len(x)-1)) if x in offensive else x for x in token_list]\n",
    "    \n",
    "    tokens.append(token_list)"
   ]
  },
  {
   "cell_type": "markdown",
   "id": "7cdd504b",
   "metadata": {},
   "source": [
    "Similar to how we configured a custom tokenizer for our TF-IDF vectorizer, spaCy has a feature called \"pipe\" that follows a similar concept. After instantiating `en_core_web_sm` which is an English pipeline trained on written web text (blogs, news, comments), we can configure the tokenizer by calling `token.___`. \n",
    "- `.pos_` stands for \"part of speech\" and uses [universal POS tags](https://universaldependencies.org/u/pos/)\n",
    "- `is_stop` checks if string is in [stop list](https://github.com/explosion/spaCy/blob/master/spacy/lang/en/stop_words.py)\n",
    "- `is_alpha` checks if string is alphabetic\n",
    "- `is_ascii` checks if string has ASCII characters\n",
    "- `is_bracket` checks if string has square brackets"
   ]
  },
  {
   "cell_type": "code",
   "execution_count": 59,
   "id": "69616471",
   "metadata": {
    "scrolled": true
   },
   "outputs": [
    {
     "data": {
      "text/plain": [
       "5        [rybody, ryone, listen, hey, hey, hey, hey, he...\n",
       "7        [nixxxx, get, fuxxx, cap, yuh, yuh, dee, b, ge...\n",
       "32       [yeah, yeah, m, m, m, murda, yeah, damn, right...\n",
       "33       [murda, beat, nice, vip, squad, drop, gang, vi...\n",
       "34       [birthday, birthday, die, bury, ls, store, ha,...\n",
       "                               ...                        \n",
       "13763    [night, know, upside, down, hold, tongue, hear...\n",
       "13764    [seat, right, sit, stair, leave, cabinet, bare...\n",
       "13765    [fall, foot, ground, reach, er, pull, rein, le...\n",
       "13769    [stop, sound, good, more, turn, turn, know, kn...\n",
       "13770    [wanna, try, night, wanna, try, night, know, g...\n",
       "Name: tokens, Length: 6775, dtype: object"
      ]
     },
     "execution_count": 59,
     "metadata": {},
     "output_type": "execute_result"
    }
   ],
   "source": [
    "# create a new feature in dataframe with tokens\n",
    "billboard['tokens'] = tokens\n",
    "\n",
    "# preview\n",
    "billboard['tokens']"
   ]
  },
  {
   "cell_type": "code",
   "execution_count": 62,
   "id": "f4fe59f2",
   "metadata": {},
   "outputs": [
    {
     "name": "stdout",
     "output_type": "stream",
     "text": [
      "There are 27163 tokens in the dictionary.\n"
     ]
    }
   ],
   "source": [
    "# import Dictionary from Gensim and map token to unique ID\n",
    "token_dict = Dictionary(billboard['tokens'])\n",
    "\n",
    "print(f'There are {len(token_dict)} tokens in the dictionary.')"
   ]
  },
  {
   "cell_type": "code",
   "execution_count": 63,
   "id": "f0b573a7",
   "metadata": {},
   "outputs": [
    {
     "name": "stdout",
     "output_type": "stream",
     "text": [
      "Previous size: 27163 tokens\n",
      "Current size: 2039 tokens\n"
     ]
    }
   ],
   "source": [
    "print(f'Previous size: {len(token_dict)} tokens')\n",
    "\n",
    "# filter dictionary - similar to min_df and max_df\n",
    "token_dict.filter_extremes(no_below=35, no_above=0.85, keep_n=3000)\n",
    "\n",
    "print(f'Current size: {len(token_dict)} tokens')"
   ]
  },
  {
   "cell_type": "markdown",
   "id": "22bccdb0",
   "metadata": {},
   "source": [
    "#### How to choose the right number of topics?"
   ]
  },
  {
   "cell_type": "markdown",
   "id": "d078915d",
   "metadata": {},
   "source": [
    "The hyperparameter for the LDA model is essentially the number of topics. To determine the optimal number of topics, we use a metric called the *coherence score*. When we talk about a \"coherent sentence\", we are referring to the words within that sentence and whether or not they support each other for a holistic idea. Topic coherence does the same thing by \"measuring the degree of semantic similarity between high scoring words in the topic.\" ([source](https://towardsdatascience.com/evaluate-topic-model-in-python-latent-dirichlet-allocation-lda-7d57484bb5d0))\n",
    "\n",
    "To run the LDA model, we need to create a corpus. We can accomplish this with the doc2bow feature from Gensem. The documentation states that it \"converts document into the bag-of-words (BoW) format = list of (token_id, token_count) tuples.\""
   ]
  },
  {
   "cell_type": "code",
   "execution_count": 65,
   "id": "858908f5",
   "metadata": {},
   "outputs": [],
   "source": [
    "# word count mapped to integer word id, outputting a sparse vector\n",
    "corpus = [token_dict.doc2bow(doc) for doc in billboard['tokens']]"
   ]
  },
  {
   "cell_type": "markdown",
   "id": "9930da09",
   "metadata": {},
   "source": [
    "The format of the LDA model from Gensim is a little different than sklearn's:\n",
    "```python\n",
    "lda_model = LdaMulticore(corpus=corpus,      # input corpus\n",
    "                         id2word=token_dict, # input token dictionary\n",
    "                         iterations=50,      # number of iternations over corpus to optimize model; default = 50\n",
    "                         num_topics=10,      # number of topics (hyperparameter)\n",
    "                         workers = 4,        # number of cores on PC\n",
    "                         passes=10)          # number of times for model to pass through corpus\n",
    "\n",
    "```"
   ]
  },
  {
   "cell_type": "markdown",
   "id": "3980e0d2",
   "metadata": {},
   "source": [
    "We will run the coherence scores first to determine what to pass through `num_topics`. There are several different coherence measures based on how they are calculated. There is no best or correct calculation, but the most popular uses are `u_mass` and `c_v`. We will try running each one to determine the best of both worlds.\n",
    "\n",
    "The following cells will plot the c_v and u_mass scores based on number of numbers. c_v will range from $0<x<1$ and u_mass will range from $-14<x<14$. You will also see from the plots that both are \"inverses\" of each other. The overall coherence score of a topic represent the average distance between the words.\n",
    "\n",
    "Further reading on how c_v and u_mass are calculated can be found [here](https://www.baeldung.com/cs/topic-modeling-coherence-score) and [here](https://towardsdatascience.com/evaluate-topic-model-in-python-latent-dirichlet-allocation-lda-7d57484bb5d0)."
   ]
  },
  {
   "cell_type": "code",
   "execution_count": 66,
   "id": "c24f51e1",
   "metadata": {},
   "outputs": [
    {
     "data": {
      "image/png": "[encoded data removed]",
      "text/plain": [
       "<Figure size 720x360 with 1 Axes>"
      ]
     },
     "metadata": {
      "needs_background": "light"
     },
     "output_type": "display_data"
    }
   ],
   "source": [
    "# get coherence score using u_mass\n",
    "topics = []\n",
    "umass_score = []\n",
    "\n",
    "for i in range(1,11):\n",
    "    lda_model = LdaMulticore(corpus=corpus,\n",
    "                             id2word=token_dict,\n",
    "                             iterations=25,\n",
    "                             num_topics=i,\n",
    "                             workers = 4,\n",
    "                             passes=15,\n",
    "                             random_state=12)\n",
    "\n",
    "    coher_model = CoherenceModel(model=lda_model,\n",
    "                                 corpus=corpus,\n",
    "                                 dictionary=token_dict,\n",
    "                                 coherence='u_mass')\n",
    "    topics.append(i)\n",
    "    umass_score.append(coher_model.get_coherence())\n",
    "\n",
    "# visualize coherence score for umass\n",
    "plt.figure(figsize=(10,5))\n",
    "plt.plot(topics, umass_score, marker='o')\n",
    "plt.xlabel('Number of Topics')\n",
    "plt.ylabel('Coherence Score')\n",
    "plt.title('Coherence Score (u_mass) by Number of Topics')\n",
    "plt.xticks(range(1,11))\n",
    "plt.grid()\n",
    "plt.show()"
   ]
  },
  {
   "cell_type": "code",
   "execution_count": 67,
   "id": "bc2c6964",
   "metadata": {},
   "outputs": [
    {
     "data": {
      "image/png": "[encoded data removed]",
      "text/plain": [
       "<Figure size 720x360 with 1 Axes>"
      ]
     },
     "metadata": {
      "needs_background": "light"
     },
     "output_type": "display_data"
    }
   ],
   "source": [
    "# get coherence score using c_v\n",
    "topics = []\n",
    "cv_score = []\n",
    "\n",
    "for i in range(1,11):\n",
    "    lda_model = LdaMulticore(corpus=corpus,\n",
    "                            id2word=token_dict,\n",
    "                            iterations=20,\n",
    "                            num_topics=i,\n",
    "                            workers = 4,\n",
    "                            passes=10,\n",
    "                            random_state=15)\n",
    "\n",
    "    coher_model = CoherenceModel(model=lda_model,\n",
    "                                 texts = billboard['tokens'],\n",
    "                                 corpus=corpus,\n",
    "                                 dictionary=token_dict,\n",
    "                                 coherence='c_v')\n",
    "    topics.append(i)\n",
    "    cv_score.append(coher_model.get_coherence())\n",
    "    \n",
    "# visualize coherence score for C_v\n",
    "plt.figure(figsize=(10,5))\n",
    "plt.plot(topics, cv_score, marker='o')\n",
    "plt.xlabel('Number of Topics')\n",
    "plt.ylabel('Coherence Score')\n",
    "plt.title('Coherence Score (c_v) by Number of Topics')\n",
    "plt.xticks(range(1,11))\n",
    "plt.grid()\n",
    "plt.show()"
   ]
  },
  {
   "cell_type": "markdown",
   "id": "791c51d4",
   "metadata": {},
   "source": [
    "Based on the scores above, the optimal choice appears to be at `num_topics=2`. While these scores are just a guidance, we will run the LDA model for four topics as we know that the Billboard charts can cover a variety of topics. Based on the graphs, four is the max number of topics before hitting very low coherence scores.\n",
    "\n",
    "What we want to ensure in the visualization below is that each topic is distinct and not overlapping. We can also tweak the relevance parameter to view most frequent or most relevant keywords to determine the topic."
   ]
  },
  {
   "cell_type": "code",
   "execution_count": 70,
   "id": "fe5caaff",
   "metadata": {},
   "outputs": [],
   "source": [
    "# re-run model with optimized parameter\n",
    "lda_model = LdaMulticore(corpus=corpus,\n",
    "                         id2word=token_dict,\n",
    "                         iterations=100,\n",
    "                         num_topics=4,\n",
    "                         workers = 4,\n",
    "                         passes=100,\n",
    "                        random_state=15)"
   ]
  },
  {
   "cell_type": "markdown",
   "id": "dc0a0a1b",
   "metadata": {},
   "source": [
    "#### Understanding the visualization:\n",
    "- Each bubble in the graph represents a single topic.\n",
    "- The distance between each bubble represent how distinct the topics are.\n",
    "- The size the bubble indicates a higher percentage of tokens in the corpus about that topic.\n",
    "- The blue bar graph on the right is the total count of each token. When you select a topic, the bars will turn red indicating the number of times that token was generated by that specific topic.\n",
    "- On the top-right, lambda is the relevance parameter that ranges from $0 \\leq \\lambda \\leq 1$. This is an adjustable parameter that balances a term’s frequency in a particular topic against the its frequency across the entire corpus. In essence, if we lower $\\lambda$, we are penalizing the terms that just happens to be frequent in any topic, resulting in words that are more exclusive to that given topic."
   ]
  },
  {
   "cell_type": "code",
   "execution_count": 71,
   "id": "79f6f07a",
   "metadata": {},
   "outputs": [
    {
     "data": {
      "text/html": [
       "\n",
       "<link rel=\"stylesheet\" type=\"text/css\" href=\"https://cdn.jsdelivr.net/gh/bmabey/pyLDAvis@3.3.1/pyLDAvis/js/ldavis.v1.0.0.css\">\n",
       "\n",
       "\n",
       "<div id=\"ldavis_el4065621605031055683504867861\"></div>\n",
       "<script type=\"text/javascript\">\n",
       "\n",
       "var ldavis_el4065621605031055683504867861_data = {\"mdsDat\": {\"x\": [0.17167019591520108, 0.005059093438358565, -0.2123731760738261, 0.035643886720266464], \"y\": [0.04096338365095588, 0.08379917411105575, 0.012132703447474602, -0.13689526120948634], \"topics\": [1, 2, 3, 4], \"cluster\": [1, 1, 1, 1], \"Freq\": [29.575779576517004, 26.20264695046282, 23.544230207039522, 20.677343265980646]}, \"tinfo\": {\"Term\": [\"bixxxx\", \"love\", \"nixxxx\", \"girl\", \"fuxxx\", \"baby\", \"yeah\", \"shxxx\", \"ayy\", \"nixxxxx\", \"na\", \"wanna\", \"get\", \"heart\", \"night\", \"hey\", \"dance\", \"be\", \"axxxx\", \"lil\", \"money\", \"away\", \"never\", \"little\", \"know\", \"puxxxx\", \"let\", \"god\", \"gon\", \"go\", \"goodbye\", \"anymore\", \"na\", \"apart\", \"heartbreak\", \"someday\", \"shadow\", \"halfway\", \"darling\", \"darkness\", \"above\", \"suddenly\", \"midnight\", \"christmas\", \"guide\", \"memory\", \"lonely\", \"broken\", \"afraid\", \"lover\", \"terday\", \"oooh\", \"brave\", \"heart\", \"dear\", \"sail\", \"haunt\", \"away\", \"daylight\", \"faith\", \"alone\", \"beautiful\", \"love\", \"fall\", \"happy\", \"far\", \"breath\", \"find\", \"tear\", \"cry\", \"strong\", \"rain\", \"dark\", \"sky\", \"waste\", \"burn\", \"never\", \"will\", \"feel\", \"time\", \"break\", \"go\", \"no\", \"way\", \"lose\", \"leave\", \"dream\", \"day\", \"know\", \"long\", \"world\", \"let\", \"come\", \"think\", \"home\", \"e\", \"hold\", \"need\", \"life\", \"try\", \"thing\", \"want\", \"more\", \"tell\", \"look\", \"get\", \"wanna\", \"right\", \"like\", \"yeah\", \"loyalty\", \"sentence\", \"support\", \"jesus\", \"praise\", \"reply\", \"legend\", \"drama\", \"generation\", \"success\", \"revenge\", \"dad\", \"rare\", \"trophy\", \"funeral\", \"industry\", \"pen\", \"realest\", \"bye\", \"studio\", \"witness\", \"tea\", \"neighbor\", \"fam\", \"blessing\", \"practice\", \"prs\", \"job\", \"opinion\", \"form\", \"god\", \"judge\", \"fame\", \"level\", \"thank\", \"problem\", \"woman\", \"respect\", \"bless\", \"kid\", \"silly\", \"man\", \"enemy\", \"die\", \"brother\", \"be\", \"lord\", \"hate\", \"pray\", \"nah\", \"great\", \"real\", \"lie\", \"kill\", \"tell\", \"know\", \"people\", \"tryna\", \"talk\", \"bad\", \"gon\", \"shxxx\", \"live\", \"life\", \"say\", \"get\", \"run\", \"well\", \"think\", \"like\", \"work\", \"never\", \"friend\", \"new\", \"time\", \"good\", \"fuxxx\", \"day\", \"feel\", \"come\", \"go\", \"right\", \"want\", \"yeah\", \"need\", \"que\", \"skrrt\", \"rack\", \"pa\", \"doo\", \"de\", \"hol\", \"slatt\", \"wrist\", \"baow\", \"si\", \"brrt\", \"tu\", \"chopper\", \"chop\", \"ella\", \"thot\", \"patek\", \"por\", \"quiero\", \"con\", \"ti\", \"como\", \"slime\", \"pero\", \"puxxxx\", \"opp\", \"sauce\", \"gang\", \"turnt\", \"bixxxx\", \"ho\", \"coupe\", \"un\", \"el\", \"glock\", \"dixxx\", \"lo\", \"lil\", \"ayy\", \"gucci\", \"trap\", \"nixxxx\", \"bust\", \"hoxx\", \"axxxx\", \"dope\", \"pop\", \"bag\", \"fuxxx\", \"nixxxxx\", \"whip\", \"te\", \"y\", \"money\", \"shxxx\", \"yo\", \"shoot\", \"yeah\", \"get\", \"smoke\", \"hit\", \"pull\", \"gon\", \"big\", \"be\", \"like\", \"come\", \"let\", \"look\", \"know\", \"e\", \"sugar\", \"bass\", \"whistle\", \"beer\", \"dancing\", \"gimme\", \"ma\", \"hey\", \"rhythm\", \"booty\", \"crank\", \"dance\", \"groove\", \"party\", \"aye\", \"yea\", \"shake\", \"cowboy\", \"sex\", \"girl\", \"tennessee\", \"thang\", \"fancy\", \"pedal\", \"country\", \"speaker\", \"weekend\", \"drinking\", \"low\", \"downtown\", \"boyfriend\", \"hoo\", \"ya\", \"baby\", \"drink\", \"body\", \"rock\", \"club\", \"freak\", \"floor\", \"wanna\", \"night\", \"lady\", \"yeah\", \"little\", \"tty\", \"down\", \"get\", \"want\", \"right\", \"let\", \"good\", \"stop\", \"like\", \"hand\", \"tonight\", \"boy\", \"go\", \"come\", \"know\", \"look\", \"way\", \"be\", \"love\", \"need\"], \"Freq\": [9782.0, 16022.0, 8041.0, 7037.0, 7945.0, 8089.0, 17295.0, 7228.0, 4033.0, 4961.0, 3361.0, 8817.0, 25000.0, 3868.0, 5335.0, 2416.0, 2475.0, 12437.0, 2526.0, 1943.0, 3565.0, 2747.0, 7282.0, 3468.0, 22476.0, 1470.0, 11769.0, 2256.0, 4625.0, 11326.0, 411.3063548504768, 454.80360919243697, 3350.6255865939165, 388.4493345671649, 147.11963440179383, 104.30273843690048, 123.95520842951392, 112.8975124857727, 232.66341864472744, 119.87687104961152, 86.54857433081679, 70.90885376916295, 120.00944834106456, 423.8294625677879, 60.720667934257534, 198.00522673032418, 665.6516797724419, 227.97921514582916, 385.59027329062707, 363.67801067075493, 138.95695366955724, 220.39352636512467, 75.61912864839023, 3591.1029755715062, 124.24934637938256, 51.37898751378246, 85.53383798858823, 2511.6423432358356, 101.28754007705209, 201.7067985396294, 1371.9577505359555, 623.9189073312809, 13284.407310847197, 2215.8591937188608, 506.85380507528595, 721.1082812194475, 383.79142994755136, 2382.395418095988, 766.6580129402702, 966.224901702363, 662.7374363491972, 817.3670569791801, 707.4852797507914, 803.7334995589772, 592.9733345754742, 806.5915416401933, 4325.2707160463415, 2142.7632332388016, 4443.464759120352, 4745.856516702958, 1831.8744442586712, 5768.037498359656, 3624.2917608306766, 3797.123700309655, 1642.0168469296711, 2548.5418730622073, 1202.6407973227344, 2578.6087174514914, 8579.639799140376, 1734.0267429923126, 1841.2638539600625, 4955.338137555145, 4551.22078610621, 3263.295689849471, 1492.6901723584779, 2621.240201767448, 1809.7916848214015, 3066.679225944545, 2329.417062873511, 1861.6643587190995, 2172.3252847451504, 3319.108572861098, 1941.4958898820157, 2610.1496094747054, 2194.0803000868077, 2928.7366719187617, 2305.0415507602734, 2002.8074772538764, 2042.6811646284789, 2087.688393239461, 62.33135420611564, 41.37591987832985, 57.07008196898403, 218.94381555547915, 115.24603459777455, 66.62441619881301, 149.2614757895193, 109.34735634247832, 41.682243527657896, 47.28817471573366, 55.61227227887284, 287.40682668063494, 60.21201265344737, 103.19794667177494, 48.392779625308044, 43.591869615912074, 96.51154448062066, 61.96978096226075, 430.18351736055945, 66.46101751837043, 77.21019981206189, 171.63573147542562, 101.4424075345487, 464.8033502570896, 156.917023429101, 61.856069025006406, 52.6807221823532, 225.6617405708856, 38.92615301825123, 63.71498045189021, 1957.3495802734735, 204.95426026388932, 245.77842994151416, 329.5846880141499, 483.4560583974625, 578.8458015019794, 834.9877912389198, 182.9384779430847, 220.474712243866, 716.8084490060868, 143.45411697931362, 3046.172761221242, 187.0031324846599, 1424.0113855500294, 383.62915932637134, 6753.787831155122, 569.0907208977569, 1144.9917907641752, 563.7324534947487, 878.5225690696807, 406.9623054651939, 1653.6636899323425, 1464.536547937152, 1055.9543079137397, 4192.567228981501, 8637.262874645441, 854.5331677149693, 1228.8246376537888, 1816.6382714882327, 1596.4955082893175, 2202.9742659033536, 3053.6432997122465, 1500.3128089438428, 2237.60312835568, 2370.4343437977404, 7398.903155064718, 1850.6050095134026, 1506.4540678280198, 2687.9842141080694, 3512.9600338803702, 1120.4263682465053, 2379.1594745697735, 1135.1049431421582, 1285.3727468009363, 2387.072977269399, 1932.3753768655527, 2047.4316537358534, 1522.4014243066665, 1826.6038052393294, 2016.4436371741338, 2028.15368110502, 1698.2631168882804, 1877.1586112237003, 1916.0690310471873, 1630.4759196418358, 1002.3671427545494, 945.5543119295742, 678.5735543394645, 569.0116894043781, 466.3801040727014, 492.0394782131022, 397.59633720745717, 311.01264001516194, 620.9205754728564, 267.1748139960838, 274.086896283837, 263.1850815150066, 261.1785666743184, 252.21612792392108, 237.232811727064, 219.3562237589789, 210.3840778417903, 209.39071593624985, 200.44147603502697, 198.4543030863782, 191.4201857749188, 189.4486746879139, 185.48829552014885, 181.48803003868764, 177.5353731394297, 1464.1299387689614, 163.53898603907524, 206.13635204869405, 1020.062699306131, 155.54710459641308, 9599.595388162226, 1359.8891080196079, 344.78245342785664, 319.75613144533514, 451.6378153784415, 353.961115696453, 855.1240267456018, 584.5160921099157, 1844.072155987558, 3707.700283263023, 425.7502793535191, 693.3317511966152, 7100.394600929262, 867.0279108934675, 1181.1091746793725, 2171.946985041114, 604.2312029799649, 1651.4704921076686, 1122.5874188732514, 5885.016519581036, 3783.6811464236594, 673.8821820473885, 584.6552378261301, 1202.9931274001542, 2442.4592388865167, 4152.343230158121, 1236.4841857545434, 982.7607521525628, 5587.309826317811, 6733.735149168773, 955.1432541223438, 1631.655353954743, 1219.6727637496372, 1911.4888060491794, 1487.1462976933376, 3062.668959984077, 1706.424299073949, 1572.9065373755575, 1538.5362125461972, 1352.831099487195, 1679.3771767784165, 1115.25517563483, 178.67983767883155, 261.7261179376866, 102.19999488119457, 301.2636647031301, 199.84370958871256, 327.88444308729197, 782.7004831341052, 2256.862601215155, 198.94480104500036, 482.6148688317204, 128.86930307859035, 2282.766476941419, 55.1015121208053, 1327.2711021720309, 171.17785891766104, 165.88813472342196, 955.3257876296974, 73.39262649048212, 119.28485582678242, 6215.2172016823615, 69.88289924642727, 309.05922720335263, 113.93961627461482, 87.62028513883335, 445.9379344290476, 102.33443798728499, 220.3714643111264, 64.80563613149393, 1309.649817559345, 81.4860416737368, 182.76550336056607, 285.5433134878965, 1260.084565919174, 5613.7105506972775, 1239.6918650608568, 1599.2438817296277, 1095.3596707148497, 789.3990224623903, 393.6938727259188, 758.1582414859165, 4867.8964410654335, 2983.731404670112, 442.3036698103136, 7704.259471548268, 1935.5106476232424, 632.8097801746793, 1523.734749713794, 7938.985988448516, 3793.880523217383, 2751.809692119829, 4018.556406369425, 2434.640209353616, 1262.2081715063466, 3230.239239921821, 1337.9677143046772, 1081.7289771209503, 1372.099314716973, 2919.7496174682074, 2740.855747280617, 3579.8257217912346, 1639.7837587278145, 1546.9267581000206, 1809.2020238299322, 1730.2312172285851, 1453.6711360802524], \"Total\": [9782.0, 16022.0, 8041.0, 7037.0, 7945.0, 8089.0, 17295.0, 7228.0, 4033.0, 4961.0, 3361.0, 8817.0, 25000.0, 3868.0, 5335.0, 2416.0, 2475.0, 12437.0, 2526.0, 1943.0, 3565.0, 2747.0, 7282.0, 3468.0, 22476.0, 1470.0, 11769.0, 2256.0, 4625.0, 11326.0, 412.0769295084425, 455.7645448866419, 3361.631218297959, 390.21621996362137, 147.89886974662036, 105.18538078562277, 125.05807222202968, 115.11601827661094, 237.28509753431626, 123.10355179891467, 89.31507231235705, 73.41277923190843, 125.08424195665542, 442.90733981059225, 63.47563594780618, 207.5709935544348, 702.3216724595079, 242.38602681682082, 411.2593460602019, 389.4786319000326, 148.90062343829965, 236.34710166003052, 81.3636555444556, 3868.7866511671477, 134.05420367121275, 55.55265810616793, 93.33448621894844, 2747.1549611362343, 111.17107790447076, 221.61329457306314, 1520.7135200210257, 702.4782813586811, 16022.612916614698, 2636.1626055286556, 581.6080022336548, 844.2739520012466, 435.31938619407646, 2983.3421747145326, 936.0550758383931, 1222.5807953398082, 808.514817805602, 1030.7230709579585, 885.0278055031273, 1030.495935881567, 733.8436057217145, 1048.142223632827, 7282.854935396714, 3239.21604345831, 7581.50252891687, 8462.50727481474, 2831.01521819953, 11326.498348858751, 6477.212094011529, 7116.713896305499, 2525.81348982283, 4402.76477705982, 1718.1833173264258, 4686.371185585676, 22476.105572355467, 2837.533738078321, 3076.615326230836, 11769.770989315673, 10881.426707936518, 6985.416199355379, 2386.016177035714, 5290.146349882159, 3194.9499532269833, 6910.240831277893, 4871.104125144556, 3436.156607952186, 4469.3408869868135, 10009.946371671589, 3835.7320410586185, 8725.012744986661, 6640.778834462196, 25000.360964600768, 8817.596653691355, 6674.41450848276, 10492.304737504619, 17295.326722152728, 63.2783300779255, 42.15588246605295, 58.23501049708851, 227.10231723302874, 119.54745147608828, 69.27340299232014, 155.74157241271672, 114.4850365097978, 44.12341238371025, 50.136989105601934, 59.19311222636944, 306.43277019540426, 64.21389211728817, 110.44599540248218, 52.16921420679973, 47.155744295320794, 104.4080539762704, 67.24319452422512, 468.2603645737021, 73.25300194116478, 85.27840789483307, 189.84451225173004, 112.4372392305463, 517.295653024895, 174.6688158516807, 69.20722849555726, 59.18903006871106, 255.08687547541018, 44.11011351263979, 72.22079730777344, 2256.3214541515217, 232.89414928447195, 280.1861243360568, 377.67102488699766, 564.2015376385207, 689.8828226318493, 1014.2532044440643, 210.83232710207548, 258.9628781644624, 909.1261677997508, 165.59683014374596, 4755.483162290155, 222.76818189214416, 2106.6904959104486, 492.6444423860788, 12437.117742267394, 773.779429815563, 1702.6599679805138, 768.779488986383, 1294.4682292251314, 536.4612453985634, 2710.5507795516546, 2391.4777898703123, 1671.0245788281936, 8725.012744986661, 22476.105572355467, 1359.4909054805821, 2167.7290094509262, 3569.0932861428782, 3073.6105000373514, 4625.55128980491, 7228.595853830729, 2891.6424085377953, 4871.104125144556, 5259.636857029305, 25000.360964600768, 3936.045880084118, 3059.4145583182867, 6985.416199355379, 10492.304737504619, 2073.913087673456, 7282.854935396714, 2205.621126173437, 2781.7447108014812, 8462.50727481474, 6112.11079627182, 7945.211054557454, 4686.371185585676, 7581.50252891687, 10881.426707936518, 11326.498348858751, 6674.41450848276, 10009.946371671589, 17295.326722152728, 6910.240831277893, 1003.1270114807063, 946.3308353359621, 679.3480650907285, 569.7735737807268, 467.1504195755408, 493.0228639151016, 398.41222662568936, 311.7694266353156, 622.5505773343917, 267.93292685303624, 274.87164041412524, 263.9449484305102, 261.94323158313045, 252.9803720619739, 238.01990472620625, 220.11437556161187, 211.14456242650004, 210.15029226660656, 201.19565584578476, 199.20641426616424, 192.19344951843468, 190.2145600793873, 186.2462013524133, 182.25137292040534, 178.28719384432932, 1470.3545418924598, 164.31721742117085, 207.13901108082456, 1025.052204413843, 156.3271832245453, 9782.347163674936, 1382.7821646626242, 346.60897718897996, 321.68582456033727, 456.18783043692395, 357.5916997680606, 879.7808733908483, 598.5867450359892, 1943.096659534909, 4033.1962335956514, 435.2802695999149, 720.341837165713, 8041.245076364346, 925.554063671209, 1281.981767891238, 2526.207324174112, 639.7926761414354, 1904.5813120785988, 1270.063167178365, 7945.211054557454, 4961.257312011773, 731.5749807561415, 633.3896559107371, 1506.926534389776, 3565.3705959928625, 7228.595853830729, 1705.0001489384963, 1309.3111302109571, 17295.326722152728, 25000.360964600768, 1324.524310258757, 3313.7903875011953, 2046.708844239722, 4625.55128980491, 2985.6275491704528, 12437.117742267394, 10492.304737504619, 10881.426707936518, 11769.770989315673, 6640.778834462196, 22476.105572355467, 5290.146349882159, 181.6754291972339, 269.55035732139015, 105.75361454163175, 313.4382041705313, 208.5837957203385, 342.4746555112615, 824.7637482018055, 2416.0999561547424, 213.56027614319373, 519.1789003919184, 138.7181701618584, 2475.8591864126256, 59.79932140621388, 1449.0067678098633, 187.71101390174016, 184.55867599825592, 1063.1962791806475, 81.79449115447235, 133.68334279639845, 7037.333102294764, 79.74635227332656, 357.4603138439969, 131.78559272603553, 102.73133620772023, 527.7646317214871, 122.77937168329774, 264.5622809688554, 78.84552026795672, 1593.3840348105534, 99.67407678854141, 224.8870207757554, 355.2150789745957, 1646.2860716814798, 8089.1550164616, 1678.8064968387425, 2217.497745861622, 1486.845722442825, 1090.2325657803685, 517.0392063475748, 1077.1048224913693, 8817.596653691355, 5335.74892478353, 592.741017387558, 17295.326722152728, 3468.4763732803185, 932.9171418767164, 2767.146414591628, 25000.360964600768, 10009.946371671589, 6674.41450848276, 11769.770989315673, 6112.11079627182, 2575.177192614483, 10492.304737504619, 2832.4696420461814, 2113.431365785861, 3083.345205906953, 11326.498348858751, 10881.426707936518, 22476.105572355467, 6640.778834462196, 7116.713896305499, 12437.117742267394, 16022.612916614698, 6910.240831277893], \"Category\": [\"Default\", \"Default\", \"Default\", \"Default\", \"Default\", \"Default\", \"Default\", \"Default\", \"Default\", \"Default\", \"Default\", \"Default\", \"Default\", \"Default\", \"Default\", \"Default\", \"Default\", \"Default\", \"Default\", \"Default\", \"Default\", \"Default\", \"Default\", \"Default\", \"Default\", \"Default\", \"Default\", \"Default\", \"Default\", \"Default\", \"Topic1\", \"Topic1\", \"Topic1\", \"Topic1\", \"Topic1\", \"Topic1\", \"Topic1\", \"Topic1\", \"Topic1\", \"Topic1\", \"Topic1\", \"Topic1\", \"Topic1\", \"Topic1\", \"Topic1\", \"Topic1\", \"Topic1\", \"Topic1\", \"Topic1\", \"Topic1\", \"Topic1\", \"Topic1\", \"Topic1\", \"Topic1\", \"Topic1\", \"Topic1\", \"Topic1\", \"Topic1\", \"Topic1\", \"Topic1\", \"Topic1\", \"Topic1\", \"Topic1\", \"Topic1\", \"Topic1\", \"Topic1\", \"Topic1\", \"Topic1\", \"Topic1\", \"Topic1\", \"Topic1\", \"Topic1\", \"Topic1\", \"Topic1\", \"Topic1\", \"Topic1\", \"Topic1\", \"Topic1\", \"Topic1\", \"Topic1\", \"Topic1\", \"Topic1\", \"Topic1\", \"Topic1\", \"Topic1\", \"Topic1\", \"Topic1\", \"Topic1\", \"Topic1\", \"Topic1\", \"Topic1\", \"Topic1\", \"Topic1\", \"Topic1\", \"Topic1\", \"Topic1\", \"Topic1\", \"Topic1\", \"Topic1\", \"Topic1\", \"Topic1\", \"Topic1\", \"Topic1\", \"Topic1\", \"Topic1\", \"Topic1\", \"Topic1\", \"Topic1\", \"Topic1\", \"Topic1\", \"Topic2\", \"Topic2\", \"Topic2\", \"Topic2\", \"Topic2\", \"Topic2\", \"Topic2\", \"Topic2\", \"Topic2\", \"Topic2\", \"Topic2\", \"Topic2\", \"Topic2\", \"Topic2\", \"Topic2\", \"Topic2\", \"Topic2\", \"Topic2\", \"Topic2\", \"Topic2\", \"Topic2\", \"Topic2\", \"Topic2\", \"Topic2\", \"Topic2\", \"Topic2\", \"Topic2\", \"Topic2\", \"Topic2\", \"Topic2\", \"Topic2\", \"Topic2\", \"Topic2\", \"Topic2\", \"Topic2\", \"Topic2\", \"Topic2\", \"Topic2\", \"Topic2\", \"Topic2\", \"Topic2\", \"Topic2\", \"Topic2\", \"Topic2\", \"Topic2\", \"Topic2\", \"Topic2\", \"Topic2\", \"Topic2\", \"Topic2\", \"Topic2\", \"Topic2\", \"Topic2\", \"Topic2\", \"Topic2\", \"Topic2\", \"Topic2\", \"Topic2\", \"Topic2\", \"Topic2\", \"Topic2\", \"Topic2\", \"Topic2\", \"Topic2\", \"Topic2\", \"Topic2\", \"Topic2\", \"Topic2\", \"Topic2\", \"Topic2\", \"Topic2\", \"Topic2\", \"Topic2\", \"Topic2\", \"Topic2\", \"Topic2\", \"Topic2\", \"Topic2\", \"Topic2\", \"Topic2\", \"Topic2\", \"Topic2\", \"Topic2\", \"Topic2\", \"Topic2\", \"Topic3\", \"Topic3\", \"Topic3\", \"Topic3\", \"Topic3\", \"Topic3\", \"Topic3\", \"Topic3\", \"Topic3\", \"Topic3\", \"Topic3\", \"Topic3\", \"Topic3\", \"Topic3\", \"Topic3\", \"Topic3\", \"Topic3\", \"Topic3\", \"Topic3\", \"Topic3\", \"Topic3\", \"Topic3\", \"Topic3\", \"Topic3\", \"Topic3\", \"Topic3\", \"Topic3\", \"Topic3\", \"Topic3\", \"Topic3\", \"Topic3\", \"Topic3\", \"Topic3\", \"Topic3\", \"Topic3\", \"Topic3\", \"Topic3\", \"Topic3\", \"Topic3\", \"Topic3\", \"Topic3\", \"Topic3\", \"Topic3\", \"Topic3\", \"Topic3\", \"Topic3\", \"Topic3\", \"Topic3\", \"Topic3\", \"Topic3\", \"Topic3\", \"Topic3\", \"Topic3\", \"Topic3\", \"Topic3\", \"Topic3\", \"Topic3\", \"Topic3\", \"Topic3\", \"Topic3\", \"Topic3\", \"Topic3\", \"Topic3\", \"Topic3\", \"Topic3\", \"Topic3\", \"Topic3\", \"Topic3\", \"Topic3\", \"Topic3\", \"Topic3\", \"Topic3\", \"Topic4\", \"Topic4\", \"Topic4\", \"Topic4\", \"Topic4\", \"Topic4\", \"Topic4\", \"Topic4\", \"Topic4\", \"Topic4\", \"Topic4\", \"Topic4\", \"Topic4\", \"Topic4\", \"Topic4\", \"Topic4\", \"Topic4\", \"Topic4\", \"Topic4\", \"Topic4\", \"Topic4\", \"Topic4\", \"Topic4\", \"Topic4\", \"Topic4\", \"Topic4\", \"Topic4\", \"Topic4\", \"Topic4\", \"Topic4\", \"Topic4\", \"Topic4\", \"Topic4\", \"Topic4\", \"Topic4\", \"Topic4\", \"Topic4\", \"Topic4\", \"Topic4\", \"Topic4\", \"Topic4\", \"Topic4\", \"Topic4\", \"Topic4\", \"Topic4\", \"Topic4\", \"Topic4\", \"Topic4\", \"Topic4\", \"Topic4\", \"Topic4\", \"Topic4\", \"Topic4\", \"Topic4\", \"Topic4\", \"Topic4\", \"Topic4\", \"Topic4\", \"Topic4\", \"Topic4\", \"Topic4\", \"Topic4\", \"Topic4\", \"Topic4\", \"Topic4\"], \"logprob\": [30.0, 29.0, 28.0, 27.0, 26.0, 25.0, 24.0, 23.0, 22.0, 21.0, 20.0, 19.0, 18.0, 17.0, 16.0, 15.0, 14.0, 13.0, 12.0, 11.0, 10.0, 9.0, 8.0, 7.0, 6.0, 5.0, 4.0, 3.0, 2.0, 1.0, -6.6336, -6.533, -4.536, -6.6907, -7.6617, -8.0056, -7.833, -7.9264, -7.2033, -7.8664, -8.1922, -8.3915, -7.8653, -6.6036, -8.5466, -7.3646, -6.1521, -7.2237, -6.6981, -6.7566, -7.7187, -7.2575, -8.3272, -4.4667, -7.8306, -8.7137, -8.204, -4.8242, -8.0349, -7.3461, -5.4289, -6.2169, -3.1586, -4.9495, -6.4247, -6.0721, -6.7028, -4.877, -6.0109, -5.7795, -6.1565, -5.9468, -6.0912, -5.9636, -6.2678, -5.9601, -4.2807, -4.9831, -4.2537, -4.1879, -5.1398, -3.9928, -4.4575, -4.4109, -5.2492, -4.8096, -5.5606, -4.7979, -3.5958, -5.1947, -5.1347, -4.1447, -4.2298, -4.5624, -5.3446, -4.7815, -5.1519, -4.6246, -4.8995, -5.1237, -4.9694, -4.5455, -5.0817, -4.7857, -4.9594, -4.6706, -4.9101, -5.0506, -5.0309, -5.0091, -8.3994, -8.8091, -8.4875, -7.143, -7.7847, -8.3327, -7.5261, -7.8373, -8.8017, -8.6756, -8.5134, -6.8709, -8.4339, -7.8952, -8.6525, -8.7569, -7.9622, -8.4052, -6.4676, -8.3352, -8.1853, -7.3864, -7.9123, -6.3902, -7.4761, -8.407, -8.5676, -7.1128, -8.8701, -8.3774, -4.9525, -7.209, -7.0274, -6.734, -6.3509, -6.1708, -5.8044, -7.3227, -7.136, -5.957, -7.5658, -4.5102, -7.3007, -5.2706, -6.5821, -3.714, -6.1878, -5.4887, -6.1972, -5.7536, -6.5231, -5.1211, -5.2425, -5.5696, -4.1907, -3.468, -5.7813, -5.418, -5.0271, -5.1562, -4.8343, -4.5077, -5.2184, -4.8187, -4.761, -3.6227, -5.0085, -5.2143, -4.6353, -4.3676, -5.5104, -4.7573, -5.4973, -5.373, -4.754, -4.9653, -4.9075, -5.2038, -5.0216, -4.9227, -4.9169, -5.0945, -4.9943, -4.9738, -5.1352, -5.5147, -5.5731, -5.9048, -6.0809, -6.2798, -6.2263, -6.4394, -6.685, -5.9936, -6.8369, -6.8114, -6.852, -6.8596, -6.8945, -6.9558, -7.0341, -7.0759, -7.0806, -7.1243, -7.1343, -7.1704, -7.1807, -7.2018, -7.2236, -7.2457, -5.1358, -7.3278, -7.0963, -5.4972, -7.3779, -3.2554, -5.2097, -6.5819, -6.6573, -6.312, -6.5556, -5.6736, -6.0541, -4.9051, -4.2067, -6.371, -5.8833, -3.5569, -5.6598, -5.3506, -4.7415, -6.0209, -5.0154, -5.4014, -3.7447, -4.1864, -5.9118, -6.0538, -5.3323, -4.6241, -4.0934, -5.3048, -5.5345, -3.7966, -3.61, -5.563, -5.0275, -5.3185, -4.8692, -5.1202, -4.3978, -4.9827, -5.0642, -5.0862, -5.2149, -4.9987, -5.408, -7.1094, -6.7277, -7.6681, -6.587, -6.9975, -6.5023, -5.6322, -4.5733, -7.002, -6.1158, -7.4362, -4.5619, -8.2858, -5.1041, -7.1523, -7.1837, -5.4329, -7.9992, -7.5135, -3.5602, -8.0482, -6.5615, -7.5593, -7.822, -6.1948, -7.6667, -6.8997, -8.1236, -5.1175, -7.8946, -7.0868, -6.6406, -5.1561, -3.662, -5.1724, -4.9177, -5.2962, -5.6237, -6.3194, -5.6641, -3.8046, -4.2941, -6.203, -3.3455, -4.7269, -5.8448, -4.9661, -3.3155, -4.0538, -4.375, -3.9963, -4.4974, -5.1544, -4.2147, -5.0961, -5.3087, -5.0709, -4.3157, -4.379, -4.1119, -4.8927, -4.951, -4.7944, -4.839, -5.0131], \"loglift\": [30.0, 29.0, 28.0, 27.0, 26.0, 25.0, 24.0, 23.0, 22.0, 21.0, 20.0, 19.0, 18.0, 17.0, 16.0, 15.0, 14.0, 13.0, 12.0, 11.0, 10.0, 9.0, 8.0, 7.0, 6.0, 5.0, 4.0, 3.0, 2.0, 1.0, 1.2163, 1.2161, 1.2149, 1.2137, 1.2129, 1.2098, 1.2094, 1.1988, 1.1985, 1.1917, 1.1868, 1.1835, 1.1768, 1.1742, 1.1738, 1.171, 1.1646, 1.1569, 1.1538, 1.1497, 1.1491, 1.1483, 1.145, 1.1437, 1.1423, 1.1401, 1.1309, 1.1286, 1.1251, 1.1241, 1.1153, 1.0996, 1.0308, 1.0445, 1.0806, 1.0605, 1.0922, 0.9933, 1.0186, 0.9829, 1.0194, 0.9863, 0.9943, 0.9697, 1.0051, 0.9563, 0.6972, 0.805, 0.6839, 0.6398, 0.7829, 0.5434, 0.6376, 0.59, 0.7876, 0.6715, 0.8615, 0.6208, 0.2552, 0.7257, 0.7048, 0.3531, 0.3466, 0.4571, 0.7492, 0.516, 0.6499, 0.4058, 0.4805, 0.6053, 0.4968, 0.1143, 0.5373, 0.0114, 0.1107, -0.9261, -0.1234, 0.0145, -0.4182, -0.8962, 1.3242, 1.3206, 1.3191, 1.3027, 1.3027, 1.3003, 1.2968, 1.2934, 1.2824, 1.2808, 1.2769, 1.2752, 1.275, 1.2714, 1.2642, 1.2607, 1.2607, 1.2576, 1.2545, 1.242, 1.2399, 1.2385, 1.2364, 1.2323, 1.2321, 1.227, 1.2228, 1.2167, 1.2143, 1.214, 1.1972, 1.2115, 1.2083, 1.2031, 1.1849, 1.1638, 1.1448, 1.1974, 1.1784, 1.1016, 1.1958, 0.8939, 1.1643, 0.9477, 1.0892, 0.7287, 1.0321, 0.9425, 1.0291, 0.9517, 1.063, 0.8452, 0.8489, 0.8803, 0.6064, 0.3829, 0.875, 0.7717, 0.664, 0.6843, 0.5975, 0.4776, 0.6832, 0.5614, 0.5423, 0.1218, 0.5846, 0.6308, 0.3843, 0.2451, 0.7236, 0.2205, 0.675, 0.5673, 0.0737, 0.1878, -0.0167, 0.2149, -0.0839, -0.3464, -0.3807, -0.0294, -0.3345, -0.8609, -0.1048, 1.4455, 1.4455, 1.4451, 1.445, 1.4446, 1.4443, 1.4442, 1.4439, 1.4437, 1.4435, 1.4434, 1.4434, 1.4434, 1.4433, 1.443, 1.4428, 1.4427, 1.4427, 1.4425, 1.4425, 1.4423, 1.4423, 1.4422, 1.4421, 1.4421, 1.442, 1.4415, 1.4414, 1.4414, 1.4413, 1.4274, 1.4296, 1.441, 1.4403, 1.4363, 1.4361, 1.4179, 1.4225, 1.394, 1.3621, 1.4242, 1.4081, 1.3219, 1.381, 1.3643, 1.2952, 1.3891, 1.3037, 1.3229, 1.1461, 1.1753, 1.3641, 1.3662, 1.221, 1.068, 0.8919, 1.125, 1.1594, 0.3164, 0.1345, 1.1193, 0.7378, 0.9286, 0.5626, 0.7493, 0.0449, -0.37, -0.4878, -0.5884, -0.1447, -1.1477, -0.1105, 1.5595, 1.5467, 1.542, 1.5365, 1.5333, 1.5326, 1.5238, 1.508, 1.5052, 1.5031, 1.5025, 1.4949, 1.4943, 1.4884, 1.4839, 1.4695, 1.4691, 1.4677, 1.4622, 1.4519, 1.4441, 1.4306, 1.4306, 1.417, 1.4077, 1.394, 1.3934, 1.38, 1.38, 1.3747, 1.3687, 1.3578, 1.3088, 1.2108, 1.2729, 1.2493, 1.2706, 1.2533, 1.3036, 1.225, 0.982, 0.9949, 1.2834, 0.7675, 0.9928, 1.188, 0.9795, 0.429, 0.6059, 0.6901, 0.5015, 0.6557, 0.8631, 0.398, 0.8261, 0.9064, 0.7665, 0.2205, 0.1973, -0.261, 0.1775, 0.05, -0.3517, -0.6496, 0.0172]}, \"token.table\": {\"Topic\": [1, 2, 1, 2, 4, 1, 2, 3, 4, 1, 1, 2, 4, 1, 2, 3, 4, 2, 3, 4, 2, 3, 4, 1, 2, 3, 4, 1, 2, 3, 4, 1, 2, 3, 4, 1, 2, 3, 4, 3, 3, 4, 1, 2, 3, 4, 1, 2, 4, 1, 2, 4, 1, 2, 3, 4, 2, 3, 4, 1, 2, 3, 1, 2, 1, 2, 3, 4, 3, 4, 1, 2, 3, 4, 2, 3, 4, 1, 2, 4, 1, 2, 3, 4, 1, 2, 3, 4, 1, 2, 1, 2, 3, 4, 3, 1, 2, 3, 4, 2, 3, 4, 2, 3, 4, 3, 3, 1, 2, 3, 2, 3, 4, 1, 2, 3, 4, 3, 3, 1, 2, 3, 4, 2, 3, 1, 2, 3, 4, 3, 4, 1, 2, 3, 4, 1, 2, 3, 1, 2, 3, 4, 1, 3, 4, 1, 2, 3, 4, 1, 2, 1, 4, 1, 2, 3, 4, 1, 2, 3, 4, 3, 1, 2, 4, 1, 2, 3, 4, 2, 3, 4, 3, 2, 3, 4, 1, 2, 3, 4, 1, 3, 4, 1, 2, 3, 1, 2, 3, 4, 1, 2, 3, 4, 2, 3, 4, 1, 2, 3, 4, 3, 4, 3, 1, 2, 3, 1, 2, 1, 2, 3, 4, 1, 2, 3, 2, 3, 4, 1, 2, 4, 1, 2, 3, 4, 1, 2, 3, 4, 1, 2, 3, 4, 1, 2, 3, 4, 1, 2, 4, 2, 3, 4, 1, 2, 3, 4, 2, 3, 2, 3, 4, 2, 3, 1, 2, 1, 2, 3, 4, 2, 3, 4, 1, 2, 3, 4, 2, 3, 1, 2, 3, 4, 1, 2, 3, 4, 1, 2, 3, 4, 1, 2, 3, 4, 1, 1, 2, 3, 4, 1, 2, 4, 2, 3, 4, 1, 2, 4, 1, 4, 1, 2, 3, 4, 1, 2, 3, 4, 1, 2, 3, 4, 1, 2, 1, 2, 3, 4, 1, 1, 2, 3, 4, 1, 2, 3, 4, 1, 2, 3, 4, 3, 1, 2, 3, 4, 1, 2, 3, 4, 1, 2, 3, 4, 2, 3, 2, 3, 1, 2, 1, 2, 3, 4, 1, 2, 3, 4, 1, 2, 3, 4, 1, 2, 3, 4, 1, 2, 3, 4, 1, 2, 3, 4, 1, 2, 3, 4, 2, 3, 4, 1, 2, 3, 4, 1, 2, 3, 4, 1, 2, 3, 4, 1, 2, 3, 4, 1, 2, 3, 4, 2, 3, 4, 1, 2, 3, 4, 1, 2, 3, 4, 1, 3, 1, 2, 3, 4, 1, 2, 3, 4, 1, 2, 3, 4, 1, 2, 3, 4, 1, 2, 3, 4, 1, 2, 3, 4, 1, 2, 4, 1, 2, 3, 4, 2, 2, 3, 4, 1, 2, 3, 4, 1, 2, 4, 1, 4, 1, 2, 3, 4, 1, 2, 3, 4, 1, 3, 4, 1, 2, 3, 4, 1, 2, 3, 4, 1, 2, 3, 4, 1, 2, 3, 4, 1, 2, 3, 4, 1, 2, 3, 4, 2, 3, 2, 3, 1, 2, 3, 4, 1, 4, 2, 3, 3, 3, 1, 2, 3, 4, 3, 1, 2, 3, 4, 2, 3, 1, 2, 3, 4, 3, 2, 3, 4, 3, 1, 2, 3, 4, 1, 2, 1, 2, 3, 1, 2, 3, 4, 2, 3, 4, 1, 2, 3, 4, 2, 3, 4, 3, 3, 3, 1, 2, 3, 4, 1, 2, 3, 1, 2, 3, 4, 2, 3, 1, 2, 1, 2, 3, 4, 1, 2, 3, 1, 2, 4, 1, 2, 3, 4, 1, 2, 3, 4, 1, 2, 3, 4, 1, 2, 3, 1, 2, 3, 4, 2, 1, 3, 4, 1, 2, 1, 2, 3, 4, 1, 2, 3, 4, 2, 3, 4, 3, 1, 2, 3, 4, 3, 1, 2, 3, 4, 3, 3, 1, 2, 3, 4, 1, 2, 3, 4, 1, 2, 3, 4, 1, 2, 3, 4, 2, 3, 4, 1, 2, 3, 1, 4, 1, 4, 2, 3, 1, 2, 3, 4, 1, 3, 4, 1, 2, 4, 1, 2, 3, 4, 1, 2, 3, 4, 1, 2, 4, 1, 2, 3, 2, 3, 4, 1, 2, 3, 4, 1, 2, 3, 4, 1, 2, 3, 4, 3, 3, 1, 2, 3, 4, 1, 2, 4, 1, 2, 3, 1, 2, 3, 4, 1, 2, 3, 4, 1, 2, 3, 4, 1, 2, 3, 4, 3, 3, 1, 3, 1, 2, 3, 4, 1, 2, 3, 4, 1, 2, 3, 4, 1, 2, 3, 4, 1, 2, 3, 4, 1, 2, 3, 4, 2, 3, 4, 2, 3, 4, 1, 2, 3, 4, 1, 2, 3, 1, 2, 3, 4, 1, 2, 3, 4, 1, 2, 3, 4, 2, 3, 4, 1, 2, 3, 4, 1, 2, 3, 4, 1, 3, 4, 1, 2, 3, 4, 1, 2, 3, 4], \"Freq\": [0.9740797129485529, 0.022392637079277078, 0.9385804935445666, 0.02674711251033739, 0.03404177955861122, 0.9022080634760388, 0.05129171206350658, 0.0019727581562887144, 0.04405826549044796, 0.9983225003014834, 0.9943205334626326, 0.0025626817872748263, 0.0025626817872748263, 0.9144005473069589, 0.054601943509571586, 0.0080082850480705, 0.023296829230750545, 0.05898169899761188, 0.8597869142470671, 0.08114931741282172, 0.06392805488910502, 0.02663668953712709, 0.9109747821697465, 0.001735596185896316, 0.06719236662541453, 0.9193700939005057, 0.01190123098900331, 0.23525324908811304, 0.023117371297675847, 0.0477182102722079, 0.6940156281558942, 0.1678807383023091, 0.5192590277722584, 0.21050162341394182, 0.10215998416070747, 0.01810933549950743, 0.08818459025847095, 0.8842079898237757, 0.009448348956264745, 0.9965180582170554, 0.025969173513852046, 0.9719890658041765, 0.06520803427339329, 0.5430518661929695, 0.2462789259918664, 0.14545170653584275, 0.888283690127908, 0.00142353155469216, 0.1110354612659885, 0.035094637008624724, 0.003190421546238611, 0.9603168854178219, 0.02411553310459135, 0.22574818489575793, 0.49805274620176865, 0.2518733457590652, 0.01860494183602742, 0.9813595693728749, 0.0001022249551430078, 0.05406180259978755, 0.8495426122823758, 0.09267737588535009, 0.09732704671471225, 0.8988439020123425, 0.03697861707098981, 0.059526554309398225, 0.1826382916311082, 0.7210830328843012, 0.06934026011616473, 0.9303151565585434, 0.02886475371927128, 0.3395662600458093, 0.18648576841102232, 0.44497125958247413, 0.18231376741338434, 0.004446677253984984, 0.813741937479252, 0.9340779920891706, 0.04916199958364056, 0.01229049989591014, 0.6471176799837607, 0.14659052248540433, 0.11056104466971459, 0.09572537733384233, 0.8821109561814989, 0.05972626265812232, 0.009188655793557281, 0.05053760686456504, 0.9406482832127414, 0.057759105109554294, 0.026388199848628505, 0.7794668262979497, 0.1806576758867644, 0.014209030687723041, 0.9964199033316261, 0.7699336805676659, 0.044841242858339896, 0.061060415807101136, 0.12498303860516013, 0.006482603486392797, 0.9367362037837592, 0.05726299746313637, 0.9182925409274522, 0.04271128097336987, 0.03844015287603288, 0.9957150443893361, 0.9961247109647948, 0.9573108456078467, 0.006773425794395142, 0.03386712897197571, 0.046779009911059787, 0.22930887211303816, 0.7236988003887485, 0.4182355974222264, 0.18526982298466457, 0.14455824977920503, 0.25189711547666943, 0.9933088495584657, 0.9937903735979295, 0.0018947840379870732, 0.1496879390009788, 0.0037895680759741463, 0.8450736809422347, 0.0028850954989973463, 0.9953579471540845, 0.02445152444585682, 0.061128811114642044, 0.02445152444585682, 0.8924806422737739, 0.06487974855419926, 0.9299430626101893, 0.7901318290637035, 0.2028495793041392, 0.004907651112196916, 0.0016358837040656388, 0.035896944027838745, 0.9365839032717928, 0.022843509835897384, 0.05371872549533367, 0.0012117005750827145, 0.023022310926571574, 0.9221041376379457, 0.038353890206917644, 0.0047942362758647055, 0.958847255172941, 0.7988449578689556, 0.05875521613746208, 0.03615705608459205, 0.10508144424584565, 0.9747890962237693, 0.024369727405594233, 0.9819411434647869, 0.016857358686090763, 0.5503191910902148, 0.32477154278375603, 0.053132795107197935, 0.0716972656868213, 0.9085096762917891, 0.035980581239278775, 0.008995145309819694, 0.04497572654909847, 0.997925321541928, 0.9249989676125925, 0.05967735274919952, 0.00745966909364994, 0.2710412379551895, 0.6759417212752886, 0.05268927743086871, 0.0004746781750528712, 0.0261428734081857, 0.9718329027825554, 0.0011366466699211173, 0.9975373679925492, 0.05470522140247623, 0.9440558207741613, 0.0015630063257850353, 0.24537913730170507, 0.1160039809629563, 0.08817748085657738, 0.5507478722353439, 0.11035968783875975, 0.07022889226102894, 0.8126486104490491, 0.034939063845760086, 0.9520894897969624, 0.008734765961440022, 0.7001581192581503, 0.27470875502065417, 0.0017460302225889037, 0.023280402967852047, 0.1042407212085084, 0.10781468879280012, 0.04943988491603541, 0.7386199674202881, 0.1268302874534276, 0.03804908623602827, 0.8243968684472792, 0.49544943119737783, 0.12589443768693387, 0.21076921624764453, 0.16767021956202752, 0.9908199426694199, 0.00876831807672053, 0.9949372885856792, 0.08080148541462225, 0.8394376540296866, 0.07631251400269878, 0.9114976625799998, 0.08573492865851483, 0.840615823679664, 0.08497199661743896, 0.05765956913326215, 0.016690927906996937, 0.04059574032219708, 0.8989056785629352, 0.059927045237529016, 0.877987803939021, 0.11420979563434419, 0.010707168340719768, 0.03035233152014925, 0.09864507744048506, 0.8650414483242537, 0.8539882087928439, 0.09712487256728598, 0.009475597323637657, 0.03908683896000534, 0.5860315924256175, 0.2409812557644842, 0.020576396222911623, 0.15247637201080663, 0.7984333879595714, 0.13608898216271453, 0.013072586956516913, 0.05229034782606765, 0.10769611051567778, 0.07520159441180949, 0.11326659899062662, 0.7037383773352047, 0.027692854060816792, 0.8861713299461373, 0.08307856218245037, 0.023209071677115934, 0.2146839130133224, 0.7620311867319732, 0.25616366895262127, 0.5145942730287171, 0.03944467114845673, 0.18951577632247024, 0.9200828636162146, 0.05750517897601341, 0.25763947438826307, 0.7406977561186753, 0.0015103437677865936, 0.003902240278862017, 0.9950712711098144, 0.04532740991579273, 0.9518756082316474, 0.11715830839991927, 0.29595572681836896, 0.2693561108791589, 0.3175554149494568, 0.01751954459533051, 0.023359392793774015, 0.9577351045447345, 0.054424026038373784, 0.05456612532306928, 0.007673361373556617, 0.8831470543824884, 0.00838945647213245, 0.9899558637116291, 0.5092482974299978, 0.17904915866644167, 0.05394429780335101, 0.25780253614694754, 0.10060623214051838, 0.8673409528590065, 0.02614875637132416, 0.005761590386901934, 0.002378094914706684, 0.47626755428171136, 0.4131399438185885, 0.10809522339575836, 0.26913779131808185, 0.31609374639910887, 0.016524569558131467, 0.3983893749905953, 0.9973865814091385, 0.1938630253201856, 0.7586754933203418, 0.0037281351023112615, 0.04287355367657951, 0.05016779337044891, 0.016722597790149635, 0.91974287845823, 0.009189481534912149, 0.9786797834681439, 0.013784222302368223, 0.9609986428518524, 0.0315081522246509, 0.01575407611232545, 0.9816183854489617, 0.01737377673360994, 0.34563477237933204, 0.1496926899783828, 0.032480489334932125, 0.47237929054499106, 0.8717211559209568, 0.09284604027560486, 0.024071195627008667, 0.012035597813504334, 0.16679783711415141, 0.6724771954074062, 0.11100278596681203, 0.049334571540805346, 0.9214171897647472, 0.07499907358550267, 0.9281979917183223, 0.04807708896118294, 0.013957864537117629, 0.009563721997654671, 0.9939224028678495, 0.0484251488445069, 0.002069450805320808, 0.015313935959373979, 0.9341500935218127, 0.039230000934980115, 0.17231023487595112, 0.4924873963529811, 0.29603562244011916, 0.0007231797065042297, 0.012294055010571906, 0.9835244008457524, 0.0036158985325211485, 0.9989653263676653, 0.5665190461502699, 0.07887447493362873, 0.17026870779323028, 0.1843534354599497, 0.6257292026640155, 0.1638714790633825, 0.01969810617897437, 0.19069443215815612, 0.03941274126203762, 0.0028151958044312585, 0.15483576924371922, 0.8051460000673399, 0.07800422947082342, 0.9212299500504245, 0.9330782634760801, 0.06361897250973274, 0.03522641291145979, 0.9643230534512116, 0.011760699151647234, 0.8859726694240916, 0.06664396185933433, 0.039202330505490775, 0.08587592286644655, 0.880228209381077, 0.017175184573289308, 0.017175184573289308, 0.08469671507350171, 0.7886694117883212, 0.08359675773488481, 0.04289833620605931, 0.14182915260659798, 0.6319476166774999, 0.18910553680879733, 0.0377014203131463, 0.3817387301540792, 0.38427475668307487, 0.07470155337164325, 0.1592802626983221, 0.006748309772165874, 0.17714313151935418, 0.06917017516470021, 0.745688229824329, 0.578954390950277, 0.1989658871998598, 0.10993092397800473, 0.11220222406019492, 0.9567130836790867, 0.006420893179054274, 0.03210446589527137, 0.42099374783910704, 0.10679901938118215, 0.13075870392015856, 0.34146798639058956, 0.00264780704397222, 0.8737763245108326, 0.0397171056595833, 0.08472982540711103, 0.33117597970372514, 0.6125919321539866, 0.026343543840069046, 0.030106907245793194, 0.4781256857100923, 0.4594440895745756, 0.008211690609018331, 0.054197158019520984, 0.1947141310809741, 0.3348168098323358, 0.1625953537073626, 0.30784466147408046, 0.026246764282023487, 0.949000653648065, 0.024702836971316224, 0.3909497583567393, 0.03430901271714747, 0.016722039811718936, 0.5581701564739286, 0.3568906020166744, 0.5187363401405151, 0.03354494999575331, 0.09060594741120996, 0.023388423008194523, 0.9773019614138426, 0.9482834235595912, 0.024205432733503077, 0.005695395937294842, 0.021357734764855658, 0.6110940556337936, 0.15999809761115474, 0.013744329971002278, 0.21532783621236903, 0.33038293469649654, 0.218950221991206, 0.20374116255440283, 0.24695898491442766, 0.25330215879054613, 0.7353516752643916, 0.0038770738590389714, 0.007754147718077943, 0.6500875882625744, 0.2644692502797806, 0.03721573282380146, 0.048301270260678486, 0.8290782576557857, 0.04512372630872727, 0.017787360993066766, 0.10797240181756317, 0.9345827220976471, 0.05391823396717195, 0.010270139803270848, 0.040166085891283156, 0.0953944539917975, 0.04267646625948835, 0.8221495705872021, 0.9797982962516351, 0.0012124684216301383, 0.049711205286835675, 0.9493627741363984, 0.07317868408399736, 0.6405237693099309, 0.14635736816799472, 0.13983857734442026, 0.9538905056504206, 0.03854103053133012, 0.004817628816416265, 0.9593534575009278, 0.039973060729205326, 0.0008414272567827071, 0.24934294375994223, 0.6849217870211236, 0.06450942302000755, 0.5060311771581172, 0.27191680462437723, 0.06100530420144225, 0.16111657263457826, 0.996837482279409, 0.0029747462914933125, 0.00029747462914933126, 0.01699539587245737, 0.6790433169040923, 0.24566072215642928, 0.05871136755939819, 0.4438340247300509, 0.23588179338440918, 0.1098369823182617, 0.21041234820916008, 0.008893850532469548, 0.8982789037794242, 0.017787701064939095, 0.07115080425975638, 0.5938605173884886, 0.3266576117612056, 0.05245195783639368, 0.026912522868934974, 0.15493873263295233, 0.46194030494975347, 0.30808003217271496, 0.07477321667669161, 0.35121592608970587, 0.0877102739647718, 0.0018741511530934146, 0.5592467040830749, 0.11689732013801503, 0.8829478435956454, 0.23723824949581793, 0.7627098862295455, 0.5594999742791423, 0.21259146373685953, 0.15608567163250905, 0.07163575829622572, 0.9308343468347468, 0.06346597819327819, 0.8841509779571189, 0.11335268948168192, 0.9980694815421699, 0.9986423136903424, 0.011042046424795926, 0.02346434865269134, 0.04968920891158166, 0.915799725356512, 0.9945263351566161, 0.01946825646223514, 0.03893651292447028, 0.08760715408005812, 0.8566032843383461, 0.9290471022670906, 0.0670446362460787, 0.2162574231388996, 0.62891189382231, 0.0007355694664588422, 0.15446958795635685, 0.9983891504592299, 0.022577140564857892, 0.8668571877344274, 0.11026045392139901, 0.9940572482007205, 0.014449357700607745, 0.8958601774376801, 0.04334807310182323, 0.04334807310182323, 0.033459517125717014, 0.9619611173643642, 0.23803964936848282, 0.7336303947749963, 0.028616788448670067, 0.004348564570074717, 0.8392729620244204, 0.09566842054164378, 0.060879903981046035, 0.8954361971884592, 0.016895022588461494, 0.08447511294230747, 0.10797823081772702, 0.19396994404813406, 0.5960789212562305, 0.10211515946110836, 0.002720432308014427, 0.9956782247332803, 0.0013602161540072135, 0.9988765017113409, 0.9939438984903752, 0.9994876483666999, 0.7926474365618659, 0.01455289051215176, 0.12127408760126467, 0.07179425985994868, 0.04671886255579136, 0.9343772511158271, 0.015572954185263785, 0.06271788054386469, 0.6102080848208953, 0.22172615415801578, 0.10551361079732531, 0.9220263914984557, 0.07435696705632708, 0.028871109453389002, 0.9671821666885315, 0.009486211282161157, 0.8679883323177459, 0.10909142974485331, 0.014229316923241735, 0.05068157235131075, 0.9460560172244674, 0.01689385745043692, 0.05619022515195622, 0.009365037525326036, 0.9318212337699406, 0.30010122947178564, 0.25440433731557266, 0.033261344454686176, 0.41232081053737096, 0.00201769420641109, 0.05985826145686234, 0.20176942064110903, 0.7364583853400479, 0.32138853014918756, 0.47026890854240805, 0.1656484756183955, 0.04293649137961478, 0.9180478799508163, 0.0720037552902601, 0.994501223719852, 0.30097134897904226, 0.4506014510930702, 0.09221168935870847, 0.15609442672886525, 0.9725807550824311, 0.007480363514869714, 0.09724472569330629, 0.890163258269496, 0.9915393528523999, 0.007996285103648387, 0.03762240405019665, 0.006583920708784414, 0.056433606075294976, 0.898234896698445, 0.0725572385416853, 0.12372918572371598, 0.7507764788050174, 0.05346322839913654, 0.4224886909926719, 0.574385410936992, 0.0030434679770264513, 0.9968289183532648, 0.03623257760907448, 0.8635430996829419, 0.08454268108784045, 0.012077525869691493, 0.999650402033191, 0.7802068615750487, 0.08345496280529129, 0.04560910757963593, 0.0902478086150243, 0.9975320651430789, 0.9931338079908355, 0.043789305753602376, 0.11777813271658569, 0.7210135688739701, 0.11702314468635117, 0.9887305557410238, 0.0814469064542407, 0.0814469064542407, 0.8307584458332551, 0.25745801178321265, 0.16154228190319225, 0.09086753357054564, 0.490063364812088, 0.820022076774616, 0.09276267836816923, 0.04947342846302359, 0.03834190705884328, 0.9009869664182468, 0.08190790603802243, 0.01365131767300374, 0.03989070815137032, 0.9374316415572025, 0.01994535407568516, 0.9671340704281669, 0.027243213251497662, 0.011008643319778385, 0.9852735771201654, 0.9787926457547346, 0.017171800802714642, 0.08769734352846219, 0.5090928855949387, 0.2460008550095521, 0.15746296186260625, 0.05683705072233361, 0.9236020742379212, 0.02052449053862047, 0.010534937124482375, 0.9060045927054843, 0.084279496995859, 0.8193962297710141, 0.11751445277028885, 0.02350289055405777, 0.040595901866099786, 0.29913996417938643, 0.48057236390964264, 0.10957004051934614, 0.11071617065030165, 0.08777830960854305, 0.0250795170310123, 0.8777830960854305, 0.9335085158833992, 0.013431777206955386, 0.05372710882782154, 0.03916518689711074, 0.09511545389298322, 0.8644316250862298, 0.10634497780904935, 0.8560770713628473, 0.014179330374539913, 0.023041411858627358, 0.4859776989318757, 0.2722996591160648, 0.008726118903472906, 0.23292025073116143, 0.46711604675768825, 0.3848016958886503, 0.05482851544842004, 0.0931941607230325, 0.9945792474438053, 0.9936147891156156, 0.5608266966132562, 0.2820677043438354, 0.023042816232529493, 0.13412100730215884, 0.48593960354048166, 0.0023658208546274667, 0.5119636329413838, 0.00555291917478869, 0.0305410554613378, 0.9620432470321406, 0.01810839761742101, 0.9325824772971819, 0.027162596426131513, 0.01810839761742101, 0.5418844984221132, 0.31896101518294095, 0.057040473518117175, 0.08235945921238347, 0.0239882382776117, 0.5669527854458611, 0.3132310344326604, 0.0959529531104468, 0.1950869930783746, 0.0632424867671654, 0.06431439332254107, 0.6785168495528084, 0.9963990992344801, 0.9979070612173997, 0.003108623146098358, 0.9947594067514745, 0.26140909938708146, 0.12044098201695466, 0.06611778956297981, 0.5520778723715021, 0.3315702079476527, 0.18751349211140225, 0.10189864781759739, 0.37902300962741614, 0.8080740846911123, 0.05450752679198059, 0.010901505358396119, 0.12672999979135488, 0.5335327589846119, 0.16018629055634911, 0.08894554554576227, 0.217375606570765, 0.07181673793565721, 0.07559656624806022, 0.018899141562015054, 0.8315622287286624, 0.3935393445541491, 0.49225104061341235, 0.0428186496151109, 0.07125546271827615, 0.06424495265190962, 0.9212999593061082, 0.015036052748319272, 0.009455941570737827, 0.018911883141475655, 0.9645060402152583, 0.6615798301962137, 0.17751208696351978, 0.053716701098525985, 0.10712468552407194, 0.0469051908770726, 0.9029249243836476, 0.0469051908770726, 0.03648004249617388, 0.8232658239001402, 0.000985947094491186, 0.13901854032325722, 0.07618448474967027, 0.5400419172128526, 0.05786163398709134, 0.32595387146061455, 0.5983848498393234, 0.2353235368189409, 0.0013001300376737066, 0.16511651478456074, 0.0016062951933668646, 0.997509315080823, 0.0016062951933668646, 0.001990807070906637, 0.0026544094278755166, 0.7983136354335616, 0.1970899000197571, 0.0024297113781169815, 0.030978820070991512, 0.20105861653918022, 0.7653590841068492, 0.07585663434284877, 0.021673324097956793, 0.8994429500652069, 0.1207262536026905, 0.1107813706430819, 0.3230352389263562, 0.44543824605130633, 0.001173020425391262, 0.036363633187129124, 0.7249266228917999, 0.23753663614173057], \"Term\": [\"above\", \"above\", \"afraid\", \"afraid\", \"afraid\", \"alone\", \"alone\", \"alone\", \"alone\", \"anymore\", \"apart\", \"apart\", \"apart\", \"away\", \"away\", \"away\", \"away\", \"axxxx\", \"axxxx\", \"axxxx\", \"aye\", \"aye\", \"aye\", \"ayy\", \"ayy\", \"ayy\", \"ayy\", \"baby\", \"baby\", \"baby\", \"baby\", \"bad\", \"bad\", \"bad\", \"bad\", \"bag\", \"bag\", \"bag\", \"bag\", \"baow\", \"bass\", \"bass\", \"be\", \"be\", \"be\", \"be\", \"beautiful\", \"beautiful\", \"beautiful\", \"beer\", \"beer\", \"beer\", \"big\", \"big\", \"big\", \"big\", \"bixxxx\", \"bixxxx\", \"bixxxx\", \"bless\", \"bless\", \"bless\", \"blessing\", \"blessing\", \"body\", \"body\", \"body\", \"body\", \"booty\", \"booty\", \"boy\", \"boy\", \"boy\", \"boy\", \"boyfriend\", \"boyfriend\", \"boyfriend\", \"brave\", \"brave\", \"brave\", \"break\", \"break\", \"break\", \"break\", \"breath\", \"breath\", \"breath\", \"breath\", \"broken\", \"broken\", \"brother\", \"brother\", \"brother\", \"brother\", \"brrt\", \"burn\", \"burn\", \"burn\", \"burn\", \"bust\", \"bust\", \"bust\", \"bye\", \"bye\", \"bye\", \"chop\", \"chopper\", \"christmas\", \"christmas\", \"christmas\", \"club\", \"club\", \"club\", \"come\", \"come\", \"come\", \"come\", \"como\", \"con\", \"country\", \"country\", \"country\", \"country\", \"coupe\", \"coupe\", \"cowboy\", \"cowboy\", \"cowboy\", \"cowboy\", \"crank\", \"crank\", \"cry\", \"cry\", \"cry\", \"cry\", \"dad\", \"dad\", \"dad\", \"dance\", \"dance\", \"dance\", \"dance\", \"dancing\", \"dancing\", \"dancing\", \"dark\", \"dark\", \"dark\", \"dark\", \"darkness\", \"darkness\", \"darling\", \"darling\", \"day\", \"day\", \"day\", \"day\", \"daylight\", \"daylight\", \"daylight\", \"daylight\", \"de\", \"dear\", \"dear\", \"dear\", \"die\", \"die\", \"die\", \"die\", \"dixxx\", \"dixxx\", \"dixxx\", \"doo\", \"dope\", \"dope\", \"dope\", \"down\", \"down\", \"down\", \"down\", \"downtown\", \"downtown\", \"downtown\", \"drama\", \"drama\", \"drama\", \"dream\", \"dream\", \"dream\", \"dream\", \"drink\", \"drink\", \"drink\", \"drink\", \"drinking\", \"drinking\", \"drinking\", \"e\", \"e\", \"e\", \"e\", \"el\", \"el\", \"ella\", \"enemy\", \"enemy\", \"enemy\", \"faith\", \"faith\", \"fall\", \"fall\", \"fall\", \"fall\", \"fam\", \"fam\", \"fam\", \"fame\", \"fame\", \"fame\", \"fancy\", \"fancy\", \"fancy\", \"far\", \"far\", \"far\", \"far\", \"feel\", \"feel\", \"feel\", \"feel\", \"find\", \"find\", \"find\", \"find\", \"floor\", \"floor\", \"floor\", \"floor\", \"form\", \"form\", \"form\", \"freak\", \"freak\", \"freak\", \"friend\", \"friend\", \"friend\", \"friend\", \"funeral\", \"funeral\", \"fuxxx\", \"fuxxx\", \"fuxxx\", \"gang\", \"gang\", \"generation\", \"generation\", \"get\", \"get\", \"get\", \"get\", \"gimme\", \"gimme\", \"gimme\", \"girl\", \"girl\", \"girl\", \"girl\", \"glock\", \"glock\", \"go\", \"go\", \"go\", \"go\", \"god\", \"god\", \"god\", \"god\", \"gon\", \"gon\", \"gon\", \"gon\", \"good\", \"good\", \"good\", \"good\", \"goodbye\", \"great\", \"great\", \"great\", \"great\", \"groove\", \"groove\", \"groove\", \"gucci\", \"gucci\", \"gucci\", \"guide\", \"guide\", \"guide\", \"halfway\", \"halfway\", \"hand\", \"hand\", \"hand\", \"hand\", \"happy\", \"happy\", \"happy\", \"happy\", \"hate\", \"hate\", \"hate\", \"hate\", \"haunt\", \"haunt\", \"heart\", \"heart\", \"heart\", \"heart\", \"heartbreak\", \"hey\", \"hey\", \"hey\", \"hey\", \"hit\", \"hit\", \"hit\", \"hit\", \"ho\", \"ho\", \"ho\", \"ho\", \"hol\", \"hold\", \"hold\", \"hold\", \"hold\", \"home\", \"home\", \"home\", \"home\", \"hoo\", \"hoo\", \"hoo\", \"hoo\", \"hoxx\", \"hoxx\", \"industry\", \"industry\", \"jesus\", \"jesus\", \"job\", \"job\", \"job\", \"job\", \"judge\", \"judge\", \"judge\", \"judge\", \"kid\", \"kid\", \"kid\", \"kid\", \"kill\", \"kill\", \"kill\", \"kill\", \"know\", \"know\", \"know\", \"know\", \"lady\", \"lady\", \"lady\", \"lady\", \"leave\", \"leave\", \"leave\", \"leave\", \"legend\", \"legend\", \"legend\", \"let\", \"let\", \"let\", \"let\", \"level\", \"level\", \"level\", \"level\", \"lie\", \"lie\", \"lie\", \"lie\", \"life\", \"life\", \"life\", \"life\", \"like\", \"like\", \"like\", \"like\", \"lil\", \"lil\", \"lil\", \"little\", \"little\", \"little\", \"little\", \"live\", \"live\", \"live\", \"live\", \"lo\", \"lo\", \"lonely\", \"lonely\", \"lonely\", \"lonely\", \"long\", \"long\", \"long\", \"long\", \"look\", \"look\", \"look\", \"look\", \"lord\", \"lord\", \"lord\", \"lord\", \"lose\", \"lose\", \"lose\", \"lose\", \"love\", \"love\", \"love\", \"love\", \"lover\", \"lover\", \"lover\", \"low\", \"low\", \"low\", \"low\", \"loyalty\", \"ma\", \"ma\", \"ma\", \"man\", \"man\", \"man\", \"man\", \"memory\", \"memory\", \"memory\", \"midnight\", \"midnight\", \"money\", \"money\", \"money\", \"money\", \"more\", \"more\", \"more\", \"more\", \"na\", \"na\", \"na\", \"nah\", \"nah\", \"nah\", \"nah\", \"need\", \"need\", \"need\", \"need\", \"neighbor\", \"neighbor\", \"neighbor\", \"neighbor\", \"never\", \"never\", \"never\", \"never\", \"new\", \"new\", \"new\", \"new\", \"night\", \"night\", \"night\", \"night\", \"nixxxx\", \"nixxxx\", \"nixxxxx\", \"nixxxxx\", \"no\", \"no\", \"no\", \"no\", \"oooh\", \"oooh\", \"opinion\", \"opinion\", \"opp\", \"pa\", \"party\", \"party\", \"party\", \"party\", \"patek\", \"pedal\", \"pedal\", \"pedal\", \"pedal\", \"pen\", \"pen\", \"people\", \"people\", \"people\", \"people\", \"pero\", \"pop\", \"pop\", \"pop\", \"por\", \"practice\", \"practice\", \"practice\", \"practice\", \"praise\", \"praise\", \"pray\", \"pray\", \"pray\", \"problem\", \"problem\", \"problem\", \"problem\", \"prs\", \"prs\", \"prs\", \"pull\", \"pull\", \"pull\", \"pull\", \"puxxxx\", \"puxxxx\", \"puxxxx\", \"que\", \"quiero\", \"rack\", \"rain\", \"rain\", \"rain\", \"rain\", \"rare\", \"rare\", \"rare\", \"real\", \"real\", \"real\", \"real\", \"realest\", \"realest\", \"reply\", \"reply\", \"respect\", \"respect\", \"respect\", \"respect\", \"revenge\", \"revenge\", \"revenge\", \"rhythm\", \"rhythm\", \"rhythm\", \"right\", \"right\", \"right\", \"right\", \"rock\", \"rock\", \"rock\", \"rock\", \"run\", \"run\", \"run\", \"run\", \"sail\", \"sail\", \"sauce\", \"say\", \"say\", \"say\", \"say\", \"sentence\", \"sex\", \"sex\", \"sex\", \"shadow\", \"shadow\", \"shake\", \"shake\", \"shake\", \"shake\", \"shoot\", \"shoot\", \"shoot\", \"shoot\", \"shxxx\", \"shxxx\", \"shxxx\", \"si\", \"silly\", \"silly\", \"silly\", \"silly\", \"skrrt\", \"sky\", \"sky\", \"sky\", \"sky\", \"slatt\", \"slime\", \"smoke\", \"smoke\", \"smoke\", \"smoke\", \"someday\", \"speaker\", \"speaker\", \"speaker\", \"stop\", \"stop\", \"stop\", \"stop\", \"strong\", \"strong\", \"strong\", \"strong\", \"studio\", \"studio\", \"studio\", \"success\", \"success\", \"success\", \"suddenly\", \"suddenly\", \"sugar\", \"sugar\", \"support\", \"support\", \"talk\", \"talk\", \"talk\", \"talk\", \"te\", \"te\", \"te\", \"tea\", \"tea\", \"tea\", \"tear\", \"tear\", \"tear\", \"tear\", \"tell\", \"tell\", \"tell\", \"tell\", \"tennessee\", \"tennessee\", \"tennessee\", \"terday\", \"terday\", \"terday\", \"thang\", \"thang\", \"thang\", \"thank\", \"thank\", \"thank\", \"thank\", \"thing\", \"thing\", \"thing\", \"thing\", \"think\", \"think\", \"think\", \"think\", \"thot\", \"ti\", \"time\", \"time\", \"time\", \"time\", \"tonight\", \"tonight\", \"tonight\", \"trap\", \"trap\", \"trap\", \"trophy\", \"trophy\", \"trophy\", \"trophy\", \"try\", \"try\", \"try\", \"try\", \"tryna\", \"tryna\", \"tryna\", \"tryna\", \"tty\", \"tty\", \"tty\", \"tty\", \"tu\", \"turnt\", \"un\", \"un\", \"wanna\", \"wanna\", \"wanna\", \"wanna\", \"want\", \"want\", \"want\", \"want\", \"waste\", \"waste\", \"waste\", \"waste\", \"way\", \"way\", \"way\", \"way\", \"weekend\", \"weekend\", \"weekend\", \"weekend\", \"well\", \"well\", \"well\", \"well\", \"whip\", \"whip\", \"whip\", \"whistle\", \"whistle\", \"whistle\", \"will\", \"will\", \"will\", \"will\", \"witness\", \"witness\", \"witness\", \"woman\", \"woman\", \"woman\", \"woman\", \"work\", \"work\", \"work\", \"work\", \"world\", \"world\", \"world\", \"world\", \"wrist\", \"wrist\", \"wrist\", \"y\", \"y\", \"y\", \"y\", \"ya\", \"ya\", \"ya\", \"ya\", \"yea\", \"yea\", \"yea\", \"yeah\", \"yeah\", \"yeah\", \"yeah\", \"yo\", \"yo\", \"yo\", \"yo\"]}, \"R\": 30, \"lambda.step\": 0.01, \"plot.opts\": {\"xlab\": \"PC1\", \"ylab\": \"PC2\"}, \"topic.order\": [2, 1, 3, 4]};\n",
       "\n",
       "function LDAvis_load_lib(url, callback){\n",
       "  var s = document.createElement('script');\n",
       "  s.src = url;\n",
       "  s.async = true;\n",
       "  s.onreadystatechange = s.onload = callback;\n",
       "  s.onerror = function(){console.warn(\"failed to load library \" + url);};\n",
       "  document.getElementsByTagName(\"head\")[0].appendChild(s);\n",
       "}\n",
       "\n",
       "if(typeof(LDAvis) !== \"undefined\"){\n",
       "   // already loaded: just create the visualization\n",
       "   !function(LDAvis){\n",
       "       new LDAvis(\"#\" + \"ldavis_el4065621605031055683504867861\", ldavis_el4065621605031055683504867861_data);\n",
       "   }(LDAvis);\n",
       "}else if(typeof define === \"function\" && define.amd){\n",
       "   // require.js is available: use it to load d3/LDAvis\n",
       "   require.config({paths: {d3: \"https://d3js.org/d3.v5\"}});\n",
       "   require([\"d3\"], function(d3){\n",
       "      window.d3 = d3;\n",
       "      LDAvis_load_lib(\"https://cdn.jsdelivr.net/gh/bmabey/pyLDAvis@3.3.1/pyLDAvis/js/ldavis.v3.0.0.js\", function(){\n",
       "        new LDAvis(\"#\" + \"ldavis_el4065621605031055683504867861\", ldavis_el4065621605031055683504867861_data);\n",
       "      });\n",
       "    });\n",
       "}else{\n",
       "    // require.js not available: dynamically load d3 & LDAvis\n",
       "    LDAvis_load_lib(\"https://d3js.org/d3.v5.js\", function(){\n",
       "         LDAvis_load_lib(\"https://cdn.jsdelivr.net/gh/bmabey/pyLDAvis@3.3.1/pyLDAvis/js/ldavis.v3.0.0.js\", function(){\n",
       "                 new LDAvis(\"#\" + \"ldavis_el4065621605031055683504867861\", ldavis_el4065621605031055683504867861_data);\n",
       "            })\n",
       "         });\n",
       "}\n",
       "</script>"
      ],
      "text/plain": [
       "<IPython.core.display.HTML object>"
      ]
     },
     "execution_count": 71,
     "metadata": {},
     "output_type": "execute_result"
    }
   ],
   "source": [
    "# visualize topics\n",
    "lda_display = pyLDAvis.gensim_models.prepare(lda_model, corpus, token_dict)\n",
    "pyLDAvis.display(lda_display)"
   ]
  },
  {
   "cell_type": "code",
   "execution_count": 72,
   "id": "2197e9dd",
   "metadata": {},
   "outputs": [],
   "source": [
    "# save to html\n",
    "pyLDAvis.save_html(lda_display,'lda_model_billboard.html')"
   ]
  },
  {
   "cell_type": "markdown",
   "id": "ca42b8aa",
   "metadata": {},
   "source": [
    "Great! Our topics are not overlapping and each bubble represents a unique topic. Play looking at each bubble and adjusting the relevance parameter, we can come to the following conclusions about the topic:\n",
    "1. Romance / Heartbreak Songs\n",
    "    - Top tokens: (λ=0.6) love, heart, time, feel, never\n",
    "2. Hardcore / Life\n",
    "    - Top tokens: (λ=0.3) god, man, know, die, real\n",
    "3. Explicit / Fiesta songs\n",
    "    - Top tokens: (λ=0.6) <explicit language>, \"ayy\", money, lil, pop\n",
    "4. Sexy Love Songs\n",
    "    - Top tokens: (λ=1.0) girl, baby, wanna, night, dance"
   ]
  },
  {
   "cell_type": "code",
   "execution_count": 73,
   "id": "4bc9e7a8",
   "metadata": {},
   "outputs": [],
   "source": [
    "# adding topics to dataframe\n",
    "billboard['topic'] = [sorted(lda_model[corpus][text])[0][0] for text in range(len(billboard['tokens']))]"
   ]
  },
  {
   "cell_type": "markdown",
   "id": "19c789b8",
   "metadata": {},
   "source": [
    "We will analyze this further in the Data Visualization Workbook that came with this project."
   ]
  },
  {
   "cell_type": "code",
   "execution_count": 74,
   "id": "4f777564",
   "metadata": {},
   "outputs": [],
   "source": [
    "import pickle\n",
    "\n",
    "# save to pickle to load into Data Visualization Workbook\n",
    "billboard.to_pickle('topic_model.pkl')"
   ]
  },
  {
   "cell_type": "markdown",
   "id": "fad89a49",
   "metadata": {},
   "source": [
    "---\n",
    "\n",
    "<center>2022 BrainStation Capstone Project\n",
    "    <br>\"Is the song <i>hot enough</i> for Billboard Hot100?\"\n",
    "    <br>by Hailey Lee</center>"
   ]
  }
 ],
 "metadata": {
  "kernelspec": {
   "display_name": "Python [conda env:capstone_final]",
   "language": "python",
   "name": "conda-env-capstone_final-py"
  },
  "language_info": {
   "codemirror_mode": {
    "name": "ipython",
    "version": 3
   },
   "file_extension": ".py",
   "mimetype": "text/x-python",
   "name": "python",
   "nbconvert_exporter": "python",
   "pygments_lexer": "ipython3",
   "version": "3.8.13"
  }
 },
 "nbformat": 4,
 "nbformat_minor": 5
}
