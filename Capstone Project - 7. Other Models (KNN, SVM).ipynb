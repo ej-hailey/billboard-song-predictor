{
 "cells": [
  {
   "cell_type": "markdown",
   "id": "675dd35d",
   "metadata": {},
   "source": [
    "<h1> BrainStation Capstone Project</h1>\n",
    "\n",
    "<b>Is the song \"hot enough\" for Billboard Hot100 🔥</b>\n",
    "<br> Predicing the probability of a song reaching the Billboard Hot100 chart.</br>"
   ]
  },
  {
   "cell_type": "markdown",
   "id": "e9da32a0",
   "metadata": {},
   "source": [
    "Author: Hailey Lee\n",
    "<br>Contact: ejlee.hailey@gmail.com\n",
    "<br>Date: July 5, 2022\n",
    "\n",
    "---"
   ]
  },
  {
   "cell_type": "markdown",
   "id": "72671117",
   "metadata": {},
   "source": [
    "# Other Models for Main Dataset"
   ]
  },
  {
   "cell_type": "markdown",
   "id": "a22935c5",
   "metadata": {},
   "source": [
    "This section will cover a few more models to test on our main dataset (without lyrics), specifically [K Nearest Neighbors](#knn) and [Support Vector Machine](#svm). While these scores are great, we are not using these as our main method of performance measures due to lack of interpretability. Also, both these models are sensitive to scale, so we will fit the data through a Standard Scaler and through combined scalers."
   ]
  },
  {
   "cell_type": "markdown",
   "id": "996af1c4",
   "metadata": {},
   "source": [
    "#### Score Summary\n",
    "| Model | Parameters | Train Set Accuracy | Test Set Accuracy |\n",
    "|:------|:-----------|:------------------:|:-----------------:|\n",
    "| K Nearest Neighbors | Default, Standard Scaler | 87.2% | 81.1% |\n",
    "| K Nearest Neighbors with Cross Validation | max_depth=22, Standard Scaler | 82.9% | 81.8% | \n",
    "| K Nearest Neighbors with GridSearch | max_depth=15, combined scalers | 84.1% | 83.5% |\n",
    "| SVM, kernel='linear'| Default, Standard Scaler | 81.8% | 81.8% |\n",
    "| SVM, kernel='rbf'| Default, Standard Scaler | 88.5% | 86.4% |\n",
    "| SVM, kernel='poly'| Default, Standard Scaler | 88.3% | 84.3% |\n",
    "| SVM, kernel='sigmoid'| Default, Standard Scaler | 71.6% | 73.0% |\n",
    "| SVM, kernel='poly' with GridSearch | Combined Scaler | 86.8% | 85.2% |\n",
    "\n",
    "---"
   ]
  },
  {
   "cell_type": "code",
   "execution_count": 37,
   "id": "077458e4",
   "metadata": {},
   "outputs": [],
   "source": [
    "import pandas as pd\n",
    "import numpy as np\n",
    "import matplotlib.pyplot as plt\n",
    "import seaborn as sns\n",
    "\n",
    "from sklearn.neighbors import KNeighborsClassifier\n",
    "from sklearn import svm\n",
    "from sklearn.svm import SVC\n",
    "from sklearn.ensemble import BaggingClassifier\n",
    "\n",
    "from sklearn.model_selection import train_test_split, GridSearchCV, cross_val_score\n",
    "from sklearn.preprocessing import StandardScaler, MinMaxScaler\n",
    "from sklearn.compose import ColumnTransformer\n",
    "from sklearn.pipeline import Pipeline\n",
    "from sklearn import set_config\n",
    "\n",
    "from tempfile import mkdtemp\n",
    "cachedir = mkdtemp()\n",
    "\n",
    "# ignore warning messages\n",
    "import warnings\n",
    "warnings.filterwarnings(\"ignore\")"
   ]
  },
  {
   "cell_type": "code",
   "execution_count": 22,
   "id": "f55cc2ee",
   "metadata": {
    "scrolled": true
   },
   "outputs": [],
   "source": [
    "songs_df = pd.read_csv('capstone_dataset_clean.csv')"
   ]
  },
  {
   "cell_type": "code",
   "execution_count": 23,
   "id": "156792a0",
   "metadata": {
    "scrolled": false
   },
   "outputs": [
    {
     "name": "stdout",
     "output_type": "stream",
     "text": [
      "<class 'pandas.core.frame.DataFrame'>\n",
      "RangeIndex: 13807 entries, 0 to 13806\n",
      "Data columns (total 44 columns):\n",
      " #   Column             Non-Null Count  Dtype  \n",
      "---  ------             --------------  -----  \n",
      " 0   billboard          13807 non-null  int64  \n",
      " 1   billboard_year     13807 non-null  int64  \n",
      " 2   billboard_month    13807 non-null  int64  \n",
      " 3   peak_position      13807 non-null  int64  \n",
      " 4   weeks_on_chart     13807 non-null  int64  \n",
      " 5   artist             13807 non-null  object \n",
      " 6   feat_artist        13807 non-null  object \n",
      " 7   artist_uri         13807 non-null  object \n",
      " 8   artist_popularity  13807 non-null  int64  \n",
      " 9   artist_followers   13807 non-null  int64  \n",
      " 10  song               13807 non-null  object \n",
      " 11  track_uri          13807 non-null  object \n",
      " 12  track_popularity   13807 non-null  int64  \n",
      " 13  album_name         13807 non-null  object \n",
      " 14  release_year       13807 non-null  int64  \n",
      " 15  release_month      13807 non-null  int64  \n",
      " 16  duration_ms        13807 non-null  int64  \n",
      " 17  danceability       13807 non-null  float64\n",
      " 18  energy             13807 non-null  float64\n",
      " 19  key                13807 non-null  int64  \n",
      " 20  loudness           13807 non-null  float64\n",
      " 21  mode               13807 non-null  int64  \n",
      " 22  speechiness        13807 non-null  float64\n",
      " 23  acousticness       13807 non-null  float64\n",
      " 24  instrumentalness   13807 non-null  float64\n",
      " 25  liveness           13807 non-null  float64\n",
      " 26  valence            13807 non-null  float64\n",
      " 27  tempo              13807 non-null  float64\n",
      " 28  time_signature     13807 non-null  int64  \n",
      " 29  major_label        13807 non-null  int64  \n",
      " 30  genre_pop          13807 non-null  int64  \n",
      " 31  genre_screen       13807 non-null  int64  \n",
      " 32  genre_hiphop       13807 non-null  int64  \n",
      " 33  genre_punk         13807 non-null  int64  \n",
      " 34  genre_blues        13807 non-null  int64  \n",
      " 35  genre_country      13807 non-null  int64  \n",
      " 36  genre_rnb          13807 non-null  int64  \n",
      " 37  genre_rock         13807 non-null  int64  \n",
      " 38  genre_latin        13807 non-null  int64  \n",
      " 39  genre_dance        13807 non-null  int64  \n",
      " 40  genre_indie        13807 non-null  int64  \n",
      " 41  genre_elect        13807 non-null  int64  \n",
      " 42  genre_gospel       13807 non-null  int64  \n",
      " 43  genre_chill        13807 non-null  int64  \n",
      "dtypes: float64(9), int64(29), object(6)\n",
      "memory usage: 4.6+ MB\n"
     ]
    }
   ],
   "source": [
    "songs_df.info()"
   ]
  },
  {
   "cell_type": "code",
   "execution_count": 24,
   "id": "51d7951d",
   "metadata": {},
   "outputs": [],
   "source": [
    "# drop non-numeric and billboard exclusive\n",
    "songs_df = songs_df.drop(columns=['artist', 'feat_artist', 'artist_uri', 'song', 'track_uri','album_name', 'billboard_year',\n",
    "                                  'peak_position', 'weeks_on_chart','billboard_month'])"
   ]
  },
  {
   "cell_type": "code",
   "execution_count": 25,
   "id": "e05a513f",
   "metadata": {},
   "outputs": [
    {
     "name": "stdout",
     "output_type": "stream",
     "text": [
      "Shape of X: (13807, 33)\n",
      "Shape of y: (13807,)\n"
     ]
    }
   ],
   "source": [
    "# assign target and features\n",
    "\n",
    "X = songs_df.drop(columns='billboard')\n",
    "y = songs_df['billboard']\n",
    "\n",
    "print(f'Shape of X: {X.shape}')\n",
    "print(f'Shape of y: {y.shape}')"
   ]
  },
  {
   "cell_type": "code",
   "execution_count": 26,
   "id": "de6563a8",
   "metadata": {
    "scrolled": true
   },
   "outputs": [
    {
     "data": {
      "text/plain": [
       "Index(['artist_popularity', 'artist_followers', 'track_popularity',\n",
       "       'release_year', 'release_month', 'duration_ms', 'danceability',\n",
       "       'energy', 'key', 'loudness', 'mode', 'speechiness', 'acousticness',\n",
       "       'instrumentalness', 'liveness', 'valence', 'tempo', 'time_signature',\n",
       "       'major_label', 'genre_pop', 'genre_screen', 'genre_hiphop',\n",
       "       'genre_punk', 'genre_blues', 'genre_country', 'genre_rnb', 'genre_rock',\n",
       "       'genre_latin', 'genre_dance', 'genre_indie', 'genre_elect',\n",
       "       'genre_gospel', 'genre_chill'],\n",
       "      dtype='object')"
      ]
     },
     "execution_count": 26,
     "metadata": {},
     "output_type": "execute_result"
    }
   ],
   "source": [
    "X.columns"
   ]
  },
  {
   "cell_type": "code",
   "execution_count": 27,
   "id": "8c5a468b",
   "metadata": {},
   "outputs": [],
   "source": [
    "# train test split 75/25\n",
    "X_train, X_test, y_train, y_test = train_test_split(X, y,\n",
    "                                                    test_size = 0.25,\n",
    "                                                    random_state = 15,\n",
    "                                                    stratify = y)"
   ]
  },
  {
   "cell_type": "markdown",
   "id": "43b6866e",
   "metadata": {},
   "source": [
    "---\n",
    "### K Nearest Neighbors<a class=\"anchor\" id=\"knn\"></a>"
   ]
  },
  {
   "cell_type": "markdown",
   "id": "a9f2d424",
   "metadata": {},
   "source": [
    "KNN, or K Nearest Neighbors, is a supervised machine learning algorithm that can draw non-linear boundaries to classify data. Classification is determined by the proximity of the data point's $k$ neighbors, a hyperparameter we can set to optimize the model. Because the model is sensitive to distance, we need to ensure that the data is scaled before fitting."
   ]
  },
  {
   "cell_type": "code",
   "execution_count": 28,
   "id": "689a326b",
   "metadata": {},
   "outputs": [],
   "source": [
    "# instantiate\n",
    "scaler = StandardScaler()\n",
    "\n",
    "# fit train set\n",
    "scaler.fit(X_train)\n",
    "\n",
    "# transform train and test sets\n",
    "X_train_scaled = scaler.transform(X_train)\n",
    "X_test_scaled = scaler.transform(X_test)"
   ]
  },
  {
   "cell_type": "markdown",
   "id": "db4b1e97",
   "metadata": {},
   "source": [
    "We used the Standard Scaler here, but we will try to combine scalers as we did in Logistic Regression (refer to 'Capstone Project - Logistic Regression' notebook). We will run the model with default parameters first (5 neighbors):"
   ]
  },
  {
   "cell_type": "code",
   "execution_count": 29,
   "id": "8df8817c",
   "metadata": {
    "scrolled": true
   },
   "outputs": [
    {
     "name": "stdout",
     "output_type": "stream",
     "text": [
      "Train set accuracy: 87.2%\n",
      "Test set accuracy: 81.1%\n"
     ]
    }
   ],
   "source": [
    "# instantiate\n",
    "KNN_model = KNeighborsClassifier()   # default 5 neighbors\n",
    "\n",
    "# fit on train set\n",
    "KNN_model.fit(X_train_scaled, y_train)\n",
    "\n",
    "# score on train and test sets \n",
    "print(f'Train set accuracy: {round(KNN_model.score(X_train_scaled, y_train)*100,1)}%')\n",
    "print(f'Test set accuracy: {round(KNN_model.score(X_test_scaled, y_test)*100,1)}%')"
   ]
  },
  {
   "cell_type": "markdown",
   "id": "053d2f62",
   "metadata": {},
   "source": [
    "This is a great starting point. There is slight overfitting -- we can try to adjust the hyperparameters for this."
   ]
  },
  {
   "cell_type": "code",
   "execution_count": 30,
   "id": "3b6b151c",
   "metadata": {},
   "outputs": [
    {
     "data": {
      "image/png": "[encoded data removed]",
      "text/plain": [
       "<Figure size 1080x360 with 1 Axes>"
      ]
     },
     "metadata": {
      "needs_background": "light"
     },
     "output_type": "display_data"
    }
   ],
   "source": [
    "# find the average cross val scores across different parameters (n_neighbors)\n",
    "\n",
    "cross_validation_scores = []\n",
    "\n",
    "neighbors = range(2,100,10)\n",
    "\n",
    "#Do some cross validation\n",
    "for k in neighbors:\n",
    "    model = KNeighborsClassifier(n_neighbors=k)\n",
    "    \n",
    "    # mean of cross val scores\n",
    "    cv_score = np.mean(cross_val_score(model, X_train_scaled, y_train, cv = 5))\n",
    "    \n",
    "    # append to empty list\n",
    "    cross_validation_scores.append(cv_score)\n",
    "    \n",
    "plt.figure(figsize=(15,5))\n",
    "plt.plot(neighbors, cross_validation_scores,label=\"Cross Validation Score\",marker='o', color='skyblue')\n",
    "plt.xlabel('K Neighbors')\n",
    "plt.ylabel('Cross Validation Score')\n",
    "plt.grid()\n",
    "plt.legend()\n",
    "plt.show()"
   ]
  },
  {
   "cell_type": "markdown",
   "id": "b5f24418",
   "metadata": {},
   "source": [
    "From the graph above, it looks like 22 neighbors is the optimal point."
   ]
  },
  {
   "cell_type": "code",
   "execution_count": 14,
   "id": "a3177678",
   "metadata": {},
   "outputs": [
    {
     "name": "stdout",
     "output_type": "stream",
     "text": [
      "Train set accuracy: 82.9%\n",
      "Test set accuracy: 81.8%\n"
     ]
    }
   ],
   "source": [
    "# re-run the model\n",
    "KNN_model = KNeighborsClassifier(n_neighbors=22)\n",
    "KNN_model.fit(X_train_scaled, y_train)\n",
    "print(f'Train set accuracy: {round(KNN_model.score(X_train_scaled, y_train)*100,1)}%')\n",
    "print(f'Test set accuracy: {round(KNN_model.score(X_test_scaled, y_test)*100,1)}%')"
   ]
  },
  {
   "cell_type": "markdown",
   "id": "6f999892",
   "metadata": {},
   "source": [
    "Our scores improved slightly. But we will try and run the model with combined scalers this time."
   ]
  },
  {
   "cell_type": "code",
   "execution_count": 31,
   "id": "89751370",
   "metadata": {},
   "outputs": [],
   "source": [
    "# assign columns for StandardScaler()\n",
    "std_cols = ['artist_popularity', 'track_popularity', 'duration_ms', 'danceability', 'energy', 'loudness', 'valence',\n",
    "           'tempo'] \n",
    "\n",
    "# create a pipeline\n",
    "std_cols_transform = Pipeline([('scaler', StandardScaler())], memory=cachedir)\n",
    "\n",
    "# assign columns for MinMaxScaler()\n",
    "mm_cols = ['artist_followers', 'release_year', 'release_month', 'key', 'mode', 'speechiness', 'acousticness',\n",
    "           'instrumentalness', 'liveness', 'time_signature', 'major_label', 'genre_pop', 'genre_screen', 'genre_hiphop',\n",
    "          'genre_punk', 'genre_blues', 'genre_country', 'genre_rnb', 'genre_rock', 'genre_latin', 'genre_dance', \n",
    "           'genre_indie', 'genre_elect', 'genre_gospel', 'genre_chill']\n",
    "\n",
    "# create a pipeline\n",
    "mm_cols_transform = Pipeline([('scaler', MinMaxScaler())], memory=cachedir)\n",
    "\n",
    "# instantiate ColumnTransformer\n",
    "preprocessor = ColumnTransformer(\n",
    "    transformers=[('standard', std_cols_transform, std_cols),\n",
    "                  ('minmax', mm_cols_transform, mm_cols)])\n",
    "\n",
    "# set up pipeline\n",
    "pipe = Pipeline([\n",
    "    ('preprocessor', preprocessor),\n",
    "    ('model', KNeighborsClassifier())\n",
    "])\n",
    "\n",
    "# run a grid search\n",
    "param_grid = [{\n",
    "    'model__n_neighbors': [5,10,15,20,25,30,35],\n",
    "}]\n",
    "\n",
    "# set up gridsearch cross validation\n",
    "grid = GridSearchCV(pipe, param_grid, cv=5)\n",
    "\n",
    "# fit train set\n",
    "fittedgrid = grid.fit(X_train, y_train)"
   ]
  },
  {
   "cell_type": "code",
   "execution_count": 35,
   "id": "aa826c41",
   "metadata": {},
   "outputs": [
    {
     "data": {
      "text/plain": [
       "{'model__n_neighbors': 15}"
      ]
     },
     "execution_count": 35,
     "metadata": {},
     "output_type": "execute_result"
    }
   ],
   "source": [
    "fittedgrid.best_params_"
   ]
  },
  {
   "cell_type": "code",
   "execution_count": 34,
   "id": "4108be21",
   "metadata": {},
   "outputs": [
    {
     "name": "stdout",
     "output_type": "stream",
     "text": [
      "Train set accuracy: 84.1%\n",
      "Train set accuracy: 83.5%\n"
     ]
    }
   ],
   "source": [
    "print(f'Train set accuracy: {round(fittedgrid.score(X_train, y_train)*100,1)}%')\n",
    "print(f'Train set accuracy: {round(fittedgrid.score(X_test, y_test)*100,1)}%')"
   ]
  },
  {
   "cell_type": "markdown",
   "id": "ef7ee93c",
   "metadata": {},
   "source": [
    "By combining our scalers and optimizing the hyperparameter to 15 neighbors, we achieved our best accuracy score of 83.5% on our test set."
   ]
  },
  {
   "cell_type": "markdown",
   "id": "f03155cf",
   "metadata": {},
   "source": [
    "---\n",
    "### Support Vector Machines<a class=\"anchor\" id=\"svm\"></a>"
   ]
  },
  {
   "cell_type": "markdown",
   "id": "24d7eec3",
   "metadata": {},
   "source": [
    "SVM's (or Support Vector Machines) are also Machine Learning classifiers that tries to maximize the *distance* (or margin) between the decision boundary and the data points. How strict we want this to be can be adjusted with the $C$ parameter. What is also unique about SVM models is that there are other kernels that can classify *non-linear* data. \n",
    "\n",
    "We will fit the data on different kernels using Standard Scaler:"
   ]
  },
  {
   "cell_type": "code",
   "execution_count": 38,
   "id": "f5666dd3",
   "metadata": {
    "scrolled": true
   },
   "outputs": [
    {
     "name": "stdout",
     "output_type": "stream",
     "text": [
      "Kernel: linear\n",
      "Train set accuracy: 81.8%\n",
      "Test set accuracy: 81.8%\n",
      "---------------------------------\n",
      "Kernel: rbf\n",
      "Train set accuracy: 88.5%\n",
      "Test set accuracy: 86.4%\n",
      "---------------------------------\n",
      "Kernel: poly\n",
      "Train set accuracy: 88.3%\n",
      "Test set accuracy: 84.3%\n",
      "---------------------------------\n",
      "Kernel: sigmoid\n",
      "Train set accuracy: 71.6%\n",
      "Test set accuracy: 73.0%\n",
      "---------------------------------\n"
     ]
    }
   ],
   "source": [
    "kernels = ['linear', 'rbf', 'poly', 'sigmoid']\n",
    "\n",
    "for kernel in kernels:\n",
    "    model = SVC(kernel=kernel)\n",
    "    model.fit(X_train_scaled, y_train)\n",
    "    print(f'Kernel: {kernel}')\n",
    "    print(f'Train set accuracy: {round(model.score(X_train_scaled, y_train)*100,1)}%')\n",
    "    print(f'Test set accuracy: {round(model.score(X_test_scaled, y_test)*100,1)}%')\n",
    "    print('---------------------------------')"
   ]
  },
  {
   "cell_type": "markdown",
   "id": "6b9e1747",
   "metadata": {},
   "source": [
    "Now we will try to run a GridSearch with combined scalers and see which kernel gives us the best performance."
   ]
  },
  {
   "cell_type": "code",
   "execution_count": 39,
   "id": "c152b144",
   "metadata": {},
   "outputs": [],
   "source": [
    "# set up pipeline\n",
    "pipe = Pipeline([\n",
    "    ('preprocessor', preprocessor),\n",
    "    ('model', SVC())\n",
    "])\n",
    "\n",
    "# run a grid search\n",
    "param_grid = [{\n",
    "    'model__kernel': ['linear', 'rbf', 'poly', 'sigmoid'],\n",
    "}]\n",
    "\n",
    "# set up gridsearch cross validation\n",
    "grid = GridSearchCV(pipe, param_grid, cv=5)\n",
    "\n",
    "# fit train set\n",
    "fittedgrid = grid.fit(X_train, y_train)"
   ]
  },
  {
   "cell_type": "code",
   "execution_count": 40,
   "id": "763f8183",
   "metadata": {},
   "outputs": [
    {
     "data": {
      "text/html": [
       "<style>#sk-container-id-1 {color: black;background-color: white;}#sk-container-id-1 pre{padding: 0;}#sk-container-id-1 div.sk-toggleable {background-color: white;}#sk-container-id-1 label.sk-toggleable__label {cursor: pointer;display: block;width: 100%;margin-bottom: 0;padding: 0.3em;box-sizing: border-box;text-align: center;}#sk-container-id-1 label.sk-toggleable__label-arrow:before {content: \"▸\";float: left;margin-right: 0.25em;color: #696969;}#sk-container-id-1 label.sk-toggleable__label-arrow:hover:before {color: black;}#sk-container-id-1 div.sk-estimator:hover label.sk-toggleable__label-arrow:before {color: black;}#sk-container-id-1 div.sk-toggleable__content {max-height: 0;max-width: 0;overflow: hidden;text-align: left;background-color: #f0f8ff;}#sk-container-id-1 div.sk-toggleable__content pre {margin: 0.2em;color: black;border-radius: 0.25em;background-color: #f0f8ff;}#sk-container-id-1 input.sk-toggleable__control:checked~div.sk-toggleable__content {max-height: 200px;max-width: 100%;overflow: auto;}#sk-container-id-1 input.sk-toggleable__control:checked~label.sk-toggleable__label-arrow:before {content: \"▾\";}#sk-container-id-1 div.sk-estimator input.sk-toggleable__control:checked~label.sk-toggleable__label {background-color: #d4ebff;}#sk-container-id-1 div.sk-label input.sk-toggleable__control:checked~label.sk-toggleable__label {background-color: #d4ebff;}#sk-container-id-1 input.sk-hidden--visually {border: 0;clip: rect(1px 1px 1px 1px);clip: rect(1px, 1px, 1px, 1px);height: 1px;margin: -1px;overflow: hidden;padding: 0;position: absolute;width: 1px;}#sk-container-id-1 div.sk-estimator {font-family: monospace;background-color: #f0f8ff;border: 1px dotted black;border-radius: 0.25em;box-sizing: border-box;margin-bottom: 0.5em;}#sk-container-id-1 div.sk-estimator:hover {background-color: #d4ebff;}#sk-container-id-1 div.sk-parallel-item::after {content: \"\";width: 100%;border-bottom: 1px solid gray;flex-grow: 1;}#sk-container-id-1 div.sk-label:hover label.sk-toggleable__label {background-color: #d4ebff;}#sk-container-id-1 div.sk-serial::before {content: \"\";position: absolute;border-left: 1px solid gray;box-sizing: border-box;top: 0;bottom: 0;left: 50%;z-index: 0;}#sk-container-id-1 div.sk-serial {display: flex;flex-direction: column;align-items: center;background-color: white;padding-right: 0.2em;padding-left: 0.2em;position: relative;}#sk-container-id-1 div.sk-item {position: relative;z-index: 1;}#sk-container-id-1 div.sk-parallel {display: flex;align-items: stretch;justify-content: center;background-color: white;position: relative;}#sk-container-id-1 div.sk-item::before, #sk-container-id-1 div.sk-parallel-item::before {content: \"\";position: absolute;border-left: 1px solid gray;box-sizing: border-box;top: 0;bottom: 0;left: 50%;z-index: -1;}#sk-container-id-1 div.sk-parallel-item {display: flex;flex-direction: column;z-index: 1;position: relative;background-color: white;}#sk-container-id-1 div.sk-parallel-item:first-child::after {align-self: flex-end;width: 50%;}#sk-container-id-1 div.sk-parallel-item:last-child::after {align-self: flex-start;width: 50%;}#sk-container-id-1 div.sk-parallel-item:only-child::after {width: 0;}#sk-container-id-1 div.sk-dashed-wrapped {border: 1px dashed gray;margin: 0 0.4em 0.5em 0.4em;box-sizing: border-box;padding-bottom: 0.4em;background-color: white;}#sk-container-id-1 div.sk-label label {font-family: monospace;font-weight: bold;display: inline-block;line-height: 1.2em;}#sk-container-id-1 div.sk-label-container {text-align: center;}#sk-container-id-1 div.sk-container {/* jupyter's `normalize.less` sets `[hidden] { display: none; }` but bootstrap.min.css set `[hidden] { display: none !important; }` so we also need the `!important` here to be able to override the default hidden behavior on the sphinx rendered scikit-learn.org. See: https://github.com/scikit-learn/scikit-learn/issues/21755 */display: inline-block !important;position: relative;}#sk-container-id-1 div.sk-text-repr-fallback {display: none;}</style><div id=\"sk-container-id-1\" class=\"sk-top-container\"><div class=\"sk-text-repr-fallback\"><pre>Pipeline(steps=[(&#x27;preprocessor&#x27;,\n",
       "                 ColumnTransformer(transformers=[(&#x27;standard&#x27;,\n",
       "                                                  Pipeline(memory=&#x27;C:\\\\Users\\\\eunji\\\\AppData\\\\Local\\\\Temp\\\\tmpq35ouzb_&#x27;,\n",
       "                                                           steps=[(&#x27;scaler&#x27;,\n",
       "                                                                   StandardScaler())]),\n",
       "                                                  [&#x27;artist_popularity&#x27;,\n",
       "                                                   &#x27;track_popularity&#x27;,\n",
       "                                                   &#x27;duration_ms&#x27;,\n",
       "                                                   &#x27;danceability&#x27;, &#x27;energy&#x27;,\n",
       "                                                   &#x27;loudness&#x27;, &#x27;valence&#x27;,\n",
       "                                                   &#x27;tempo&#x27;]),\n",
       "                                                 (&#x27;minmax&#x27;,\n",
       "                                                  Pipeline(memory=&#x27;C:\\\\Users\\\\eunji\\\\AppData\\\\Loca...\n",
       "                                                   &#x27;release_year&#x27;,\n",
       "                                                   &#x27;release_month&#x27;, &#x27;key&#x27;,\n",
       "                                                   &#x27;mode&#x27;, &#x27;speechiness&#x27;,\n",
       "                                                   &#x27;acousticness&#x27;,\n",
       "                                                   &#x27;instrumentalness&#x27;,\n",
       "                                                   &#x27;liveness&#x27;, &#x27;time_signature&#x27;,\n",
       "                                                   &#x27;major_label&#x27;, &#x27;genre_pop&#x27;,\n",
       "                                                   &#x27;genre_screen&#x27;,\n",
       "                                                   &#x27;genre_hiphop&#x27;, &#x27;genre_punk&#x27;,\n",
       "                                                   &#x27;genre_blues&#x27;,\n",
       "                                                   &#x27;genre_country&#x27;, &#x27;genre_rnb&#x27;,\n",
       "                                                   &#x27;genre_rock&#x27;, &#x27;genre_latin&#x27;,\n",
       "                                                   &#x27;genre_dance&#x27;, &#x27;genre_indie&#x27;,\n",
       "                                                   &#x27;genre_elect&#x27;,\n",
       "                                                   &#x27;genre_gospel&#x27;,\n",
       "                                                   &#x27;genre_chill&#x27;])])),\n",
       "                (&#x27;model&#x27;, SVC(kernel=&#x27;poly&#x27;))])</pre><b>In a Jupyter environment, please rerun this cell to show the HTML representation or trust the notebook. <br />On GitHub, the HTML representation is unable to render, please try loading this page with nbviewer.org.</b></div><div class=\"sk-container\" hidden><div class=\"sk-item sk-dashed-wrapped\"><div class=\"sk-label-container\"><div class=\"sk-label sk-toggleable\"><input class=\"sk-toggleable__control sk-hidden--visually\" id=\"sk-estimator-id-1\" type=\"checkbox\" ><label for=\"sk-estimator-id-1\" class=\"sk-toggleable__label sk-toggleable__label-arrow\">Pipeline</label><div class=\"sk-toggleable__content\"><pre>Pipeline(steps=[(&#x27;preprocessor&#x27;,\n",
       "                 ColumnTransformer(transformers=[(&#x27;standard&#x27;,\n",
       "                                                  Pipeline(memory=&#x27;C:\\\\Users\\\\eunji\\\\AppData\\\\Local\\\\Temp\\\\tmpq35ouzb_&#x27;,\n",
       "                                                           steps=[(&#x27;scaler&#x27;,\n",
       "                                                                   StandardScaler())]),\n",
       "                                                  [&#x27;artist_popularity&#x27;,\n",
       "                                                   &#x27;track_popularity&#x27;,\n",
       "                                                   &#x27;duration_ms&#x27;,\n",
       "                                                   &#x27;danceability&#x27;, &#x27;energy&#x27;,\n",
       "                                                   &#x27;loudness&#x27;, &#x27;valence&#x27;,\n",
       "                                                   &#x27;tempo&#x27;]),\n",
       "                                                 (&#x27;minmax&#x27;,\n",
       "                                                  Pipeline(memory=&#x27;C:\\\\Users\\\\eunji\\\\AppData\\\\Loca...\n",
       "                                                   &#x27;release_year&#x27;,\n",
       "                                                   &#x27;release_month&#x27;, &#x27;key&#x27;,\n",
       "                                                   &#x27;mode&#x27;, &#x27;speechiness&#x27;,\n",
       "                                                   &#x27;acousticness&#x27;,\n",
       "                                                   &#x27;instrumentalness&#x27;,\n",
       "                                                   &#x27;liveness&#x27;, &#x27;time_signature&#x27;,\n",
       "                                                   &#x27;major_label&#x27;, &#x27;genre_pop&#x27;,\n",
       "                                                   &#x27;genre_screen&#x27;,\n",
       "                                                   &#x27;genre_hiphop&#x27;, &#x27;genre_punk&#x27;,\n",
       "                                                   &#x27;genre_blues&#x27;,\n",
       "                                                   &#x27;genre_country&#x27;, &#x27;genre_rnb&#x27;,\n",
       "                                                   &#x27;genre_rock&#x27;, &#x27;genre_latin&#x27;,\n",
       "                                                   &#x27;genre_dance&#x27;, &#x27;genre_indie&#x27;,\n",
       "                                                   &#x27;genre_elect&#x27;,\n",
       "                                                   &#x27;genre_gospel&#x27;,\n",
       "                                                   &#x27;genre_chill&#x27;])])),\n",
       "                (&#x27;model&#x27;, SVC(kernel=&#x27;poly&#x27;))])</pre></div></div></div><div class=\"sk-serial\"><div class=\"sk-item sk-dashed-wrapped\"><div class=\"sk-label-container\"><div class=\"sk-label sk-toggleable\"><input class=\"sk-toggleable__control sk-hidden--visually\" id=\"sk-estimator-id-2\" type=\"checkbox\" ><label for=\"sk-estimator-id-2\" class=\"sk-toggleable__label sk-toggleable__label-arrow\">preprocessor: ColumnTransformer</label><div class=\"sk-toggleable__content\"><pre>ColumnTransformer(transformers=[(&#x27;standard&#x27;,\n",
       "                                 Pipeline(memory=&#x27;C:\\\\Users\\\\eunji\\\\AppData\\\\Local\\\\Temp\\\\tmpq35ouzb_&#x27;,\n",
       "                                          steps=[(&#x27;scaler&#x27;, StandardScaler())]),\n",
       "                                 [&#x27;artist_popularity&#x27;, &#x27;track_popularity&#x27;,\n",
       "                                  &#x27;duration_ms&#x27;, &#x27;danceability&#x27;, &#x27;energy&#x27;,\n",
       "                                  &#x27;loudness&#x27;, &#x27;valence&#x27;, &#x27;tempo&#x27;]),\n",
       "                                (&#x27;minmax&#x27;,\n",
       "                                 Pipeline(memory=&#x27;C:\\\\Users\\\\eunji\\\\AppData\\\\Local\\\\Temp\\\\tmpq35ouzb_&#x27;,\n",
       "                                          steps=[(&#x27;s...\n",
       "                                 [&#x27;artist_followers&#x27;, &#x27;release_year&#x27;,\n",
       "                                  &#x27;release_month&#x27;, &#x27;key&#x27;, &#x27;mode&#x27;, &#x27;speechiness&#x27;,\n",
       "                                  &#x27;acousticness&#x27;, &#x27;instrumentalness&#x27;,\n",
       "                                  &#x27;liveness&#x27;, &#x27;time_signature&#x27;, &#x27;major_label&#x27;,\n",
       "                                  &#x27;genre_pop&#x27;, &#x27;genre_screen&#x27;, &#x27;genre_hiphop&#x27;,\n",
       "                                  &#x27;genre_punk&#x27;, &#x27;genre_blues&#x27;, &#x27;genre_country&#x27;,\n",
       "                                  &#x27;genre_rnb&#x27;, &#x27;genre_rock&#x27;, &#x27;genre_latin&#x27;,\n",
       "                                  &#x27;genre_dance&#x27;, &#x27;genre_indie&#x27;, &#x27;genre_elect&#x27;,\n",
       "                                  &#x27;genre_gospel&#x27;, &#x27;genre_chill&#x27;])])</pre></div></div></div><div class=\"sk-parallel\"><div class=\"sk-parallel-item\"><div class=\"sk-item\"><div class=\"sk-label-container\"><div class=\"sk-label sk-toggleable\"><input class=\"sk-toggleable__control sk-hidden--visually\" id=\"sk-estimator-id-3\" type=\"checkbox\" ><label for=\"sk-estimator-id-3\" class=\"sk-toggleable__label sk-toggleable__label-arrow\">standard</label><div class=\"sk-toggleable__content\"><pre>[&#x27;artist_popularity&#x27;, &#x27;track_popularity&#x27;, &#x27;duration_ms&#x27;, &#x27;danceability&#x27;, &#x27;energy&#x27;, &#x27;loudness&#x27;, &#x27;valence&#x27;, &#x27;tempo&#x27;]</pre></div></div></div><div class=\"sk-serial\"><div class=\"sk-item\"><div class=\"sk-serial\"><div class=\"sk-item\"><div class=\"sk-estimator sk-toggleable\"><input class=\"sk-toggleable__control sk-hidden--visually\" id=\"sk-estimator-id-4\" type=\"checkbox\" ><label for=\"sk-estimator-id-4\" class=\"sk-toggleable__label sk-toggleable__label-arrow\">StandardScaler</label><div class=\"sk-toggleable__content\"><pre>StandardScaler()</pre></div></div></div></div></div></div></div></div><div class=\"sk-parallel-item\"><div class=\"sk-item\"><div class=\"sk-label-container\"><div class=\"sk-label sk-toggleable\"><input class=\"sk-toggleable__control sk-hidden--visually\" id=\"sk-estimator-id-5\" type=\"checkbox\" ><label for=\"sk-estimator-id-5\" class=\"sk-toggleable__label sk-toggleable__label-arrow\">minmax</label><div class=\"sk-toggleable__content\"><pre>[&#x27;artist_followers&#x27;, &#x27;release_year&#x27;, &#x27;release_month&#x27;, &#x27;key&#x27;, &#x27;mode&#x27;, &#x27;speechiness&#x27;, &#x27;acousticness&#x27;, &#x27;instrumentalness&#x27;, &#x27;liveness&#x27;, &#x27;time_signature&#x27;, &#x27;major_label&#x27;, &#x27;genre_pop&#x27;, &#x27;genre_screen&#x27;, &#x27;genre_hiphop&#x27;, &#x27;genre_punk&#x27;, &#x27;genre_blues&#x27;, &#x27;genre_country&#x27;, &#x27;genre_rnb&#x27;, &#x27;genre_rock&#x27;, &#x27;genre_latin&#x27;, &#x27;genre_dance&#x27;, &#x27;genre_indie&#x27;, &#x27;genre_elect&#x27;, &#x27;genre_gospel&#x27;, &#x27;genre_chill&#x27;]</pre></div></div></div><div class=\"sk-serial\"><div class=\"sk-item\"><div class=\"sk-serial\"><div class=\"sk-item\"><div class=\"sk-estimator sk-toggleable\"><input class=\"sk-toggleable__control sk-hidden--visually\" id=\"sk-estimator-id-6\" type=\"checkbox\" ><label for=\"sk-estimator-id-6\" class=\"sk-toggleable__label sk-toggleable__label-arrow\">MinMaxScaler</label><div class=\"sk-toggleable__content\"><pre>MinMaxScaler()</pre></div></div></div></div></div></div></div></div></div></div><div class=\"sk-item\"><div class=\"sk-estimator sk-toggleable\"><input class=\"sk-toggleable__control sk-hidden--visually\" id=\"sk-estimator-id-7\" type=\"checkbox\" ><label for=\"sk-estimator-id-7\" class=\"sk-toggleable__label sk-toggleable__label-arrow\">SVC</label><div class=\"sk-toggleable__content\"><pre>SVC(kernel=&#x27;poly&#x27;)</pre></div></div></div></div></div></div></div>"
      ],
      "text/plain": [
       "Pipeline(steps=[('preprocessor',\n",
       "                 ColumnTransformer(transformers=[('standard',\n",
       "                                                  Pipeline(memory='C:\\\\Users\\\\eunji\\\\AppData\\\\Local\\\\Temp\\\\tmpq35ouzb_',\n",
       "                                                           steps=[('scaler',\n",
       "                                                                   StandardScaler())]),\n",
       "                                                  ['artist_popularity',\n",
       "                                                   'track_popularity',\n",
       "                                                   'duration_ms',\n",
       "                                                   'danceability', 'energy',\n",
       "                                                   'loudness', 'valence',\n",
       "                                                   'tempo']),\n",
       "                                                 ('minmax',\n",
       "                                                  Pipeline(memory='C:\\\\Users\\\\eunji\\\\AppData\\\\Loca...\n",
       "                                                   'release_year',\n",
       "                                                   'release_month', 'key',\n",
       "                                                   'mode', 'speechiness',\n",
       "                                                   'acousticness',\n",
       "                                                   'instrumentalness',\n",
       "                                                   'liveness', 'time_signature',\n",
       "                                                   'major_label', 'genre_pop',\n",
       "                                                   'genre_screen',\n",
       "                                                   'genre_hiphop', 'genre_punk',\n",
       "                                                   'genre_blues',\n",
       "                                                   'genre_country', 'genre_rnb',\n",
       "                                                   'genre_rock', 'genre_latin',\n",
       "                                                   'genre_dance', 'genre_indie',\n",
       "                                                   'genre_elect',\n",
       "                                                   'genre_gospel',\n",
       "                                                   'genre_chill'])])),\n",
       "                ('model', SVC(kernel='poly'))])"
      ]
     },
     "execution_count": 40,
     "metadata": {},
     "output_type": "execute_result"
    }
   ],
   "source": [
    "# Best estimator object\n",
    "fittedgrid.best_estimator_"
   ]
  },
  {
   "cell_type": "code",
   "execution_count": 41,
   "id": "08b88ffb",
   "metadata": {},
   "outputs": [
    {
     "data": {
      "text/plain": [
       "{'model__kernel': 'poly'}"
      ]
     },
     "execution_count": 41,
     "metadata": {},
     "output_type": "execute_result"
    }
   ],
   "source": [
    "fittedgrid.best_params_"
   ]
  },
  {
   "cell_type": "code",
   "execution_count": 42,
   "id": "973fd023",
   "metadata": {},
   "outputs": [
    {
     "name": "stdout",
     "output_type": "stream",
     "text": [
      "Train set accuracy: 86.8%\n",
      "Train set accuracy: 85.2%\n"
     ]
    }
   ],
   "source": [
    "print(f'Train set accuracy: {round(fittedgrid.score(X_train, y_train)*100,1)}%')\n",
    "print(f'Train set accuracy: {round(fittedgrid.score(X_test, y_test)*100,1)}%')"
   ]
  },
  {
   "cell_type": "markdown",
   "id": "2c31f7a3",
   "metadata": {},
   "source": [
    "Interesting to note that with the Standard Scaler, `kernel='rbf`' gave us the best results of 86.4% on the test set, but when we combine our scalers, the GridSearch gives us the best model under `kernel='poly'` with 85.2% accuracy on the test set."
   ]
  },
  {
   "cell_type": "markdown",
   "id": "fad89a49",
   "metadata": {},
   "source": [
    "---\n",
    "\n",
    "<center>2022 BrainStation Capstone Project\n",
    "    <br>\"Is the song <i>hot enough</i> for Billboard Hot100?\"\n",
    "    <br>by Hailey Lee</center>"
   ]
  }
 ],
 "metadata": {
  "kernelspec": {
   "display_name": "Python [conda env:capstone_final]",
   "language": "python",
   "name": "conda-env-capstone_final-py"
  },
  "language_info": {
   "codemirror_mode": {
    "name": "ipython",
    "version": 3
   },
   "file_extension": ".py",
   "mimetype": "text/x-python",
   "name": "python",
   "nbconvert_exporter": "python",
   "pygments_lexer": "ipython3",
   "version": "3.8.13"
  }
 },
 "nbformat": 4,
 "nbformat_minor": 5
}
